{
 "cells": [
  {
   "cell_type": "markdown",
   "id": "5169540b",
   "metadata": {},
   "source": [
    "# Prediction Model Quality"
   ]
  },
  {
   "cell_type": "markdown",
   "id": "94641678",
   "metadata": {},
   "source": [
    "## Task Reuirements"
   ]
  },
  {
   "cell_type": "markdown",
   "id": "724f1b36",
   "metadata": {},
   "source": [
    "As the input we have some prediction model of new stores which are going to be launched to our internet-market. \n",
    "\n",
    "We understand that the main goal is related to a big overall number of such stores so we have to sort it somehow. The model was deployed as the result of linear regression which was named a potential. It means that each existing store has its own score (potential) and its value schould be related to store gross merchandise volume for some period. \n",
    "\n",
    "In this task we're going to estimate the quality of this model."
   ]
  },
  {
   "cell_type": "markdown",
   "id": "f7461e94",
   "metadata": {},
   "source": [
    "## Data Preparation"
   ]
  },
  {
   "cell_type": "code",
   "execution_count": 83,
   "id": "8ad34486",
   "metadata": {},
   "outputs": [],
   "source": [
    "import pandas as pd\n",
    "import plotly.express as px\n",
    "import warnings\n",
    "from scipy import stats "
   ]
  },
  {
   "cell_type": "code",
   "execution_count": null,
   "id": "45bfeedc",
   "metadata": {},
   "outputs": [],
   "source": [
    "import mysql.connector  \n",
    "import csv\n",
    "\n",
    "db = mysql.connector.connect(host=\"******\",    # your host, usually localhost\n",
    "                     user=\"root\",         # your username\n",
    "                     passwd=\"**********\",  # your password\n",
    "                     db=\"***\")        # name of the data base\n",
    "\n",
    "cursor = db.cursor()\n",
    "cursor.execute(\n",
    "\n",
    "\"\"\"\n",
    "with orders \n",
    "as \n",
    "(\n",
    "    select \n",
    "    o.store_id as store_id \n",
    "    , o.order_id as order_id\n",
    "    , (coalesce( (o.order_cost_lcy, 0) * o.currency_rate) as order_sum \n",
    "    , datediff ( \n",
    "        coalesce( o.utc_created_dttm, o.utc_cancelled_dttm, o.utc_confirmed_dttm) \n",
    "        , min (p.utc_created_dttm) over (partition by store_id) \n",
    "    ) as order_day_number    \n",
    "    , min (p.utc_created_dttm) over (partition by store_id) as store_firstly_created\n",
    "    from data.orders_data as o \n",
    "    inner join data.store_data as p \n",
    "    on o.store_id = p.store_id\n",
    "    where coalesce( o.utc_created_dttm, o.utc_cancelled_dttm, o.utc_confirmed_dttm) between MakeDate(2021, 120) and MakeDate(2021, 250)\n",
    ")\n",
    "\n",
    "select \n",
    "p.store_id as store_id\n",
    ", p.order_day_number as order_day_number\n",
    ", p.max_order_day_number as max_order_day_number\n",
    ", p.store_firstly_created as store_firstly_created\n",
    ", p.order_count_per_store as order_count_per_store\n",
    ", p.orders_sum_per_store as orders_sum_per_store\n",
    ", p.days_worked as days_worked\n",
    ", t.medal as medal\n",
    ", t.potential as potential\n",
    "from \n",
    "(\n",
    "    select \n",
    "    store_id\n",
    "    , order_day_number\n",
    "    , max_order_day_number\n",
    "    , store_firstly_created\n",
    "    , count(order_id) as order_count_per_store\n",
    "    , sum(order_sum) as orders_sum_per_store\n",
    "    , count(distinct order_day_number) as days_worked\n",
    "    from \n",
    "    (\n",
    "        select \n",
    "        store_id\n",
    "        , order_id\n",
    "        , order_sum\n",
    "        , order_day_number\n",
    "        , store_firstly_created\n",
    "        , max(order_day_number) over (partition by store_id) as max_order_day_number\n",
    "        from orders \n",
    "    )\n",
    "    group by \n",
    "    store_id\n",
    "    , order_day_number\n",
    "    , max_order_day_number\n",
    "    , store_firstly_created\n",
    ") as p\n",
    "\n",
    "left join \n",
    "(\n",
    "    select distinct \n",
    "    sd.store_id as store_id\n",
    "    , pd.potential as potential\n",
    "    , pd.medal as medal\n",
    "    , pd.pot_launched_dttm as pot_launched_dttm\n",
    "    from data.potential_data as pd \n",
    "    inner join data.store_data as sd \n",
    "    on pd.id = sd.pot_id  \n",
    ") as t \n",
    "on p.store_id = t.store_id and p.store_firstly_created = t.pot_launched_dttm\n",
    "\"\"\"\n",
    ")\n",
    "\n",
    "result = cursor.fetchall()\n",
    "\n",
    "fp = open('stores_frame.csv', 'w')\n",
    "myFile = csv.writer(fp)\n",
    "myFile.writerows(result)\n",
    "fp.close()\n",
    "db.close()"
   ]
  },
  {
   "cell_type": "markdown",
   "id": "b7963044",
   "metadata": {},
   "source": [
    "The sql-script result is in csv below."
   ]
  },
  {
   "cell_type": "code",
   "execution_count": 72,
   "id": "162bbec5",
   "metadata": {},
   "outputs": [
    {
     "data": {
      "text/html": [
       "<div>\n",
       "<style scoped>\n",
       "    .dataframe tbody tr th:only-of-type {\n",
       "        vertical-align: middle;\n",
       "    }\n",
       "\n",
       "    .dataframe tbody tr th {\n",
       "        vertical-align: top;\n",
       "    }\n",
       "\n",
       "    .dataframe thead th {\n",
       "        text-align: right;\n",
       "    }\n",
       "</style>\n",
       "<table border=\"1\" class=\"dataframe\">\n",
       "  <thead>\n",
       "    <tr style=\"text-align: right;\">\n",
       "      <th></th>\n",
       "      <th>days_worked</th>\n",
       "      <th>order_day_number</th>\n",
       "      <th>store_firstly_created</th>\n",
       "      <th>max_order_day_number</th>\n",
       "      <th>order_count_per_store</th>\n",
       "      <th>orders_sum_per_store</th>\n",
       "      <th>medal</th>\n",
       "      <th>store_id</th>\n",
       "      <th>potential</th>\n",
       "    </tr>\n",
       "  </thead>\n",
       "  <tbody>\n",
       "    <tr>\n",
       "      <th>0</th>\n",
       "      <td>39</td>\n",
       "      <td>0</td>\n",
       "      <td>10.08.2021 11:11</td>\n",
       "      <td>47</td>\n",
       "      <td>10</td>\n",
       "      <td>6342</td>\n",
       "      <td>BRONSE</td>\n",
       "      <td>6150407691</td>\n",
       "      <td>5.416806</td>\n",
       "    </tr>\n",
       "    <tr>\n",
       "      <th>1</th>\n",
       "      <td>39</td>\n",
       "      <td>1</td>\n",
       "      <td>10.08.2021 11:11</td>\n",
       "      <td>47</td>\n",
       "      <td>3</td>\n",
       "      <td>4145</td>\n",
       "      <td>BRONSE</td>\n",
       "      <td>6150407691</td>\n",
       "      <td>5.416806</td>\n",
       "    </tr>\n",
       "    <tr>\n",
       "      <th>2</th>\n",
       "      <td>39</td>\n",
       "      <td>6</td>\n",
       "      <td>10.08.2021 11:11</td>\n",
       "      <td>47</td>\n",
       "      <td>1</td>\n",
       "      <td>1299</td>\n",
       "      <td>BRONSE</td>\n",
       "      <td>6150407691</td>\n",
       "      <td>5.416806</td>\n",
       "    </tr>\n",
       "    <tr>\n",
       "      <th>3</th>\n",
       "      <td>39</td>\n",
       "      <td>7</td>\n",
       "      <td>10.08.2021 11:11</td>\n",
       "      <td>47</td>\n",
       "      <td>3</td>\n",
       "      <td>1978</td>\n",
       "      <td>BRONSE</td>\n",
       "      <td>6150407691</td>\n",
       "      <td>5.416806</td>\n",
       "    </tr>\n",
       "    <tr>\n",
       "      <th>4</th>\n",
       "      <td>39</td>\n",
       "      <td>8</td>\n",
       "      <td>10.08.2021 11:11</td>\n",
       "      <td>47</td>\n",
       "      <td>1</td>\n",
       "      <td>1189</td>\n",
       "      <td>BRONSE</td>\n",
       "      <td>6150407691</td>\n",
       "      <td>5.416806</td>\n",
       "    </tr>\n",
       "  </tbody>\n",
       "</table>\n",
       "</div>"
      ],
      "text/plain": [
       "   days_worked  order_day_number store_firstly_created  max_order_day_number  \\\n",
       "0           39                 0      10.08.2021 11:11                    47   \n",
       "1           39                 1      10.08.2021 11:11                    47   \n",
       "2           39                 6      10.08.2021 11:11                    47   \n",
       "3           39                 7      10.08.2021 11:11                    47   \n",
       "4           39                 8      10.08.2021 11:11                    47   \n",
       "\n",
       "   order_count_per_store  orders_sum_per_store   medal    store_id  potential  \n",
       "0                     10                  6342  BRONSE  6150407691   5.416806  \n",
       "1                      3                  4145  BRONSE  6150407691   5.416806  \n",
       "2                      1                  1299  BRONSE  6150407691   5.416806  \n",
       "3                      3                  1978  BRONSE  6150407691   5.416806  \n",
       "4                      1                  1189  BRONSE  6150407691   5.416806  "
      ]
     },
     "execution_count": 72,
     "metadata": {},
     "output_type": "execute_result"
    }
   ],
   "source": [
    "final_dataframe = pd.read_csv('stores_frame.csv', sep = \";\")\n",
    "final_dataframe[:5]"
   ]
  },
  {
   "cell_type": "markdown",
   "id": "0a0e35fb",
   "metadata": {},
   "source": [
    "## Some overall statistics of stores results for first 90 days of work by medal groups"
   ]
  },
  {
   "cell_type": "code",
   "execution_count": 73,
   "id": "09d330be",
   "metadata": {},
   "outputs": [],
   "source": [
    "def groups_and_stats(df_input, n):\n",
    "    df_further = df_input.copy()\n",
    "    df_further['day'] = n\n",
    "    df = df_further.query('max_order_day_number >= day and order_day_number <= day')\n",
    "\n",
    "    k = df.groupby('store_id').count()[['medal']].reset_index()\n",
    "    k = k.rename(columns = {'medal': 'workdays'})   \n",
    "    \n",
    "    df_fin = pd.merge(df, k, how = 'left', left_on = ['store_id'], right_on = ['store_id'])    \n",
    "\n",
    "    df_result = df_fin.groupby(['store_id', 'max_order_day_number', 'workdays', 'medal']).sum()[['order_count_per_store', 'orders_sum_per_store']]\n",
    "    df_result = df_result.reset_index()\n",
    "\n",
    "    \n",
    "    df_stat = df_result.copy()\n",
    "    df_stat['orders_per_day'] = df_stat['order_count_per_store'] / n\n",
    "    df_stat['orders_per_int'] = df_stat['order_count_per_store'] / df_stat['workdays']\n",
    "    df_stat['gmv_per_day'] = df_stat['orders_sum_per_store'] / n\n",
    "    df_stat['gmv_per_int'] = df_stat['orders_sum_per_store'] / df_stat['workdays']\n",
    "    \n",
    "    df_stat_cnt = df_stat.groupby(\"medal\").count().store_id.reset_index()\n",
    "\n",
    "    df_stat_ord_mean = df_stat.groupby(\"medal\").mean().order_count_per_store\n",
    "    df_stat_ord_med = df_stat.groupby(\"medal\").median().order_count_per_store\n",
    "\n",
    "    df_stat_sum_mean = df_stat.groupby(\"medal\").mean().orders_sum_per_store\n",
    "    df_stat_sum_med = df_stat.groupby(\"medal\").median().orders_sum_per_store\n",
    "\n",
    "    df_stat_ord_day = df_stat.groupby(\"medal\").mean().orders_per_day\n",
    "    df_stat_ord_int = df_stat.groupby(\"medal\").mean().orders_per_int\n",
    "\n",
    "    df_stat_gmv_day = df_stat.groupby(\"medal\").mean().gmv_per_day\n",
    "    df_stat_gmv_int = df_stat.groupby(\"medal\").mean().gmv_per_int\n",
    "\n",
    "    df_stat_fin = pd.merge(df_stat_cnt, df_stat_ord_mean, how = 'left', left_on = ['medal'], right_on = ['medal'])\n",
    "    df_stat_fin = pd.merge(df_stat_fin, df_stat_ord_med, how = 'left', left_on = ['medal'], right_on = ['medal'])\n",
    "    df_stat_fin = pd.merge(df_stat_fin, df_stat_sum_mean, how = 'left', left_on = ['medal'], right_on = ['medal'])\n",
    "    df_stat_fin = pd.merge(df_stat_fin, df_stat_sum_med, how = 'left', left_on = ['medal'], right_on = ['medal'])\n",
    "    df_stat_fin = pd.merge(df_stat_fin, df_stat_ord_day, how = 'left', left_on = ['medal'], right_on = ['medal'])\n",
    "    df_stat_fin = pd.merge(df_stat_fin, df_stat_ord_int, how = 'left', left_on = ['medal'], right_on = ['medal'])\n",
    "    df_stat_fin = pd.merge(df_stat_fin, df_stat_gmv_day, how = 'left', left_on = ['medal'], right_on = ['medal'])\n",
    "    df_stat_fin = pd.merge(df_stat_fin, df_stat_gmv_int, how = 'left', left_on = ['medal'], right_on = ['medal'])\n",
    "\n",
    "    df_stat_fin = df_stat_fin.rename(columns = {'order_count_per_store_x': 'avg_orders_count', 'order_count_per_store_y': 'median_orders_count', 'orders_sum_per_store_x': 'avg_gmv', 'orders_sum_per_store_y': 'median_gmv'})    \n",
    "    df_stat_fin[\"avg_orders_count\"] = round(df_stat_fin[\"avg_orders_count\"], 1)\n",
    "    df_stat_fin[\"avg_gmv\"] = round(df_stat_fin[\"avg_gmv\"], 0)\n",
    "    df_stat_fin[\"median_gmv\"] = round(df_stat_fin[\"median_gmv\"], 0)\n",
    "    df_stat_fin[\"orders_per_day\"] = round(df_stat_fin[\"orders_per_day\"], 1)\n",
    "    df_stat_fin[\"orders_per_int\"] = round(df_stat_fin[\"orders_per_int\"], 1)\n",
    "    df_stat_fin[\"gmv_per_day\"] = round(df_stat_fin[\"gmv_per_day\"], 0)\n",
    "    df_stat_fin[\"gmv_per_int\"] = round(df_stat_fin[\"gmv_per_int\"], 0)\n",
    "    \n",
    "    return df_result, df_stat_fin"
   ]
  },
  {
   "cell_type": "code",
   "execution_count": 74,
   "id": "d6cc0b56",
   "metadata": {},
   "outputs": [
    {
     "name": "stdout",
     "output_type": "stream",
     "text": [
      "1029\n"
     ]
    }
   ],
   "source": [
    "warnings.filterwarnings(\"ignore\")\n",
    "df_sales = final_dataframe.copy()\n",
    "\n",
    "#the number of unique stores\n",
    "print(str(len(pd.unique(df_sales[\"store_id\"]))))"
   ]
  },
  {
   "cell_type": "code",
   "execution_count": 75,
   "id": "1e2d5f1a",
   "metadata": {},
   "outputs": [
    {
     "data": {
      "text/html": [
       "<div>\n",
       "<style scoped>\n",
       "    .dataframe tbody tr th:only-of-type {\n",
       "        vertical-align: middle;\n",
       "    }\n",
       "\n",
       "    .dataframe tbody tr th {\n",
       "        vertical-align: top;\n",
       "    }\n",
       "\n",
       "    .dataframe thead th {\n",
       "        text-align: right;\n",
       "    }\n",
       "</style>\n",
       "<table border=\"1\" class=\"dataframe\">\n",
       "  <thead>\n",
       "    <tr style=\"text-align: right;\">\n",
       "      <th></th>\n",
       "      <th>medal</th>\n",
       "      <th>store_id</th>\n",
       "      <th>avg_orders_count</th>\n",
       "      <th>median_orders_count</th>\n",
       "      <th>avg_gmv</th>\n",
       "      <th>median_gmv</th>\n",
       "      <th>orders_per_day</th>\n",
       "      <th>orders_per_int</th>\n",
       "      <th>gmv_per_day</th>\n",
       "      <th>gmv_per_int</th>\n",
       "    </tr>\n",
       "  </thead>\n",
       "  <tbody>\n",
       "    <tr>\n",
       "      <th>0</th>\n",
       "      <td>BRONSE</td>\n",
       "      <td>181</td>\n",
       "      <td>108.5</td>\n",
       "      <td>58</td>\n",
       "      <td>110997.0</td>\n",
       "      <td>55775</td>\n",
       "      <td>1.2</td>\n",
       "      <td>1.5</td>\n",
       "      <td>1233.0</td>\n",
       "      <td>1555.0</td>\n",
       "    </tr>\n",
       "    <tr>\n",
       "      <th>1</th>\n",
       "      <td>GOLD</td>\n",
       "      <td>207</td>\n",
       "      <td>272.6</td>\n",
       "      <td>137</td>\n",
       "      <td>235604.0</td>\n",
       "      <td>117974</td>\n",
       "      <td>3.0</td>\n",
       "      <td>2.9</td>\n",
       "      <td>2618.0</td>\n",
       "      <td>2539.0</td>\n",
       "    </tr>\n",
       "    <tr>\n",
       "      <th>2</th>\n",
       "      <td>NO MEDAL</td>\n",
       "      <td>65</td>\n",
       "      <td>75.6</td>\n",
       "      <td>33</td>\n",
       "      <td>65560.0</td>\n",
       "      <td>20990</td>\n",
       "      <td>0.8</td>\n",
       "      <td>1.2</td>\n",
       "      <td>728.0</td>\n",
       "      <td>1022.0</td>\n",
       "    </tr>\n",
       "    <tr>\n",
       "      <th>3</th>\n",
       "      <td>SILVER</td>\n",
       "      <td>174</td>\n",
       "      <td>130.0</td>\n",
       "      <td>69</td>\n",
       "      <td>113981.0</td>\n",
       "      <td>63867</td>\n",
       "      <td>1.4</td>\n",
       "      <td>1.5</td>\n",
       "      <td>1266.0</td>\n",
       "      <td>1351.0</td>\n",
       "    </tr>\n",
       "  </tbody>\n",
       "</table>\n",
       "</div>"
      ],
      "text/plain": [
       "      medal  store_id  avg_orders_count  median_orders_count   avg_gmv  \\\n",
       "0    BRONSE       181             108.5                   58  110997.0   \n",
       "1      GOLD       207             272.6                  137  235604.0   \n",
       "2  NO MEDAL        65              75.6                   33   65560.0   \n",
       "3    SILVER       174             130.0                   69  113981.0   \n",
       "\n",
       "   median_gmv  orders_per_day  orders_per_int  gmv_per_day  gmv_per_int  \n",
       "0       55775             1.2             1.5       1233.0       1555.0  \n",
       "1      117974             3.0             2.9       2618.0       2539.0  \n",
       "2       20990             0.8             1.2        728.0       1022.0  \n",
       "3       63867             1.4             1.5       1266.0       1351.0  "
      ]
     },
     "execution_count": 75,
     "metadata": {},
     "output_type": "execute_result"
    }
   ],
   "source": [
    "df_sales_90 = groups_and_stats(df_sales, 90)[0]\n",
    "df_stats_90 = groups_and_stats(df_sales, 90)[1]\n",
    "df_stats_90"
   ]
  },
  {
   "cell_type": "markdown",
   "id": "9f1504be",
   "metadata": {},
   "source": [
    "## Let's have a look "
   ]
  },
  {
   "cell_type": "code",
   "execution_count": 58,
   "id": "3fe080bc",
   "metadata": {},
   "outputs": [],
   "source": [
    "def agg_with_pot(df_input, n):\n",
    "    df_further = df_input.copy()\n",
    "    df_further['day'] = n\n",
    "    df = df_further.query('max_order_day_number >= day and order_day_number <= day')\n",
    "    \n",
    "    #строк на ресторан, т.е. сколько дней ресторан работал в этот интервал времени\n",
    "\n",
    "    k = df.groupby('store_id').count()[['medal']].reset_index()\n",
    "    k = k.rename(columns = {'medal': 'workdays'})   \n",
    "    \n",
    "    df_fin = pd.merge(df, k, how = 'left', left_on = ['store_id'], right_on = ['store_id'])    \n",
    "\n",
    "    df_result = df_fin.groupby(['store_id', 'max_order_day_number', 'workdays', 'medal', 'potential']).sum()[['order_count_per_store', 'orders_sum_per_store']]\n",
    "    df_result = df_result.reset_index()\n",
    "    \n",
    "    df_stat = df_result.copy()\n",
    "    df_stat['orders_per_day'] = df_stat['order_count_per_store'] / n\n",
    "    df_stat['orders_per_int'] = df_stat['order_count_per_store'] / df_stat['workdays']\n",
    "    df_stat['gmv_per_day'] = df_stat['orders_sum_per_store'] / n\n",
    "    df_stat['gmv_per_int'] = df_stat['orders_sum_per_store'] / df_stat['workdays']\n",
    "\n",
    "    df_res = df_stat.copy()\n",
    "    \n",
    "    return df_res\n"
   ]
  },
  {
   "cell_type": "code",
   "execution_count": 81,
   "id": "9f7e5cfb",
   "metadata": {},
   "outputs": [],
   "source": [
    "def visual(df_input):\n",
    "\n",
    "    x_pot = np.array(df_input[\"order_count_per_store\"])\n",
    "    y_pot = np.array(df_input[\"orders_sum_per_store\"])\n",
    "    fig_pot = px.scatter(x = x_pot, y = y_pot, labels = {'x': 'Stores orders', 'y': 'Stores GMV'} , color = df_input.medal, color_discrete_map = {'GOLD':'#FFD700', 'BRONSE': '#CD853F', 'SILVER': '#C0C0C0', 'NO MEDAL': '#FF4500', 'unknown': '#000000'},  title = \"GMV-orders relation by medals\")\n",
    "\n",
    "    x_ord = np.array(df_input[\"potential\"])\n",
    "    y_ord = np.array(df_input[\"orders_sum_per_store\"])\n",
    "    fig_ord = px.scatter(x = x_ord, y = y_ord, labels = {'x': 'Potential', 'y': 'Stores GMV'} , color = df_input.medal, color_discrete_map = {'GOLD':'#FFD700', 'BRONSE': '#CD853F', 'SILVER': '#C0C0C0', 'NO MEDAL': '#FF4500', 'unknown': '#000000'},  title = \"GMV-potential relation by medals\")\n",
    "\n",
    "    df_not_zero = df_input.query('potential > 0')\n",
    "    x_log = np.array(df_not_zero[\"potential\"].apply(np.log))\n",
    "    y_log = np.array(df_not_zero[\"orders_sum_per_store\"].apply(np.log))\n",
    "    fig_log = px.scatter(x = x_log, y = y_log, labels = {'x': 'Potential', 'y': 'Stores GMV'} , color = df_not_zero.medal, color_discrete_map = {'GOLD':'#FFD700', 'BRONSE': '#CD853F', 'SILVER': '#C0C0C0', 'NO MEDAL': '#FF4500', 'unknown': '#000000'},  title = \"GMV-potential logarithms relation by medals\")\n",
    "\n",
    "    x_int = np.array(df_input[\"potential\"])\n",
    "    y_int = np.array(df_input[\"gmv_per_int\"])\n",
    "    fig_int = px.scatter(x = x_int, y = y_int, labels = {'x': 'Potential', 'y': 'Stores GMV per workday'} , color = df_input.medal, color_discrete_map = {'GOLD':'#FFD700', 'BRONSE': '#CD853F', 'SILVER': '#C0C0C0', 'NO MEDAL': '#FF4500', 'unknown': '#000000'},  title = \"Daily GMV-potential relation by medals\")\n",
    "\n",
    "    return fig_pot.show(), fig_ord.show(), fig_log.show(), fig_int.show()"
   ]
  },
  {
   "cell_type": "code",
   "execution_count": 82,
   "id": "e309b20d",
   "metadata": {
    "scrolled": false
   },
   "outputs": [
    {
     "data": {
      "application/vnd.plotly.v1+json": {
       "config": {
        "plotlyServerURL": "https://plot.ly"
       },
       "data": [
        {
         "hovertemplate": "color=BRONSE<br>Stores orders=%{x}<br>Stores GMV=%{y}<extra></extra>",
         "legendgroup": "BRONSE",
         "marker": {
          "color": "#CD853F",
          "symbol": "circle"
         },
         "mode": "markers",
         "name": "BRONSE",
         "orientation": "v",
         "showlegend": true,
         "type": "scatter",
         "x": [
          14,
          35,
          85,
          103,
          741,
          197,
          58,
          9,
          1002,
          67,
          34,
          33,
          25,
          45,
          9,
          27,
          276,
          118,
          123,
          85,
          120,
          84,
          102,
          3,
          177,
          46,
          23,
          30,
          93,
          294,
          19,
          108,
          14,
          22,
          239,
          35,
          23,
          9,
          33,
          72,
          21,
          25,
          7,
          55,
          25,
          54,
          8,
          140,
          4,
          33,
          55,
          58,
          703,
          125,
          13,
          80,
          99,
          18,
          34,
          29,
          360,
          11,
          19,
          18,
          170,
          660,
          154,
          8,
          150,
          90,
          93,
          22,
          50,
          253,
          7,
          88,
          119,
          153,
          5,
          297,
          15,
          33,
          30,
          92,
          62,
          5,
          114,
          34,
          66,
          33,
          25,
          35,
          24,
          75,
          19,
          65,
          93,
          5,
          188,
          52,
          46,
          102,
          270,
          57,
          64,
          255,
          2,
          107,
          71,
          104,
          776,
          436,
          439,
          75,
          184,
          224,
          44,
          69,
          11,
          100,
          7,
          214,
          67,
          144,
          14,
          216,
          17,
          65,
          221,
          12,
          9,
          74,
          30,
          263,
          40,
          80,
          426,
          48,
          46,
          185,
          74,
          54,
          23,
          53,
          458,
          239,
          89,
          26,
          127,
          53,
          26,
          47,
          17,
          101,
          294,
          156,
          31,
          57,
          32,
          12,
          48,
          138,
          146,
          398,
          72,
          61,
          66,
          89,
          39,
          25,
          92,
          30,
          165,
          23,
          36,
          10,
          127,
          432,
          36,
          13,
          4
         ],
         "xaxis": "x",
         "y": [
          16220,
          25630,
          90660,
          114343,
          612911,
          163389,
          78918,
          4300,
          1015149,
          50487,
          37188,
          44438,
          36060,
          44212,
          10340,
          36796,
          324979,
          102145,
          178603,
          96472,
          129249,
          39301,
          120851,
          960,
          160940,
          57060,
          15405,
          16220,
          55278,
          147544,
          39170,
          72791,
          9850,
          22000,
          254931,
          33434,
          18304,
          8032,
          31345,
          65153,
          17862,
          27085,
          3468,
          68220,
          27133,
          65884,
          7040,
          171586,
          2690,
          29545,
          36350,
          70760,
          902030,
          95480,
          7040,
          59120,
          149610,
          8192,
          17216,
          28207,
          380136,
          19620,
          33120,
          27234,
          203670,
          542120,
          136990,
          10031,
          122267,
          98910,
          102980,
          8040,
          61573,
          449510,
          4595,
          81653,
          111793,
          250436,
          2320,
          277817,
          13450,
          27530,
          30015,
          98527,
          70547,
          3642,
          111636,
          34055,
          76630,
          45130,
          21726,
          24112,
          30710,
          119233,
          15180,
          98910,
          82160,
          6141,
          101644,
          62810,
          29439,
          115057,
          286967,
          77190,
          97893,
          330725,
          1305,
          137424,
          46380,
          193155,
          703729,
          381595,
          467048,
          111356,
          176682,
          289946,
          37510,
          103870,
          16985,
          16170,
          2300,
          206980,
          56405,
          171551,
          11545,
          221025,
          24555,
          45313,
          182246,
          9850,
          8690,
          78060,
          32952,
          380726,
          35349,
          78263,
          371820,
          64520,
          55955,
          81190,
          90187,
          43500,
          46920,
          52533,
          509185,
          345800,
          52304,
          24897,
          61471,
          49800,
          27470,
          21651,
          21451,
          97677,
          346385,
          137015,
          31595,
          36175,
          41729,
          13045,
          48525,
          124690,
          223660,
          469950,
          51240,
          65627,
          84185,
          44505,
          36778,
          19288,
          103310,
          39465,
          204253,
          7346,
          55775,
          11739,
          135690,
          337538,
          42077,
          7550,
          12500
         ],
         "yaxis": "y"
        },
        {
         "hovertemplate": "color=SILVER<br>Stores orders=%{x}<br>Stores GMV=%{y}<extra></extra>",
         "legendgroup": "SILVER",
         "marker": {
          "color": "#C0C0C0",
          "symbol": "circle"
         },
         "mode": "markers",
         "name": "SILVER",
         "orientation": "v",
         "showlegend": true,
         "type": "scatter",
         "x": [
          60,
          142,
          34,
          62,
          175,
          190,
          120,
          33,
          76,
          39,
          294,
          113,
          55,
          22,
          45,
          18,
          211,
          49,
          16,
          28,
          33,
          17,
          108,
          176,
          121,
          175,
          59,
          67,
          22,
          288,
          45,
          60,
          71,
          10,
          97,
          85,
          42,
          37,
          134,
          53,
          60,
          745,
          22,
          43,
          15,
          60,
          26,
          21,
          51,
          35,
          11,
          85,
          273,
          438,
          238,
          117,
          1,
          19,
          170,
          68,
          44,
          113,
          85,
          16,
          65,
          590,
          7,
          45,
          74,
          30,
          25,
          43,
          385,
          20,
          371,
          6,
          20,
          264,
          32,
          113,
          68,
          120,
          4,
          55,
          66,
          682,
          120,
          16,
          9,
          90,
          161,
          71,
          93,
          65,
          11,
          35,
          92,
          1169,
          82,
          20,
          36,
          224,
          71,
          13,
          31,
          189,
          337,
          265,
          612,
          16,
          75,
          18,
          223,
          90,
          2,
          24,
          94,
          52,
          29,
          222,
          181,
          23,
          7,
          34,
          10,
          31,
          90,
          177,
          162,
          76,
          114,
          23,
          284,
          54,
          58,
          307,
          2,
          39,
          20,
          357,
          39,
          112,
          139,
          279,
          70,
          68,
          287,
          142,
          39,
          108,
          746,
          219,
          151,
          192,
          17,
          21,
          284,
          421,
          7,
          388,
          165,
          166,
          70,
          296,
          281,
          2,
          70,
          807,
          81,
          17,
          10,
          613,
          193,
          49,
          36
         ],
         "xaxis": "x",
         "y": [
          105265,
          251600,
          18950,
          65093,
          249347,
          237178,
          62094,
          46820,
          74700,
          38350,
          235088,
          109269,
          27780,
          8578,
          51211,
          16108,
          251067,
          42186,
          12860,
          12115,
          34420,
          18681,
          166225,
          118272,
          109093,
          123679,
          27460,
          81140,
          10314,
          331706,
          26340,
          64385,
          37055,
          4377,
          205670,
          184448,
          14280,
          45370,
          177360,
          29975,
          79163,
          707524,
          11177,
          36910,
          19200,
          62322,
          32305,
          28340,
          46090,
          52470,
          8505,
          39988,
          260384,
          190955,
          139356,
          150923,
          941,
          11660,
          183457,
          49530,
          35972,
          118682,
          112350,
          7668,
          78095,
          306120,
          1741,
          57216,
          74965,
          13160,
          12240,
          58528,
          367568,
          17690,
          354832,
          5780,
          13328,
          236350,
          24503,
          103408,
          96192,
          225410,
          4310,
          36340,
          103480,
          451791,
          42405,
          9020,
          9740,
          62918,
          99555,
          33232,
          51167,
          42060,
          13570,
          75680,
          128330,
          656560,
          80046,
          10499,
          18495,
          289090,
          34259,
          12457,
          27844,
          107805,
          278085,
          338232,
          419815,
          5669,
          63349,
          34190,
          124276,
          78679,
          930,
          21677,
          79003,
          44110,
          33360,
          100820,
          153480,
          22855,
          4010,
          14895,
          4378,
          12820,
          121389,
          165877,
          135205,
          96140,
          140210,
          24106,
          160925,
          56183,
          52724,
          162610,
          2540,
          16423,
          16900,
          468200,
          40950,
          156470,
          74860,
          172030,
          48195,
          84850,
          212021,
          64519,
          30259,
          86635,
          598822,
          241220,
          111831,
          112985,
          10760,
          9721,
          472695,
          438278,
          3953,
          374473,
          225009,
          248920,
          69255,
          230396,
          151839,
          470,
          73480,
          324590,
          47640,
          14410,
          3406,
          797197,
          184280,
          77640,
          25070
         ],
         "yaxis": "y"
        },
        {
         "hovertemplate": "color=GOLD<br>Stores orders=%{x}<br>Stores GMV=%{y}<extra></extra>",
         "legendgroup": "GOLD",
         "marker": {
          "color": "#FFD700",
          "symbol": "circle"
         },
         "mode": "markers",
         "name": "GOLD",
         "orientation": "v",
         "showlegend": true,
         "type": "scatter",
         "x": [
          55,
          6,
          228,
          4,
          149,
          1818,
          184,
          53,
          51,
          16,
          530,
          100,
          30,
          48,
          1386,
          40,
          381,
          1087,
          209,
          279,
          110,
          80,
          674,
          139,
          529,
          25,
          8,
          307,
          138,
          40,
          33,
          220,
          218,
          580,
          6,
          46,
          338,
          592,
          607,
          202,
          39,
          687,
          241,
          490,
          62,
          84,
          82,
          154,
          986,
          74,
          43,
          41,
          46,
          150,
          751,
          1366,
          341,
          387,
          36,
          51,
          440,
          34,
          197,
          56,
          156,
          104,
          283,
          223,
          98,
          44,
          45,
          857,
          8,
          18,
          47,
          95,
          205,
          107,
          41,
          37,
          276,
          79,
          119,
          121,
          381,
          1089,
          1177,
          602,
          432,
          10,
          471,
          16,
          346,
          38,
          53,
          568,
          519,
          285,
          193,
          21,
          204,
          296,
          442,
          10,
          11,
          243,
          119,
          215,
          1309,
          473,
          248,
          86,
          94,
          23,
          20,
          105,
          17,
          793,
          33,
          60,
          32,
          1113,
          20,
          134,
          1012,
          1,
          6,
          43,
          15,
          146,
          34,
          57,
          45,
          24,
          508,
          306,
          38,
          48,
          94,
          314,
          76,
          134,
          258,
          189,
          404,
          495,
          229,
          121,
          191,
          22,
          706,
          846,
          95,
          259,
          130,
          118,
          172,
          185,
          8,
          40,
          56,
          193,
          251,
          26,
          591,
          38,
          45,
          57,
          173,
          263,
          367,
          30,
          212,
          310,
          9,
          1339,
          706,
          155,
          40,
          55,
          910,
          108,
          154,
          949,
          97,
          160,
          66,
          307,
          1012,
          118,
          14,
          340,
          710,
          227,
          43,
          2,
          581,
          93,
          91,
          889,
          2349,
          124,
          137,
          298,
          25,
          453,
          240
         ],
         "xaxis": "x",
         "y": [
          88587,
          7318,
          172473,
          6340,
          167575,
          1027568,
          174846,
          28383,
          35170,
          8335,
          463155,
          76255,
          37015,
          42001,
          1390145,
          47320,
          330667,
          903120,
          89510,
          299904,
          98113,
          29988,
          594460,
          182588,
          462210,
          12838,
          3184,
          311295,
          103725,
          36227,
          35002,
          206591,
          151985,
          461495,
          3224,
          34280,
          333927,
          487655,
          952670,
          160624,
          25055,
          331675,
          129101,
          305675,
          36442,
          99925,
          80132,
          91020,
          784259,
          42915,
          23046,
          39093,
          29880,
          75360,
          747450,
          1163366,
          290398,
          327580,
          27879,
          56627,
          375688,
          14725,
          180225,
          75921,
          161615,
          61765,
          271149,
          235895,
          87747,
          30676,
          76510,
          617677,
          12831,
          8219,
          48850,
          58602,
          203769,
          124920,
          68780,
          16119,
          422455,
          68613,
          273020,
          246680,
          379027,
          1101560,
          1121506,
          623618,
          359110,
          15230,
          477774,
          16599,
          277686,
          42811,
          60686,
          891820,
          419657,
          149735,
          141719,
          33600,
          218832,
          151818,
          370785,
          11092,
          13733,
          213607,
          80372,
          190285,
          1241377,
          238472,
          223731,
          68771,
          138320,
          15765,
          8692,
          117505,
          16321,
          669106,
          24175,
          27448,
          48718,
          1098318,
          14537,
          76812,
          964426,
          520,
          5261,
          39859,
          6585,
          68533,
          39075,
          55033,
          16310,
          19935,
          459967,
          404190,
          26635,
          23280,
          62615,
          291975,
          90015,
          108527,
          147759,
          159060,
          313382,
          324143,
          225120,
          64421,
          186850,
          9793,
          445380,
          349130,
          50909,
          520820,
          59026,
          59445,
          130355,
          163624,
          9689,
          17788,
          79356,
          164831,
          342166,
          35180,
          470388,
          59923,
          24308,
          72154,
          161005,
          454829,
          299372,
          10150,
          178147,
          276960,
          5490,
          1200971,
          587038,
          132967,
          26861,
          33272,
          832306,
          84180,
          151933,
          595639,
          91701,
          136918,
          100430,
          145745,
          986308,
          119995,
          13008,
          261420,
          556076,
          128650,
          43445,
          441,
          313140,
          40157,
          78318,
          821467,
          1846175,
          105230,
          117974,
          255445,
          33179,
          329045,
          148984
         ],
         "yaxis": "y"
        },
        {
         "hovertemplate": "color=NO MEDAL<br>Stores orders=%{x}<br>Stores GMV=%{y}<extra></extra>",
         "legendgroup": "NO MEDAL",
         "marker": {
          "color": "#FF4500",
          "symbol": "circle"
         },
         "mode": "markers",
         "name": "NO MEDAL",
         "orientation": "v",
         "showlegend": true,
         "type": "scatter",
         "x": [
          42,
          1,
          8,
          59,
          47,
          3,
          21,
          48,
          65,
          5,
          35,
          12,
          19,
          19,
          34,
          319,
          66,
          35,
          441,
          9,
          36,
          9,
          3,
          19,
          74,
          21,
          130,
          29,
          51,
          177,
          43,
          19,
          99,
          12,
          84,
          28,
          22,
          33,
          473,
          30,
          118,
          103,
          12,
          27,
          206,
          17,
          59,
          9,
          23,
          86,
          11,
          583,
          30,
          79,
          26,
          141,
          2,
          14,
          155,
          23,
          33,
          43,
          276,
          26,
          134
         ],
         "xaxis": "x",
         "y": [
          20154,
          900,
          4654,
          68590,
          45710,
          807,
          16310,
          22650,
          71270,
          2070,
          22598,
          12573,
          7396,
          16335,
          22805,
          269415,
          79441,
          14757,
          339689,
          14250,
          40520,
          5098,
          2125,
          19332,
          47800,
          7660,
          105655,
          12420,
          29927,
          118766,
          30180,
          13080,
          163610,
          9270,
          56791,
          11260,
          18000,
          33760,
          263245,
          16520,
          149210,
          68320,
          8040,
          16552,
          299359,
          9085,
          36310,
          5680,
          65743,
          50475,
          10304,
          568125,
          20205,
          41950,
          20990,
          232058,
          885,
          20570,
          217460,
          18530,
          16348,
          25458,
          185360,
          12903,
          104075
         ],
         "yaxis": "y"
        }
       ],
       "layout": {
        "legend": {
         "title": {
          "text": "color"
         },
         "tracegroupgap": 0
        },
        "template": {
         "data": {
          "bar": [
           {
            "error_x": {
             "color": "#2a3f5f"
            },
            "error_y": {
             "color": "#2a3f5f"
            },
            "marker": {
             "line": {
              "color": "#E5ECF6",
              "width": 0.5
             },
             "pattern": {
              "fillmode": "overlay",
              "size": 10,
              "solidity": 0.2
             }
            },
            "type": "bar"
           }
          ],
          "barpolar": [
           {
            "marker": {
             "line": {
              "color": "#E5ECF6",
              "width": 0.5
             },
             "pattern": {
              "fillmode": "overlay",
              "size": 10,
              "solidity": 0.2
             }
            },
            "type": "barpolar"
           }
          ],
          "carpet": [
           {
            "aaxis": {
             "endlinecolor": "#2a3f5f",
             "gridcolor": "white",
             "linecolor": "white",
             "minorgridcolor": "white",
             "startlinecolor": "#2a3f5f"
            },
            "baxis": {
             "endlinecolor": "#2a3f5f",
             "gridcolor": "white",
             "linecolor": "white",
             "minorgridcolor": "white",
             "startlinecolor": "#2a3f5f"
            },
            "type": "carpet"
           }
          ],
          "choropleth": [
           {
            "colorbar": {
             "outlinewidth": 0,
             "ticks": ""
            },
            "type": "choropleth"
           }
          ],
          "contour": [
           {
            "colorbar": {
             "outlinewidth": 0,
             "ticks": ""
            },
            "colorscale": [
             [
              0,
              "#0d0887"
             ],
             [
              0.1111111111111111,
              "#46039f"
             ],
             [
              0.2222222222222222,
              "#7201a8"
             ],
             [
              0.3333333333333333,
              "#9c179e"
             ],
             [
              0.4444444444444444,
              "#bd3786"
             ],
             [
              0.5555555555555556,
              "#d8576b"
             ],
             [
              0.6666666666666666,
              "#ed7953"
             ],
             [
              0.7777777777777778,
              "#fb9f3a"
             ],
             [
              0.8888888888888888,
              "#fdca26"
             ],
             [
              1,
              "#f0f921"
             ]
            ],
            "type": "contour"
           }
          ],
          "contourcarpet": [
           {
            "colorbar": {
             "outlinewidth": 0,
             "ticks": ""
            },
            "type": "contourcarpet"
           }
          ],
          "heatmap": [
           {
            "colorbar": {
             "outlinewidth": 0,
             "ticks": ""
            },
            "colorscale": [
             [
              0,
              "#0d0887"
             ],
             [
              0.1111111111111111,
              "#46039f"
             ],
             [
              0.2222222222222222,
              "#7201a8"
             ],
             [
              0.3333333333333333,
              "#9c179e"
             ],
             [
              0.4444444444444444,
              "#bd3786"
             ],
             [
              0.5555555555555556,
              "#d8576b"
             ],
             [
              0.6666666666666666,
              "#ed7953"
             ],
             [
              0.7777777777777778,
              "#fb9f3a"
             ],
             [
              0.8888888888888888,
              "#fdca26"
             ],
             [
              1,
              "#f0f921"
             ]
            ],
            "type": "heatmap"
           }
          ],
          "heatmapgl": [
           {
            "colorbar": {
             "outlinewidth": 0,
             "ticks": ""
            },
            "colorscale": [
             [
              0,
              "#0d0887"
             ],
             [
              0.1111111111111111,
              "#46039f"
             ],
             [
              0.2222222222222222,
              "#7201a8"
             ],
             [
              0.3333333333333333,
              "#9c179e"
             ],
             [
              0.4444444444444444,
              "#bd3786"
             ],
             [
              0.5555555555555556,
              "#d8576b"
             ],
             [
              0.6666666666666666,
              "#ed7953"
             ],
             [
              0.7777777777777778,
              "#fb9f3a"
             ],
             [
              0.8888888888888888,
              "#fdca26"
             ],
             [
              1,
              "#f0f921"
             ]
            ],
            "type": "heatmapgl"
           }
          ],
          "histogram": [
           {
            "marker": {
             "pattern": {
              "fillmode": "overlay",
              "size": 10,
              "solidity": 0.2
             }
            },
            "type": "histogram"
           }
          ],
          "histogram2d": [
           {
            "colorbar": {
             "outlinewidth": 0,
             "ticks": ""
            },
            "colorscale": [
             [
              0,
              "#0d0887"
             ],
             [
              0.1111111111111111,
              "#46039f"
             ],
             [
              0.2222222222222222,
              "#7201a8"
             ],
             [
              0.3333333333333333,
              "#9c179e"
             ],
             [
              0.4444444444444444,
              "#bd3786"
             ],
             [
              0.5555555555555556,
              "#d8576b"
             ],
             [
              0.6666666666666666,
              "#ed7953"
             ],
             [
              0.7777777777777778,
              "#fb9f3a"
             ],
             [
              0.8888888888888888,
              "#fdca26"
             ],
             [
              1,
              "#f0f921"
             ]
            ],
            "type": "histogram2d"
           }
          ],
          "histogram2dcontour": [
           {
            "colorbar": {
             "outlinewidth": 0,
             "ticks": ""
            },
            "colorscale": [
             [
              0,
              "#0d0887"
             ],
             [
              0.1111111111111111,
              "#46039f"
             ],
             [
              0.2222222222222222,
              "#7201a8"
             ],
             [
              0.3333333333333333,
              "#9c179e"
             ],
             [
              0.4444444444444444,
              "#bd3786"
             ],
             [
              0.5555555555555556,
              "#d8576b"
             ],
             [
              0.6666666666666666,
              "#ed7953"
             ],
             [
              0.7777777777777778,
              "#fb9f3a"
             ],
             [
              0.8888888888888888,
              "#fdca26"
             ],
             [
              1,
              "#f0f921"
             ]
            ],
            "type": "histogram2dcontour"
           }
          ],
          "mesh3d": [
           {
            "colorbar": {
             "outlinewidth": 0,
             "ticks": ""
            },
            "type": "mesh3d"
           }
          ],
          "parcoords": [
           {
            "line": {
             "colorbar": {
              "outlinewidth": 0,
              "ticks": ""
             }
            },
            "type": "parcoords"
           }
          ],
          "pie": [
           {
            "automargin": true,
            "type": "pie"
           }
          ],
          "scatter": [
           {
            "marker": {
             "colorbar": {
              "outlinewidth": 0,
              "ticks": ""
             }
            },
            "type": "scatter"
           }
          ],
          "scatter3d": [
           {
            "line": {
             "colorbar": {
              "outlinewidth": 0,
              "ticks": ""
             }
            },
            "marker": {
             "colorbar": {
              "outlinewidth": 0,
              "ticks": ""
             }
            },
            "type": "scatter3d"
           }
          ],
          "scattercarpet": [
           {
            "marker": {
             "colorbar": {
              "outlinewidth": 0,
              "ticks": ""
             }
            },
            "type": "scattercarpet"
           }
          ],
          "scattergeo": [
           {
            "marker": {
             "colorbar": {
              "outlinewidth": 0,
              "ticks": ""
             }
            },
            "type": "scattergeo"
           }
          ],
          "scattergl": [
           {
            "marker": {
             "colorbar": {
              "outlinewidth": 0,
              "ticks": ""
             }
            },
            "type": "scattergl"
           }
          ],
          "scattermapbox": [
           {
            "marker": {
             "colorbar": {
              "outlinewidth": 0,
              "ticks": ""
             }
            },
            "type": "scattermapbox"
           }
          ],
          "scatterpolar": [
           {
            "marker": {
             "colorbar": {
              "outlinewidth": 0,
              "ticks": ""
             }
            },
            "type": "scatterpolar"
           }
          ],
          "scatterpolargl": [
           {
            "marker": {
             "colorbar": {
              "outlinewidth": 0,
              "ticks": ""
             }
            },
            "type": "scatterpolargl"
           }
          ],
          "scatterternary": [
           {
            "marker": {
             "colorbar": {
              "outlinewidth": 0,
              "ticks": ""
             }
            },
            "type": "scatterternary"
           }
          ],
          "surface": [
           {
            "colorbar": {
             "outlinewidth": 0,
             "ticks": ""
            },
            "colorscale": [
             [
              0,
              "#0d0887"
             ],
             [
              0.1111111111111111,
              "#46039f"
             ],
             [
              0.2222222222222222,
              "#7201a8"
             ],
             [
              0.3333333333333333,
              "#9c179e"
             ],
             [
              0.4444444444444444,
              "#bd3786"
             ],
             [
              0.5555555555555556,
              "#d8576b"
             ],
             [
              0.6666666666666666,
              "#ed7953"
             ],
             [
              0.7777777777777778,
              "#fb9f3a"
             ],
             [
              0.8888888888888888,
              "#fdca26"
             ],
             [
              1,
              "#f0f921"
             ]
            ],
            "type": "surface"
           }
          ],
          "table": [
           {
            "cells": {
             "fill": {
              "color": "#EBF0F8"
             },
             "line": {
              "color": "white"
             }
            },
            "header": {
             "fill": {
              "color": "#C8D4E3"
             },
             "line": {
              "color": "white"
             }
            },
            "type": "table"
           }
          ]
         },
         "layout": {
          "annotationdefaults": {
           "arrowcolor": "#2a3f5f",
           "arrowhead": 0,
           "arrowwidth": 1
          },
          "autotypenumbers": "strict",
          "coloraxis": {
           "colorbar": {
            "outlinewidth": 0,
            "ticks": ""
           }
          },
          "colorscale": {
           "diverging": [
            [
             0,
             "#8e0152"
            ],
            [
             0.1,
             "#c51b7d"
            ],
            [
             0.2,
             "#de77ae"
            ],
            [
             0.3,
             "#f1b6da"
            ],
            [
             0.4,
             "#fde0ef"
            ],
            [
             0.5,
             "#f7f7f7"
            ],
            [
             0.6,
             "#e6f5d0"
            ],
            [
             0.7,
             "#b8e186"
            ],
            [
             0.8,
             "#7fbc41"
            ],
            [
             0.9,
             "#4d9221"
            ],
            [
             1,
             "#276419"
            ]
           ],
           "sequential": [
            [
             0,
             "#0d0887"
            ],
            [
             0.1111111111111111,
             "#46039f"
            ],
            [
             0.2222222222222222,
             "#7201a8"
            ],
            [
             0.3333333333333333,
             "#9c179e"
            ],
            [
             0.4444444444444444,
             "#bd3786"
            ],
            [
             0.5555555555555556,
             "#d8576b"
            ],
            [
             0.6666666666666666,
             "#ed7953"
            ],
            [
             0.7777777777777778,
             "#fb9f3a"
            ],
            [
             0.8888888888888888,
             "#fdca26"
            ],
            [
             1,
             "#f0f921"
            ]
           ],
           "sequentialminus": [
            [
             0,
             "#0d0887"
            ],
            [
             0.1111111111111111,
             "#46039f"
            ],
            [
             0.2222222222222222,
             "#7201a8"
            ],
            [
             0.3333333333333333,
             "#9c179e"
            ],
            [
             0.4444444444444444,
             "#bd3786"
            ],
            [
             0.5555555555555556,
             "#d8576b"
            ],
            [
             0.6666666666666666,
             "#ed7953"
            ],
            [
             0.7777777777777778,
             "#fb9f3a"
            ],
            [
             0.8888888888888888,
             "#fdca26"
            ],
            [
             1,
             "#f0f921"
            ]
           ]
          },
          "colorway": [
           "#636efa",
           "#EF553B",
           "#00cc96",
           "#ab63fa",
           "#FFA15A",
           "#19d3f3",
           "#FF6692",
           "#B6E880",
           "#FF97FF",
           "#FECB52"
          ],
          "font": {
           "color": "#2a3f5f"
          },
          "geo": {
           "bgcolor": "white",
           "lakecolor": "white",
           "landcolor": "#E5ECF6",
           "showlakes": true,
           "showland": true,
           "subunitcolor": "white"
          },
          "hoverlabel": {
           "align": "left"
          },
          "hovermode": "closest",
          "mapbox": {
           "style": "light"
          },
          "paper_bgcolor": "white",
          "plot_bgcolor": "#E5ECF6",
          "polar": {
           "angularaxis": {
            "gridcolor": "white",
            "linecolor": "white",
            "ticks": ""
           },
           "bgcolor": "#E5ECF6",
           "radialaxis": {
            "gridcolor": "white",
            "linecolor": "white",
            "ticks": ""
           }
          },
          "scene": {
           "xaxis": {
            "backgroundcolor": "#E5ECF6",
            "gridcolor": "white",
            "gridwidth": 2,
            "linecolor": "white",
            "showbackground": true,
            "ticks": "",
            "zerolinecolor": "white"
           },
           "yaxis": {
            "backgroundcolor": "#E5ECF6",
            "gridcolor": "white",
            "gridwidth": 2,
            "linecolor": "white",
            "showbackground": true,
            "ticks": "",
            "zerolinecolor": "white"
           },
           "zaxis": {
            "backgroundcolor": "#E5ECF6",
            "gridcolor": "white",
            "gridwidth": 2,
            "linecolor": "white",
            "showbackground": true,
            "ticks": "",
            "zerolinecolor": "white"
           }
          },
          "shapedefaults": {
           "line": {
            "color": "#2a3f5f"
           }
          },
          "ternary": {
           "aaxis": {
            "gridcolor": "white",
            "linecolor": "white",
            "ticks": ""
           },
           "baxis": {
            "gridcolor": "white",
            "linecolor": "white",
            "ticks": ""
           },
           "bgcolor": "#E5ECF6",
           "caxis": {
            "gridcolor": "white",
            "linecolor": "white",
            "ticks": ""
           }
          },
          "title": {
           "x": 0.05
          },
          "xaxis": {
           "automargin": true,
           "gridcolor": "white",
           "linecolor": "white",
           "ticks": "",
           "title": {
            "standoff": 15
           },
           "zerolinecolor": "white",
           "zerolinewidth": 2
          },
          "yaxis": {
           "automargin": true,
           "gridcolor": "white",
           "linecolor": "white",
           "ticks": "",
           "title": {
            "standoff": 15
           },
           "zerolinecolor": "white",
           "zerolinewidth": 2
          }
         }
        },
        "title": {
         "text": "GMV-orders relation by medals"
        },
        "xaxis": {
         "anchor": "y",
         "domain": [
          0,
          1
         ],
         "title": {
          "text": "Stores orders"
         }
        },
        "yaxis": {
         "anchor": "x",
         "domain": [
          0,
          1
         ],
         "title": {
          "text": "Stores GMV"
         }
        }
       }
      },
      "text/html": [
       "<div>                            <div id=\"ed931465-8472-4bc8-b8c2-f6b2df7ab1c9\" class=\"plotly-graph-div\" style=\"height:525px; width:100%;\"></div>            <script type=\"text/javascript\">                require([\"plotly\"], function(Plotly) {                    window.PLOTLYENV=window.PLOTLYENV || {};                                    if (document.getElementById(\"ed931465-8472-4bc8-b8c2-f6b2df7ab1c9\")) {                    Plotly.newPlot(                        \"ed931465-8472-4bc8-b8c2-f6b2df7ab1c9\",                        [{\"hovertemplate\":\"color=BRONSE<br>Stores orders=%{x}<br>Stores GMV=%{y}<extra></extra>\",\"legendgroup\":\"BRONSE\",\"marker\":{\"color\":\"#CD853F\",\"symbol\":\"circle\"},\"mode\":\"markers\",\"name\":\"BRONSE\",\"orientation\":\"v\",\"showlegend\":true,\"type\":\"scatter\",\"x\":[14,35,85,103,741,197,58,9,1002,67,34,33,25,45,9,27,276,118,123,85,120,84,102,3,177,46,23,30,93,294,19,108,14,22,239,35,23,9,33,72,21,25,7,55,25,54,8,140,4,33,55,58,703,125,13,80,99,18,34,29,360,11,19,18,170,660,154,8,150,90,93,22,50,253,7,88,119,153,5,297,15,33,30,92,62,5,114,34,66,33,25,35,24,75,19,65,93,5,188,52,46,102,270,57,64,255,2,107,71,104,776,436,439,75,184,224,44,69,11,100,7,214,67,144,14,216,17,65,221,12,9,74,30,263,40,80,426,48,46,185,74,54,23,53,458,239,89,26,127,53,26,47,17,101,294,156,31,57,32,12,48,138,146,398,72,61,66,89,39,25,92,30,165,23,36,10,127,432,36,13,4],\"xaxis\":\"x\",\"y\":[16220,25630,90660,114343,612911,163389,78918,4300,1015149,50487,37188,44438,36060,44212,10340,36796,324979,102145,178603,96472,129249,39301,120851,960,160940,57060,15405,16220,55278,147544,39170,72791,9850,22000,254931,33434,18304,8032,31345,65153,17862,27085,3468,68220,27133,65884,7040,171586,2690,29545,36350,70760,902030,95480,7040,59120,149610,8192,17216,28207,380136,19620,33120,27234,203670,542120,136990,10031,122267,98910,102980,8040,61573,449510,4595,81653,111793,250436,2320,277817,13450,27530,30015,98527,70547,3642,111636,34055,76630,45130,21726,24112,30710,119233,15180,98910,82160,6141,101644,62810,29439,115057,286967,77190,97893,330725,1305,137424,46380,193155,703729,381595,467048,111356,176682,289946,37510,103870,16985,16170,2300,206980,56405,171551,11545,221025,24555,45313,182246,9850,8690,78060,32952,380726,35349,78263,371820,64520,55955,81190,90187,43500,46920,52533,509185,345800,52304,24897,61471,49800,27470,21651,21451,97677,346385,137015,31595,36175,41729,13045,48525,124690,223660,469950,51240,65627,84185,44505,36778,19288,103310,39465,204253,7346,55775,11739,135690,337538,42077,7550,12500],\"yaxis\":\"y\"},{\"hovertemplate\":\"color=SILVER<br>Stores orders=%{x}<br>Stores GMV=%{y}<extra></extra>\",\"legendgroup\":\"SILVER\",\"marker\":{\"color\":\"#C0C0C0\",\"symbol\":\"circle\"},\"mode\":\"markers\",\"name\":\"SILVER\",\"orientation\":\"v\",\"showlegend\":true,\"type\":\"scatter\",\"x\":[60,142,34,62,175,190,120,33,76,39,294,113,55,22,45,18,211,49,16,28,33,17,108,176,121,175,59,67,22,288,45,60,71,10,97,85,42,37,134,53,60,745,22,43,15,60,26,21,51,35,11,85,273,438,238,117,1,19,170,68,44,113,85,16,65,590,7,45,74,30,25,43,385,20,371,6,20,264,32,113,68,120,4,55,66,682,120,16,9,90,161,71,93,65,11,35,92,1169,82,20,36,224,71,13,31,189,337,265,612,16,75,18,223,90,2,24,94,52,29,222,181,23,7,34,10,31,90,177,162,76,114,23,284,54,58,307,2,39,20,357,39,112,139,279,70,68,287,142,39,108,746,219,151,192,17,21,284,421,7,388,165,166,70,296,281,2,70,807,81,17,10,613,193,49,36],\"xaxis\":\"x\",\"y\":[105265,251600,18950,65093,249347,237178,62094,46820,74700,38350,235088,109269,27780,8578,51211,16108,251067,42186,12860,12115,34420,18681,166225,118272,109093,123679,27460,81140,10314,331706,26340,64385,37055,4377,205670,184448,14280,45370,177360,29975,79163,707524,11177,36910,19200,62322,32305,28340,46090,52470,8505,39988,260384,190955,139356,150923,941,11660,183457,49530,35972,118682,112350,7668,78095,306120,1741,57216,74965,13160,12240,58528,367568,17690,354832,5780,13328,236350,24503,103408,96192,225410,4310,36340,103480,451791,42405,9020,9740,62918,99555,33232,51167,42060,13570,75680,128330,656560,80046,10499,18495,289090,34259,12457,27844,107805,278085,338232,419815,5669,63349,34190,124276,78679,930,21677,79003,44110,33360,100820,153480,22855,4010,14895,4378,12820,121389,165877,135205,96140,140210,24106,160925,56183,52724,162610,2540,16423,16900,468200,40950,156470,74860,172030,48195,84850,212021,64519,30259,86635,598822,241220,111831,112985,10760,9721,472695,438278,3953,374473,225009,248920,69255,230396,151839,470,73480,324590,47640,14410,3406,797197,184280,77640,25070],\"yaxis\":\"y\"},{\"hovertemplate\":\"color=GOLD<br>Stores orders=%{x}<br>Stores GMV=%{y}<extra></extra>\",\"legendgroup\":\"GOLD\",\"marker\":{\"color\":\"#FFD700\",\"symbol\":\"circle\"},\"mode\":\"markers\",\"name\":\"GOLD\",\"orientation\":\"v\",\"showlegend\":true,\"type\":\"scatter\",\"x\":[55,6,228,4,149,1818,184,53,51,16,530,100,30,48,1386,40,381,1087,209,279,110,80,674,139,529,25,8,307,138,40,33,220,218,580,6,46,338,592,607,202,39,687,241,490,62,84,82,154,986,74,43,41,46,150,751,1366,341,387,36,51,440,34,197,56,156,104,283,223,98,44,45,857,8,18,47,95,205,107,41,37,276,79,119,121,381,1089,1177,602,432,10,471,16,346,38,53,568,519,285,193,21,204,296,442,10,11,243,119,215,1309,473,248,86,94,23,20,105,17,793,33,60,32,1113,20,134,1012,1,6,43,15,146,34,57,45,24,508,306,38,48,94,314,76,134,258,189,404,495,229,121,191,22,706,846,95,259,130,118,172,185,8,40,56,193,251,26,591,38,45,57,173,263,367,30,212,310,9,1339,706,155,40,55,910,108,154,949,97,160,66,307,1012,118,14,340,710,227,43,2,581,93,91,889,2349,124,137,298,25,453,240],\"xaxis\":\"x\",\"y\":[88587,7318,172473,6340,167575,1027568,174846,28383,35170,8335,463155,76255,37015,42001,1390145,47320,330667,903120,89510,299904,98113,29988,594460,182588,462210,12838,3184,311295,103725,36227,35002,206591,151985,461495,3224,34280,333927,487655,952670,160624,25055,331675,129101,305675,36442,99925,80132,91020,784259,42915,23046,39093,29880,75360,747450,1163366,290398,327580,27879,56627,375688,14725,180225,75921,161615,61765,271149,235895,87747,30676,76510,617677,12831,8219,48850,58602,203769,124920,68780,16119,422455,68613,273020,246680,379027,1101560,1121506,623618,359110,15230,477774,16599,277686,42811,60686,891820,419657,149735,141719,33600,218832,151818,370785,11092,13733,213607,80372,190285,1241377,238472,223731,68771,138320,15765,8692,117505,16321,669106,24175,27448,48718,1098318,14537,76812,964426,520,5261,39859,6585,68533,39075,55033,16310,19935,459967,404190,26635,23280,62615,291975,90015,108527,147759,159060,313382,324143,225120,64421,186850,9793,445380,349130,50909,520820,59026,59445,130355,163624,9689,17788,79356,164831,342166,35180,470388,59923,24308,72154,161005,454829,299372,10150,178147,276960,5490,1200971,587038,132967,26861,33272,832306,84180,151933,595639,91701,136918,100430,145745,986308,119995,13008,261420,556076,128650,43445,441,313140,40157,78318,821467,1846175,105230,117974,255445,33179,329045,148984],\"yaxis\":\"y\"},{\"hovertemplate\":\"color=NO MEDAL<br>Stores orders=%{x}<br>Stores GMV=%{y}<extra></extra>\",\"legendgroup\":\"NO MEDAL\",\"marker\":{\"color\":\"#FF4500\",\"symbol\":\"circle\"},\"mode\":\"markers\",\"name\":\"NO MEDAL\",\"orientation\":\"v\",\"showlegend\":true,\"type\":\"scatter\",\"x\":[42,1,8,59,47,3,21,48,65,5,35,12,19,19,34,319,66,35,441,9,36,9,3,19,74,21,130,29,51,177,43,19,99,12,84,28,22,33,473,30,118,103,12,27,206,17,59,9,23,86,11,583,30,79,26,141,2,14,155,23,33,43,276,26,134],\"xaxis\":\"x\",\"y\":[20154,900,4654,68590,45710,807,16310,22650,71270,2070,22598,12573,7396,16335,22805,269415,79441,14757,339689,14250,40520,5098,2125,19332,47800,7660,105655,12420,29927,118766,30180,13080,163610,9270,56791,11260,18000,33760,263245,16520,149210,68320,8040,16552,299359,9085,36310,5680,65743,50475,10304,568125,20205,41950,20990,232058,885,20570,217460,18530,16348,25458,185360,12903,104075],\"yaxis\":\"y\"}],                        {\"legend\":{\"title\":{\"text\":\"color\"},\"tracegroupgap\":0},\"template\":{\"data\":{\"bar\":[{\"error_x\":{\"color\":\"#2a3f5f\"},\"error_y\":{\"color\":\"#2a3f5f\"},\"marker\":{\"line\":{\"color\":\"#E5ECF6\",\"width\":0.5},\"pattern\":{\"fillmode\":\"overlay\",\"size\":10,\"solidity\":0.2}},\"type\":\"bar\"}],\"barpolar\":[{\"marker\":{\"line\":{\"color\":\"#E5ECF6\",\"width\":0.5},\"pattern\":{\"fillmode\":\"overlay\",\"size\":10,\"solidity\":0.2}},\"type\":\"barpolar\"}],\"carpet\":[{\"aaxis\":{\"endlinecolor\":\"#2a3f5f\",\"gridcolor\":\"white\",\"linecolor\":\"white\",\"minorgridcolor\":\"white\",\"startlinecolor\":\"#2a3f5f\"},\"baxis\":{\"endlinecolor\":\"#2a3f5f\",\"gridcolor\":\"white\",\"linecolor\":\"white\",\"minorgridcolor\":\"white\",\"startlinecolor\":\"#2a3f5f\"},\"type\":\"carpet\"}],\"choropleth\":[{\"colorbar\":{\"outlinewidth\":0,\"ticks\":\"\"},\"type\":\"choropleth\"}],\"contour\":[{\"colorbar\":{\"outlinewidth\":0,\"ticks\":\"\"},\"colorscale\":[[0.0,\"#0d0887\"],[0.1111111111111111,\"#46039f\"],[0.2222222222222222,\"#7201a8\"],[0.3333333333333333,\"#9c179e\"],[0.4444444444444444,\"#bd3786\"],[0.5555555555555556,\"#d8576b\"],[0.6666666666666666,\"#ed7953\"],[0.7777777777777778,\"#fb9f3a\"],[0.8888888888888888,\"#fdca26\"],[1.0,\"#f0f921\"]],\"type\":\"contour\"}],\"contourcarpet\":[{\"colorbar\":{\"outlinewidth\":0,\"ticks\":\"\"},\"type\":\"contourcarpet\"}],\"heatmap\":[{\"colorbar\":{\"outlinewidth\":0,\"ticks\":\"\"},\"colorscale\":[[0.0,\"#0d0887\"],[0.1111111111111111,\"#46039f\"],[0.2222222222222222,\"#7201a8\"],[0.3333333333333333,\"#9c179e\"],[0.4444444444444444,\"#bd3786\"],[0.5555555555555556,\"#d8576b\"],[0.6666666666666666,\"#ed7953\"],[0.7777777777777778,\"#fb9f3a\"],[0.8888888888888888,\"#fdca26\"],[1.0,\"#f0f921\"]],\"type\":\"heatmap\"}],\"heatmapgl\":[{\"colorbar\":{\"outlinewidth\":0,\"ticks\":\"\"},\"colorscale\":[[0.0,\"#0d0887\"],[0.1111111111111111,\"#46039f\"],[0.2222222222222222,\"#7201a8\"],[0.3333333333333333,\"#9c179e\"],[0.4444444444444444,\"#bd3786\"],[0.5555555555555556,\"#d8576b\"],[0.6666666666666666,\"#ed7953\"],[0.7777777777777778,\"#fb9f3a\"],[0.8888888888888888,\"#fdca26\"],[1.0,\"#f0f921\"]],\"type\":\"heatmapgl\"}],\"histogram\":[{\"marker\":{\"pattern\":{\"fillmode\":\"overlay\",\"size\":10,\"solidity\":0.2}},\"type\":\"histogram\"}],\"histogram2d\":[{\"colorbar\":{\"outlinewidth\":0,\"ticks\":\"\"},\"colorscale\":[[0.0,\"#0d0887\"],[0.1111111111111111,\"#46039f\"],[0.2222222222222222,\"#7201a8\"],[0.3333333333333333,\"#9c179e\"],[0.4444444444444444,\"#bd3786\"],[0.5555555555555556,\"#d8576b\"],[0.6666666666666666,\"#ed7953\"],[0.7777777777777778,\"#fb9f3a\"],[0.8888888888888888,\"#fdca26\"],[1.0,\"#f0f921\"]],\"type\":\"histogram2d\"}],\"histogram2dcontour\":[{\"colorbar\":{\"outlinewidth\":0,\"ticks\":\"\"},\"colorscale\":[[0.0,\"#0d0887\"],[0.1111111111111111,\"#46039f\"],[0.2222222222222222,\"#7201a8\"],[0.3333333333333333,\"#9c179e\"],[0.4444444444444444,\"#bd3786\"],[0.5555555555555556,\"#d8576b\"],[0.6666666666666666,\"#ed7953\"],[0.7777777777777778,\"#fb9f3a\"],[0.8888888888888888,\"#fdca26\"],[1.0,\"#f0f921\"]],\"type\":\"histogram2dcontour\"}],\"mesh3d\":[{\"colorbar\":{\"outlinewidth\":0,\"ticks\":\"\"},\"type\":\"mesh3d\"}],\"parcoords\":[{\"line\":{\"colorbar\":{\"outlinewidth\":0,\"ticks\":\"\"}},\"type\":\"parcoords\"}],\"pie\":[{\"automargin\":true,\"type\":\"pie\"}],\"scatter\":[{\"marker\":{\"colorbar\":{\"outlinewidth\":0,\"ticks\":\"\"}},\"type\":\"scatter\"}],\"scatter3d\":[{\"line\":{\"colorbar\":{\"outlinewidth\":0,\"ticks\":\"\"}},\"marker\":{\"colorbar\":{\"outlinewidth\":0,\"ticks\":\"\"}},\"type\":\"scatter3d\"}],\"scattercarpet\":[{\"marker\":{\"colorbar\":{\"outlinewidth\":0,\"ticks\":\"\"}},\"type\":\"scattercarpet\"}],\"scattergeo\":[{\"marker\":{\"colorbar\":{\"outlinewidth\":0,\"ticks\":\"\"}},\"type\":\"scattergeo\"}],\"scattergl\":[{\"marker\":{\"colorbar\":{\"outlinewidth\":0,\"ticks\":\"\"}},\"type\":\"scattergl\"}],\"scattermapbox\":[{\"marker\":{\"colorbar\":{\"outlinewidth\":0,\"ticks\":\"\"}},\"type\":\"scattermapbox\"}],\"scatterpolar\":[{\"marker\":{\"colorbar\":{\"outlinewidth\":0,\"ticks\":\"\"}},\"type\":\"scatterpolar\"}],\"scatterpolargl\":[{\"marker\":{\"colorbar\":{\"outlinewidth\":0,\"ticks\":\"\"}},\"type\":\"scatterpolargl\"}],\"scatterternary\":[{\"marker\":{\"colorbar\":{\"outlinewidth\":0,\"ticks\":\"\"}},\"type\":\"scatterternary\"}],\"surface\":[{\"colorbar\":{\"outlinewidth\":0,\"ticks\":\"\"},\"colorscale\":[[0.0,\"#0d0887\"],[0.1111111111111111,\"#46039f\"],[0.2222222222222222,\"#7201a8\"],[0.3333333333333333,\"#9c179e\"],[0.4444444444444444,\"#bd3786\"],[0.5555555555555556,\"#d8576b\"],[0.6666666666666666,\"#ed7953\"],[0.7777777777777778,\"#fb9f3a\"],[0.8888888888888888,\"#fdca26\"],[1.0,\"#f0f921\"]],\"type\":\"surface\"}],\"table\":[{\"cells\":{\"fill\":{\"color\":\"#EBF0F8\"},\"line\":{\"color\":\"white\"}},\"header\":{\"fill\":{\"color\":\"#C8D4E3\"},\"line\":{\"color\":\"white\"}},\"type\":\"table\"}]},\"layout\":{\"annotationdefaults\":{\"arrowcolor\":\"#2a3f5f\",\"arrowhead\":0,\"arrowwidth\":1},\"autotypenumbers\":\"strict\",\"coloraxis\":{\"colorbar\":{\"outlinewidth\":0,\"ticks\":\"\"}},\"colorscale\":{\"diverging\":[[0,\"#8e0152\"],[0.1,\"#c51b7d\"],[0.2,\"#de77ae\"],[0.3,\"#f1b6da\"],[0.4,\"#fde0ef\"],[0.5,\"#f7f7f7\"],[0.6,\"#e6f5d0\"],[0.7,\"#b8e186\"],[0.8,\"#7fbc41\"],[0.9,\"#4d9221\"],[1,\"#276419\"]],\"sequential\":[[0.0,\"#0d0887\"],[0.1111111111111111,\"#46039f\"],[0.2222222222222222,\"#7201a8\"],[0.3333333333333333,\"#9c179e\"],[0.4444444444444444,\"#bd3786\"],[0.5555555555555556,\"#d8576b\"],[0.6666666666666666,\"#ed7953\"],[0.7777777777777778,\"#fb9f3a\"],[0.8888888888888888,\"#fdca26\"],[1.0,\"#f0f921\"]],\"sequentialminus\":[[0.0,\"#0d0887\"],[0.1111111111111111,\"#46039f\"],[0.2222222222222222,\"#7201a8\"],[0.3333333333333333,\"#9c179e\"],[0.4444444444444444,\"#bd3786\"],[0.5555555555555556,\"#d8576b\"],[0.6666666666666666,\"#ed7953\"],[0.7777777777777778,\"#fb9f3a\"],[0.8888888888888888,\"#fdca26\"],[1.0,\"#f0f921\"]]},\"colorway\":[\"#636efa\",\"#EF553B\",\"#00cc96\",\"#ab63fa\",\"#FFA15A\",\"#19d3f3\",\"#FF6692\",\"#B6E880\",\"#FF97FF\",\"#FECB52\"],\"font\":{\"color\":\"#2a3f5f\"},\"geo\":{\"bgcolor\":\"white\",\"lakecolor\":\"white\",\"landcolor\":\"#E5ECF6\",\"showlakes\":true,\"showland\":true,\"subunitcolor\":\"white\"},\"hoverlabel\":{\"align\":\"left\"},\"hovermode\":\"closest\",\"mapbox\":{\"style\":\"light\"},\"paper_bgcolor\":\"white\",\"plot_bgcolor\":\"#E5ECF6\",\"polar\":{\"angularaxis\":{\"gridcolor\":\"white\",\"linecolor\":\"white\",\"ticks\":\"\"},\"bgcolor\":\"#E5ECF6\",\"radialaxis\":{\"gridcolor\":\"white\",\"linecolor\":\"white\",\"ticks\":\"\"}},\"scene\":{\"xaxis\":{\"backgroundcolor\":\"#E5ECF6\",\"gridcolor\":\"white\",\"gridwidth\":2,\"linecolor\":\"white\",\"showbackground\":true,\"ticks\":\"\",\"zerolinecolor\":\"white\"},\"yaxis\":{\"backgroundcolor\":\"#E5ECF6\",\"gridcolor\":\"white\",\"gridwidth\":2,\"linecolor\":\"white\",\"showbackground\":true,\"ticks\":\"\",\"zerolinecolor\":\"white\"},\"zaxis\":{\"backgroundcolor\":\"#E5ECF6\",\"gridcolor\":\"white\",\"gridwidth\":2,\"linecolor\":\"white\",\"showbackground\":true,\"ticks\":\"\",\"zerolinecolor\":\"white\"}},\"shapedefaults\":{\"line\":{\"color\":\"#2a3f5f\"}},\"ternary\":{\"aaxis\":{\"gridcolor\":\"white\",\"linecolor\":\"white\",\"ticks\":\"\"},\"baxis\":{\"gridcolor\":\"white\",\"linecolor\":\"white\",\"ticks\":\"\"},\"bgcolor\":\"#E5ECF6\",\"caxis\":{\"gridcolor\":\"white\",\"linecolor\":\"white\",\"ticks\":\"\"}},\"title\":{\"x\":0.05},\"xaxis\":{\"automargin\":true,\"gridcolor\":\"white\",\"linecolor\":\"white\",\"ticks\":\"\",\"title\":{\"standoff\":15},\"zerolinecolor\":\"white\",\"zerolinewidth\":2},\"yaxis\":{\"automargin\":true,\"gridcolor\":\"white\",\"linecolor\":\"white\",\"ticks\":\"\",\"title\":{\"standoff\":15},\"zerolinecolor\":\"white\",\"zerolinewidth\":2}}},\"title\":{\"text\":\"GMV-orders relation by medals\"},\"xaxis\":{\"anchor\":\"y\",\"domain\":[0.0,1.0],\"title\":{\"text\":\"Stores orders\"}},\"yaxis\":{\"anchor\":\"x\",\"domain\":[0.0,1.0],\"title\":{\"text\":\"Stores GMV\"}}},                        {\"responsive\": true}                    ).then(function(){\n",
       "                            \n",
       "var gd = document.getElementById('ed931465-8472-4bc8-b8c2-f6b2df7ab1c9');\n",
       "var x = new MutationObserver(function (mutations, observer) {{\n",
       "        var display = window.getComputedStyle(gd).display;\n",
       "        if (!display || display === 'none') {{\n",
       "            console.log([gd, 'removed!']);\n",
       "            Plotly.purge(gd);\n",
       "            observer.disconnect();\n",
       "        }}\n",
       "}});\n",
       "\n",
       "// Listen for the removal of the full notebook cells\n",
       "var notebookContainer = gd.closest('#notebook-container');\n",
       "if (notebookContainer) {{\n",
       "    x.observe(notebookContainer, {childList: true});\n",
       "}}\n",
       "\n",
       "// Listen for the clearing of the current output cell\n",
       "var outputEl = gd.closest('.output');\n",
       "if (outputEl) {{\n",
       "    x.observe(outputEl, {childList: true});\n",
       "}}\n",
       "\n",
       "                        })                };                });            </script>        </div>"
      ]
     },
     "metadata": {},
     "output_type": "display_data"
    },
    {
     "data": {
      "application/vnd.plotly.v1+json": {
       "config": {
        "plotlyServerURL": "https://plot.ly"
       },
       "data": [
        {
         "hovertemplate": "color=BRONSE<br>Potential=%{x}<br>Stores GMV=%{y}<extra></extra>",
         "legendgroup": "BRONSE",
         "marker": {
          "color": "#CD853F",
          "symbol": "circle"
         },
         "mode": "markers",
         "name": "BRONSE",
         "orientation": "v",
         "showlegend": true,
         "type": "scatter",
         "x": [
          2.182178808,
          1.741892401,
          1.42118212,
          0.955523742,
          2.978094506,
          1.522364559,
          0.002964173,
          0.016224495,
          2.812569389,
          4.969212529,
          1.542845084,
          0.003037129,
          0.719573775,
          3.316010367,
          0.275376185,
          0.000108469,
          0.119072403,
          3.647380316,
          4.377490869,
          2.837815696,
          0.097460658,
          4.752853507,
          0.566846498,
          1.018147541,
          0.704882461,
          6.027716435,
          0.143362967,
          0.541941314,
          2.060745948,
          2.715526901,
          0.91519482,
          0.044731163,
          0.56491833,
          0.887527353,
          2.329508411,
          0.036570808,
          1.185764252,
          4.50135744,
          3.110041938,
          0.015700872,
          0.975205879,
          0.862265851,
          0.534976727,
          3.126445394,
          0.034662277,
          0.785497777,
          0.021400027,
          1.389519364,
          3.025668935,
          1.107191811,
          3.26926162,
          6.723896944,
          0.26378782,
          2.890588741,
          0.018358359,
          2.182614584,
          1.942250883,
          0.018291871,
          0.060813604,
          2.271097726,
          0.560760779,
          3.820095977,
          5.165789391,
          4.428661544,
          1.379665539,
          3.862485896,
          0.811899285,
          2.135400508,
          0,
          1.036520452,
          5.484030757,
          0.378366532,
          2.318746621,
          6.605155,
          0.961508332,
          2.220566725,
          2.328528144,
          2.966441417,
          2.811276437,
          4.600547259,
          0.083441054,
          3.771517846,
          0.912751587,
          3.449436426,
          5.728353684,
          0.860608326,
          0.066740022,
          1.250695759,
          0.387443268,
          4.957578393,
          3.315175272,
          0.384419754,
          0.000623696,
          0.89718138,
          2.897205362,
          4.867957562,
          1.669145293,
          0.097804786,
          1.073488449,
          2.595858139,
          0.113689011,
          2.982460935,
          0.321588583,
          0.494486152,
          2.23700552,
          0.562994248,
          2.970465835,
          0.47320483,
          6.389606821,
          2.764961128,
          3.135155388,
          4.219537606,
          3.129680392,
          0.008379222,
          0.165999381,
          0.039258022,
          2.26371504,
          5.67594509,
          3.393356538,
          2.405423086,
          3.031536208,
          1.384774417,
          1.901573284,
          10.55442573,
          1.954031238,
          2.874114456,
          0.471420425,
          4.638898053,
          0,
          3.981996389,
          3.857813882,
          3.857813882,
          4.385517611,
          0.428716886,
          0.29353576,
          1.776658203,
          3.418315387,
          3.25850794,
          1.3667412,
          2.979009102,
          1.616720551,
          2.4214938,
          0.332580702,
          3.902777308,
          1.447218799,
          2.337931875,
          0.008260428,
          2.279565027,
          0.002142261,
          0.102425038,
          0.548264681,
          0.085335969,
          1.636210735,
          2.953235389,
          0.900219041,
          3.862037116,
          4.169570152,
          2.634679409,
          1.0862438,
          0.00683354,
          0.031892463,
          4.315060853,
          5.891941144,
          0.68159204,
          2.04378345,
          2.121889738,
          3.005158327,
          0.026574878,
          5.571148074,
          0.547904836,
          1.303767986,
          4.262214586,
          2.908313672,
          0.011153574,
          3.113745912,
          7.275924111,
          1.967256078,
          2.456651426,
          0.836136188,
          6.4388318,
          1.025904759
         ],
         "xaxis": "x",
         "y": [
          16220,
          25630,
          90660,
          114343,
          612911,
          163389,
          78918,
          4300,
          1015149,
          50487,
          37188,
          44438,
          36060,
          44212,
          10340,
          36796,
          324979,
          102145,
          178603,
          96472,
          129249,
          39301,
          120851,
          960,
          160940,
          57060,
          15405,
          16220,
          55278,
          147544,
          39170,
          72791,
          9850,
          22000,
          254931,
          33434,
          18304,
          8032,
          31345,
          65153,
          17862,
          27085,
          3468,
          68220,
          27133,
          65884,
          7040,
          171586,
          2690,
          29545,
          36350,
          70760,
          902030,
          95480,
          7040,
          59120,
          149610,
          8192,
          17216,
          28207,
          380136,
          19620,
          33120,
          27234,
          203670,
          542120,
          136990,
          10031,
          122267,
          98910,
          102980,
          8040,
          61573,
          449510,
          4595,
          81653,
          111793,
          250436,
          2320,
          277817,
          13450,
          27530,
          30015,
          98527,
          70547,
          3642,
          111636,
          34055,
          76630,
          45130,
          21726,
          24112,
          30710,
          119233,
          15180,
          98910,
          82160,
          6141,
          101644,
          62810,
          29439,
          115057,
          286967,
          77190,
          97893,
          330725,
          1305,
          137424,
          46380,
          193155,
          703729,
          381595,
          467048,
          111356,
          176682,
          289946,
          37510,
          103870,
          16985,
          16170,
          2300,
          206980,
          56405,
          171551,
          11545,
          221025,
          24555,
          45313,
          182246,
          9850,
          8690,
          78060,
          32952,
          380726,
          35349,
          78263,
          371820,
          64520,
          55955,
          81190,
          90187,
          43500,
          46920,
          52533,
          509185,
          345800,
          52304,
          24897,
          61471,
          49800,
          27470,
          21651,
          21451,
          97677,
          346385,
          137015,
          31595,
          36175,
          41729,
          13045,
          48525,
          124690,
          223660,
          469950,
          51240,
          65627,
          84185,
          44505,
          36778,
          19288,
          103310,
          39465,
          204253,
          7346,
          55775,
          11739,
          135690,
          337538,
          42077,
          7550,
          12500
         ],
         "yaxis": "y"
        },
        {
         "hovertemplate": "color=SILVER<br>Potential=%{x}<br>Stores GMV=%{y}<extra></extra>",
         "legendgroup": "SILVER",
         "marker": {
          "color": "#C0C0C0",
          "symbol": "circle"
         },
         "mode": "markers",
         "name": "SILVER",
         "orientation": "v",
         "showlegend": true,
         "type": "scatter",
         "x": [
          10.06634971,
          12.45967895,
          14.32042458,
          6.27736511,
          3.950540141,
          27.34444814,
          12.68142746,
          6.461042005,
          11.2748239,
          11.34623794,
          17.86091141,
          12.31039412,
          19.9488141,
          10.23557576,
          23.20872723,
          22.22817452,
          22.22817452,
          9.322836129,
          11.12901473,
          21.66112491,
          10.21394932,
          13.19657261,
          32.58052513,
          3.473158431,
          24.67361051,
          28.93479888,
          13.95050297,
          1.440340304,
          5.110114371,
          7.875257082,
          23.74051905,
          1.356382809,
          10.11371318,
          5.119040433,
          6.120759731,
          18.12805313,
          15.40449798,
          4.713237909,
          5.212259236,
          12.89200876,
          4.894491513,
          24.86352863,
          9.167271587,
          8.715405399,
          12.42471977,
          9.328587517,
          9.328587517,
          6.921407609,
          0.59801747,
          9.955476379,
          5.904294984,
          10.04096772,
          17.12574197,
          12.26899214,
          15.60857687,
          15.24344931,
          7.765289033,
          4.905286127,
          6.646168523,
          9.17006892,
          13.97612401,
          3.370171032,
          9.481072659,
          16.82298917,
          5.397493726,
          15.68094928,
          26.98334145,
          2.694624592,
          8.166578965,
          13.02688387,
          0,
          11.15153254,
          10.59978272,
          9.439117779,
          9.8765299,
          7.292191537,
          11.71059175,
          80.88107723,
          11.11131699,
          17.35434668,
          14.78260309,
          13.07789458,
          6.312586521,
          4.076170298,
          8.838840493,
          8.350254923,
          5.613896849,
          3.822604003,
          8.334930858,
          21.35475706,
          12.26069604,
          17.24055265,
          13.40684735,
          12.46367846,
          15.55987418,
          26.30337756,
          7.8900498,
          27.3481743,
          4.576230791,
          16.24673119,
          30.65869715,
          33.68502058,
          8.472913146,
          0,
          14.62001013,
          16.21312652,
          7.272875494,
          2.950240751,
          16.2914701,
          13.55756781,
          8.580324686,
          16.15394286,
          14.28314773,
          17.47697171,
          12.05712172,
          48.92944601,
          5.593052231,
          21.05751312,
          7.203979141,
          13.42788055,
          10.53199212,
          8.258124977,
          0,
          8.669592914,
          10.04096772,
          23.68823152,
          4.511223973,
          3.967632443,
          11.09961302,
          9.26793997,
          6.240937815,
          10.51341444,
          26.60281063,
          12.00715887,
          3.456460517,
          9.471495397,
          9.147339467,
          15.24795707,
          6.835812714,
          4.318008135,
          8.320447734,
          7.32469202,
          13.02464553,
          30.93774264,
          16.60027064,
          4.361424739,
          4.793475143,
          11.939875,
          28.81107412,
          2.589492567,
          12.7917665,
          14.47804384,
          23.25631717,
          19.45206357,
          6.61441812,
          20.32594538,
          5.376314836,
          6.60853167,
          17.39196112,
          4.996835248,
          21.04208996,
          3.409705644,
          13.14754676,
          9.227637507,
          6.875913785,
          6.167096565,
          4.735307728,
          17.6786591,
          19.92051314,
          4.614559242,
          16.99140139,
          15.50646212,
          9.551472207,
          11.87084334,
          7.317732162
         ],
         "xaxis": "x",
         "y": [
          105265,
          251600,
          18950,
          65093,
          249347,
          237178,
          62094,
          46820,
          74700,
          38350,
          235088,
          109269,
          27780,
          8578,
          51211,
          16108,
          251067,
          42186,
          12860,
          12115,
          34420,
          18681,
          166225,
          118272,
          109093,
          123679,
          27460,
          81140,
          10314,
          331706,
          26340,
          64385,
          37055,
          4377,
          205670,
          184448,
          14280,
          45370,
          177360,
          29975,
          79163,
          707524,
          11177,
          36910,
          19200,
          62322,
          32305,
          28340,
          46090,
          52470,
          8505,
          39988,
          260384,
          190955,
          139356,
          150923,
          941,
          11660,
          183457,
          49530,
          35972,
          118682,
          112350,
          7668,
          78095,
          306120,
          1741,
          57216,
          74965,
          13160,
          12240,
          58528,
          367568,
          17690,
          354832,
          5780,
          13328,
          236350,
          24503,
          103408,
          96192,
          225410,
          4310,
          36340,
          103480,
          451791,
          42405,
          9020,
          9740,
          62918,
          99555,
          33232,
          51167,
          42060,
          13570,
          75680,
          128330,
          656560,
          80046,
          10499,
          18495,
          289090,
          34259,
          12457,
          27844,
          107805,
          278085,
          338232,
          419815,
          5669,
          63349,
          34190,
          124276,
          78679,
          930,
          21677,
          79003,
          44110,
          33360,
          100820,
          153480,
          22855,
          4010,
          14895,
          4378,
          12820,
          121389,
          165877,
          135205,
          96140,
          140210,
          24106,
          160925,
          56183,
          52724,
          162610,
          2540,
          16423,
          16900,
          468200,
          40950,
          156470,
          74860,
          172030,
          48195,
          84850,
          212021,
          64519,
          30259,
          86635,
          598822,
          241220,
          111831,
          112985,
          10760,
          9721,
          472695,
          438278,
          3953,
          374473,
          225009,
          248920,
          69255,
          230396,
          151839,
          470,
          73480,
          324590,
          47640,
          14410,
          3406,
          797197,
          184280,
          77640,
          25070
         ],
         "yaxis": "y"
        },
        {
         "hovertemplate": "color=GOLD<br>Potential=%{x}<br>Stores GMV=%{y}<extra></extra>",
         "legendgroup": "GOLD",
         "marker": {
          "color": "#FFD700",
          "symbol": "circle"
         },
         "mode": "markers",
         "name": "GOLD",
         "orientation": "v",
         "showlegend": true,
         "type": "scatter",
         "x": [
          76.79700802,
          13.38369918,
          42.59591215,
          13.86256134,
          18.52459334,
          45.5684672,
          16.08684534,
          15.2045597,
          13.00767216,
          27.04755435,
          39.35764504,
          14.96693377,
          23.8304816,
          52.35454062,
          14.21008648,
          21.67308631,
          44.31404039,
          40.85041387,
          24.91056926,
          47.81571694,
          24.43102722,
          28.09699805,
          33.00317644,
          23.29861993,
          36.09187939,
          26.50945192,
          20.44954074,
          16.75017097,
          12.65625742,
          5.96759691,
          7.964344776,
          26.17174933,
          23.09950326,
          36.53066382,
          19.18437005,
          27.42837668,
          33.81656955,
          33.81656955,
          112.8315253,
          22.55650813,
          23.40154931,
          33.00014331,
          21.58876309,
          30.63033802,
          21.47542066,
          46.94965064,
          36.58304031,
          11.55000881,
          24.13584707,
          26.72281306,
          17.55437719,
          6.046003806,
          39.09771798,
          32.38082171,
          33.90871639,
          41.80322274,
          77.05181837,
          51.33593219,
          30.07710933,
          59.14683494,
          109.5778847,
          26.46976392,
          47.74201527,
          18.98179381,
          106.072037,
          8.228188827,
          28.59222287,
          26.96965765,
          35.9303913,
          70.08347161,
          103.4770775,
          154.5742612,
          23.82700332,
          27.8616188,
          15.32028014,
          105.8348017,
          44.94312261,
          9.349166696,
          51.17882308,
          42.27442751,
          43.34641435,
          8.366250171,
          56.9528444,
          22.7414421,
          22.63436819,
          27.15037873,
          27.15037873,
          29.55717646,
          49.40324083,
          59.00805504,
          40.97442591,
          25.26452216,
          38.91769934,
          30.83364218,
          25.70553633,
          52.04148028,
          84.3090645,
          15.32510542,
          15.60490165,
          60.40054271,
          207.5020114,
          71.07864753,
          33.80983807,
          5.045750437,
          8.43163779,
          92.96823921,
          95.36526144,
          13.73497424,
          124.5518071,
          46.50968551,
          18.58830873,
          28.33734274,
          56.39889498,
          66.45627138,
          45.9542342,
          41.27924432,
          6.226586875,
          204.1697243,
          42.40937996,
          42.16327747,
          22.15831809,
          65.01346134,
          5.877710278,
          82.85634261,
          52.33720968,
          56.05342622,
          13.90353204,
          185.2824914,
          25.08775048,
          43.27052365,
          33.21386387,
          12.62823455,
          22.45790283,
          30.41197331,
          52.05652094,
          38.15648494,
          33.9003023,
          40.44339905,
          36.74511948,
          49.91316102,
          29.8524641,
          20.32580044,
          20.43043392,
          27.58571517,
          86.20087696,
          40.46353491,
          27.43969305,
          0,
          146.2139468,
          35.18533624,
          32.55161087,
          60.17742614,
          15.57386946,
          49.52100866,
          25.8795361,
          25.8795361,
          18.86327109,
          18.86327109,
          22.13918429,
          23.82113559,
          38.88906198,
          30.79898926,
          94.13367294,
          22.58522133,
          26.32633896,
          22.23229688,
          38.94841586,
          13.74895499,
          10.78019482,
          41.06049984,
          45.14676382,
          24.01381953,
          30.48856602,
          17.15389054,
          24.57349807,
          25.44886003,
          13.36740204,
          13.36740204,
          41.47054352,
          15.21761176,
          53.27726283,
          13.94968241,
          8.952645836,
          0.037340415,
          33.15214549,
          15.48060291,
          30.11192365,
          33.67743781,
          19.63207935,
          49.92759864,
          8.50203782,
          16.63077245,
          354.8595031,
          75.19600045,
          20.02600364,
          21.12915661,
          35.69451351,
          22.22052519,
          28.12347092,
          24.43414776,
          18.8764065,
          35.49013313,
          10.78401629,
          25.57789669,
          17.30065545,
          31.72220895,
          15.86974389
         ],
         "xaxis": "x",
         "y": [
          88587,
          7318,
          172473,
          6340,
          167575,
          1027568,
          174846,
          28383,
          35170,
          8335,
          463155,
          76255,
          37015,
          42001,
          1390145,
          47320,
          330667,
          903120,
          89510,
          299904,
          98113,
          29988,
          594460,
          182588,
          462210,
          12838,
          3184,
          311295,
          103725,
          36227,
          35002,
          206591,
          151985,
          461495,
          3224,
          34280,
          333927,
          487655,
          952670,
          160624,
          25055,
          331675,
          129101,
          305675,
          36442,
          99925,
          80132,
          91020,
          784259,
          42915,
          23046,
          39093,
          29880,
          75360,
          747450,
          1163366,
          290398,
          327580,
          27879,
          56627,
          375688,
          14725,
          180225,
          75921,
          161615,
          61765,
          271149,
          235895,
          87747,
          30676,
          76510,
          617677,
          12831,
          8219,
          48850,
          58602,
          203769,
          124920,
          68780,
          16119,
          422455,
          68613,
          273020,
          246680,
          379027,
          1101560,
          1121506,
          623618,
          359110,
          15230,
          477774,
          16599,
          277686,
          42811,
          60686,
          891820,
          419657,
          149735,
          141719,
          33600,
          218832,
          151818,
          370785,
          11092,
          13733,
          213607,
          80372,
          190285,
          1241377,
          238472,
          223731,
          68771,
          138320,
          15765,
          8692,
          117505,
          16321,
          669106,
          24175,
          27448,
          48718,
          1098318,
          14537,
          76812,
          964426,
          520,
          5261,
          39859,
          6585,
          68533,
          39075,
          55033,
          16310,
          19935,
          459967,
          404190,
          26635,
          23280,
          62615,
          291975,
          90015,
          108527,
          147759,
          159060,
          313382,
          324143,
          225120,
          64421,
          186850,
          9793,
          445380,
          349130,
          50909,
          520820,
          59026,
          59445,
          130355,
          163624,
          9689,
          17788,
          79356,
          164831,
          342166,
          35180,
          470388,
          59923,
          24308,
          72154,
          161005,
          454829,
          299372,
          10150,
          178147,
          276960,
          5490,
          1200971,
          587038,
          132967,
          26861,
          33272,
          832306,
          84180,
          151933,
          595639,
          91701,
          136918,
          100430,
          145745,
          986308,
          119995,
          13008,
          261420,
          556076,
          128650,
          43445,
          441,
          313140,
          40157,
          78318,
          821467,
          1846175,
          105230,
          117974,
          255445,
          33179,
          329045,
          148984
         ],
         "yaxis": "y"
        },
        {
         "hovertemplate": "color=NO MEDAL<br>Potential=%{x}<br>Stores GMV=%{y}<extra></extra>",
         "legendgroup": "NO MEDAL",
         "marker": {
          "color": "#FF4500",
          "symbol": "circle"
         },
         "mode": "markers",
         "name": "NO MEDAL",
         "orientation": "v",
         "showlegend": true,
         "type": "scatter",
         "x": [
          0,
          0,
          0,
          0,
          0,
          0,
          0,
          0,
          0,
          0,
          0,
          0,
          0,
          0,
          0,
          0,
          0,
          0,
          0,
          0,
          0,
          0,
          0,
          0,
          0,
          0,
          0,
          0,
          0,
          0,
          0,
          0,
          0,
          0,
          0,
          0,
          0,
          0,
          0,
          0,
          0,
          0,
          0,
          0,
          0,
          0,
          0,
          0,
          0,
          0,
          0,
          0,
          0,
          0,
          0,
          0,
          0,
          0,
          0,
          0,
          0,
          0,
          0,
          0,
          0
         ],
         "xaxis": "x",
         "y": [
          20154,
          900,
          4654,
          68590,
          45710,
          807,
          16310,
          22650,
          71270,
          2070,
          22598,
          12573,
          7396,
          16335,
          22805,
          269415,
          79441,
          14757,
          339689,
          14250,
          40520,
          5098,
          2125,
          19332,
          47800,
          7660,
          105655,
          12420,
          29927,
          118766,
          30180,
          13080,
          163610,
          9270,
          56791,
          11260,
          18000,
          33760,
          263245,
          16520,
          149210,
          68320,
          8040,
          16552,
          299359,
          9085,
          36310,
          5680,
          65743,
          50475,
          10304,
          568125,
          20205,
          41950,
          20990,
          232058,
          885,
          20570,
          217460,
          18530,
          16348,
          25458,
          185360,
          12903,
          104075
         ],
         "yaxis": "y"
        }
       ],
       "layout": {
        "legend": {
         "title": {
          "text": "color"
         },
         "tracegroupgap": 0
        },
        "template": {
         "data": {
          "bar": [
           {
            "error_x": {
             "color": "#2a3f5f"
            },
            "error_y": {
             "color": "#2a3f5f"
            },
            "marker": {
             "line": {
              "color": "#E5ECF6",
              "width": 0.5
             },
             "pattern": {
              "fillmode": "overlay",
              "size": 10,
              "solidity": 0.2
             }
            },
            "type": "bar"
           }
          ],
          "barpolar": [
           {
            "marker": {
             "line": {
              "color": "#E5ECF6",
              "width": 0.5
             },
             "pattern": {
              "fillmode": "overlay",
              "size": 10,
              "solidity": 0.2
             }
            },
            "type": "barpolar"
           }
          ],
          "carpet": [
           {
            "aaxis": {
             "endlinecolor": "#2a3f5f",
             "gridcolor": "white",
             "linecolor": "white",
             "minorgridcolor": "white",
             "startlinecolor": "#2a3f5f"
            },
            "baxis": {
             "endlinecolor": "#2a3f5f",
             "gridcolor": "white",
             "linecolor": "white",
             "minorgridcolor": "white",
             "startlinecolor": "#2a3f5f"
            },
            "type": "carpet"
           }
          ],
          "choropleth": [
           {
            "colorbar": {
             "outlinewidth": 0,
             "ticks": ""
            },
            "type": "choropleth"
           }
          ],
          "contour": [
           {
            "colorbar": {
             "outlinewidth": 0,
             "ticks": ""
            },
            "colorscale": [
             [
              0,
              "#0d0887"
             ],
             [
              0.1111111111111111,
              "#46039f"
             ],
             [
              0.2222222222222222,
              "#7201a8"
             ],
             [
              0.3333333333333333,
              "#9c179e"
             ],
             [
              0.4444444444444444,
              "#bd3786"
             ],
             [
              0.5555555555555556,
              "#d8576b"
             ],
             [
              0.6666666666666666,
              "#ed7953"
             ],
             [
              0.7777777777777778,
              "#fb9f3a"
             ],
             [
              0.8888888888888888,
              "#fdca26"
             ],
             [
              1,
              "#f0f921"
             ]
            ],
            "type": "contour"
           }
          ],
          "contourcarpet": [
           {
            "colorbar": {
             "outlinewidth": 0,
             "ticks": ""
            },
            "type": "contourcarpet"
           }
          ],
          "heatmap": [
           {
            "colorbar": {
             "outlinewidth": 0,
             "ticks": ""
            },
            "colorscale": [
             [
              0,
              "#0d0887"
             ],
             [
              0.1111111111111111,
              "#46039f"
             ],
             [
              0.2222222222222222,
              "#7201a8"
             ],
             [
              0.3333333333333333,
              "#9c179e"
             ],
             [
              0.4444444444444444,
              "#bd3786"
             ],
             [
              0.5555555555555556,
              "#d8576b"
             ],
             [
              0.6666666666666666,
              "#ed7953"
             ],
             [
              0.7777777777777778,
              "#fb9f3a"
             ],
             [
              0.8888888888888888,
              "#fdca26"
             ],
             [
              1,
              "#f0f921"
             ]
            ],
            "type": "heatmap"
           }
          ],
          "heatmapgl": [
           {
            "colorbar": {
             "outlinewidth": 0,
             "ticks": ""
            },
            "colorscale": [
             [
              0,
              "#0d0887"
             ],
             [
              0.1111111111111111,
              "#46039f"
             ],
             [
              0.2222222222222222,
              "#7201a8"
             ],
             [
              0.3333333333333333,
              "#9c179e"
             ],
             [
              0.4444444444444444,
              "#bd3786"
             ],
             [
              0.5555555555555556,
              "#d8576b"
             ],
             [
              0.6666666666666666,
              "#ed7953"
             ],
             [
              0.7777777777777778,
              "#fb9f3a"
             ],
             [
              0.8888888888888888,
              "#fdca26"
             ],
             [
              1,
              "#f0f921"
             ]
            ],
            "type": "heatmapgl"
           }
          ],
          "histogram": [
           {
            "marker": {
             "pattern": {
              "fillmode": "overlay",
              "size": 10,
              "solidity": 0.2
             }
            },
            "type": "histogram"
           }
          ],
          "histogram2d": [
           {
            "colorbar": {
             "outlinewidth": 0,
             "ticks": ""
            },
            "colorscale": [
             [
              0,
              "#0d0887"
             ],
             [
              0.1111111111111111,
              "#46039f"
             ],
             [
              0.2222222222222222,
              "#7201a8"
             ],
             [
              0.3333333333333333,
              "#9c179e"
             ],
             [
              0.4444444444444444,
              "#bd3786"
             ],
             [
              0.5555555555555556,
              "#d8576b"
             ],
             [
              0.6666666666666666,
              "#ed7953"
             ],
             [
              0.7777777777777778,
              "#fb9f3a"
             ],
             [
              0.8888888888888888,
              "#fdca26"
             ],
             [
              1,
              "#f0f921"
             ]
            ],
            "type": "histogram2d"
           }
          ],
          "histogram2dcontour": [
           {
            "colorbar": {
             "outlinewidth": 0,
             "ticks": ""
            },
            "colorscale": [
             [
              0,
              "#0d0887"
             ],
             [
              0.1111111111111111,
              "#46039f"
             ],
             [
              0.2222222222222222,
              "#7201a8"
             ],
             [
              0.3333333333333333,
              "#9c179e"
             ],
             [
              0.4444444444444444,
              "#bd3786"
             ],
             [
              0.5555555555555556,
              "#d8576b"
             ],
             [
              0.6666666666666666,
              "#ed7953"
             ],
             [
              0.7777777777777778,
              "#fb9f3a"
             ],
             [
              0.8888888888888888,
              "#fdca26"
             ],
             [
              1,
              "#f0f921"
             ]
            ],
            "type": "histogram2dcontour"
           }
          ],
          "mesh3d": [
           {
            "colorbar": {
             "outlinewidth": 0,
             "ticks": ""
            },
            "type": "mesh3d"
           }
          ],
          "parcoords": [
           {
            "line": {
             "colorbar": {
              "outlinewidth": 0,
              "ticks": ""
             }
            },
            "type": "parcoords"
           }
          ],
          "pie": [
           {
            "automargin": true,
            "type": "pie"
           }
          ],
          "scatter": [
           {
            "marker": {
             "colorbar": {
              "outlinewidth": 0,
              "ticks": ""
             }
            },
            "type": "scatter"
           }
          ],
          "scatter3d": [
           {
            "line": {
             "colorbar": {
              "outlinewidth": 0,
              "ticks": ""
             }
            },
            "marker": {
             "colorbar": {
              "outlinewidth": 0,
              "ticks": ""
             }
            },
            "type": "scatter3d"
           }
          ],
          "scattercarpet": [
           {
            "marker": {
             "colorbar": {
              "outlinewidth": 0,
              "ticks": ""
             }
            },
            "type": "scattercarpet"
           }
          ],
          "scattergeo": [
           {
            "marker": {
             "colorbar": {
              "outlinewidth": 0,
              "ticks": ""
             }
            },
            "type": "scattergeo"
           }
          ],
          "scattergl": [
           {
            "marker": {
             "colorbar": {
              "outlinewidth": 0,
              "ticks": ""
             }
            },
            "type": "scattergl"
           }
          ],
          "scattermapbox": [
           {
            "marker": {
             "colorbar": {
              "outlinewidth": 0,
              "ticks": ""
             }
            },
            "type": "scattermapbox"
           }
          ],
          "scatterpolar": [
           {
            "marker": {
             "colorbar": {
              "outlinewidth": 0,
              "ticks": ""
             }
            },
            "type": "scatterpolar"
           }
          ],
          "scatterpolargl": [
           {
            "marker": {
             "colorbar": {
              "outlinewidth": 0,
              "ticks": ""
             }
            },
            "type": "scatterpolargl"
           }
          ],
          "scatterternary": [
           {
            "marker": {
             "colorbar": {
              "outlinewidth": 0,
              "ticks": ""
             }
            },
            "type": "scatterternary"
           }
          ],
          "surface": [
           {
            "colorbar": {
             "outlinewidth": 0,
             "ticks": ""
            },
            "colorscale": [
             [
              0,
              "#0d0887"
             ],
             [
              0.1111111111111111,
              "#46039f"
             ],
             [
              0.2222222222222222,
              "#7201a8"
             ],
             [
              0.3333333333333333,
              "#9c179e"
             ],
             [
              0.4444444444444444,
              "#bd3786"
             ],
             [
              0.5555555555555556,
              "#d8576b"
             ],
             [
              0.6666666666666666,
              "#ed7953"
             ],
             [
              0.7777777777777778,
              "#fb9f3a"
             ],
             [
              0.8888888888888888,
              "#fdca26"
             ],
             [
              1,
              "#f0f921"
             ]
            ],
            "type": "surface"
           }
          ],
          "table": [
           {
            "cells": {
             "fill": {
              "color": "#EBF0F8"
             },
             "line": {
              "color": "white"
             }
            },
            "header": {
             "fill": {
              "color": "#C8D4E3"
             },
             "line": {
              "color": "white"
             }
            },
            "type": "table"
           }
          ]
         },
         "layout": {
          "annotationdefaults": {
           "arrowcolor": "#2a3f5f",
           "arrowhead": 0,
           "arrowwidth": 1
          },
          "autotypenumbers": "strict",
          "coloraxis": {
           "colorbar": {
            "outlinewidth": 0,
            "ticks": ""
           }
          },
          "colorscale": {
           "diverging": [
            [
             0,
             "#8e0152"
            ],
            [
             0.1,
             "#c51b7d"
            ],
            [
             0.2,
             "#de77ae"
            ],
            [
             0.3,
             "#f1b6da"
            ],
            [
             0.4,
             "#fde0ef"
            ],
            [
             0.5,
             "#f7f7f7"
            ],
            [
             0.6,
             "#e6f5d0"
            ],
            [
             0.7,
             "#b8e186"
            ],
            [
             0.8,
             "#7fbc41"
            ],
            [
             0.9,
             "#4d9221"
            ],
            [
             1,
             "#276419"
            ]
           ],
           "sequential": [
            [
             0,
             "#0d0887"
            ],
            [
             0.1111111111111111,
             "#46039f"
            ],
            [
             0.2222222222222222,
             "#7201a8"
            ],
            [
             0.3333333333333333,
             "#9c179e"
            ],
            [
             0.4444444444444444,
             "#bd3786"
            ],
            [
             0.5555555555555556,
             "#d8576b"
            ],
            [
             0.6666666666666666,
             "#ed7953"
            ],
            [
             0.7777777777777778,
             "#fb9f3a"
            ],
            [
             0.8888888888888888,
             "#fdca26"
            ],
            [
             1,
             "#f0f921"
            ]
           ],
           "sequentialminus": [
            [
             0,
             "#0d0887"
            ],
            [
             0.1111111111111111,
             "#46039f"
            ],
            [
             0.2222222222222222,
             "#7201a8"
            ],
            [
             0.3333333333333333,
             "#9c179e"
            ],
            [
             0.4444444444444444,
             "#bd3786"
            ],
            [
             0.5555555555555556,
             "#d8576b"
            ],
            [
             0.6666666666666666,
             "#ed7953"
            ],
            [
             0.7777777777777778,
             "#fb9f3a"
            ],
            [
             0.8888888888888888,
             "#fdca26"
            ],
            [
             1,
             "#f0f921"
            ]
           ]
          },
          "colorway": [
           "#636efa",
           "#EF553B",
           "#00cc96",
           "#ab63fa",
           "#FFA15A",
           "#19d3f3",
           "#FF6692",
           "#B6E880",
           "#FF97FF",
           "#FECB52"
          ],
          "font": {
           "color": "#2a3f5f"
          },
          "geo": {
           "bgcolor": "white",
           "lakecolor": "white",
           "landcolor": "#E5ECF6",
           "showlakes": true,
           "showland": true,
           "subunitcolor": "white"
          },
          "hoverlabel": {
           "align": "left"
          },
          "hovermode": "closest",
          "mapbox": {
           "style": "light"
          },
          "paper_bgcolor": "white",
          "plot_bgcolor": "#E5ECF6",
          "polar": {
           "angularaxis": {
            "gridcolor": "white",
            "linecolor": "white",
            "ticks": ""
           },
           "bgcolor": "#E5ECF6",
           "radialaxis": {
            "gridcolor": "white",
            "linecolor": "white",
            "ticks": ""
           }
          },
          "scene": {
           "xaxis": {
            "backgroundcolor": "#E5ECF6",
            "gridcolor": "white",
            "gridwidth": 2,
            "linecolor": "white",
            "showbackground": true,
            "ticks": "",
            "zerolinecolor": "white"
           },
           "yaxis": {
            "backgroundcolor": "#E5ECF6",
            "gridcolor": "white",
            "gridwidth": 2,
            "linecolor": "white",
            "showbackground": true,
            "ticks": "",
            "zerolinecolor": "white"
           },
           "zaxis": {
            "backgroundcolor": "#E5ECF6",
            "gridcolor": "white",
            "gridwidth": 2,
            "linecolor": "white",
            "showbackground": true,
            "ticks": "",
            "zerolinecolor": "white"
           }
          },
          "shapedefaults": {
           "line": {
            "color": "#2a3f5f"
           }
          },
          "ternary": {
           "aaxis": {
            "gridcolor": "white",
            "linecolor": "white",
            "ticks": ""
           },
           "baxis": {
            "gridcolor": "white",
            "linecolor": "white",
            "ticks": ""
           },
           "bgcolor": "#E5ECF6",
           "caxis": {
            "gridcolor": "white",
            "linecolor": "white",
            "ticks": ""
           }
          },
          "title": {
           "x": 0.05
          },
          "xaxis": {
           "automargin": true,
           "gridcolor": "white",
           "linecolor": "white",
           "ticks": "",
           "title": {
            "standoff": 15
           },
           "zerolinecolor": "white",
           "zerolinewidth": 2
          },
          "yaxis": {
           "automargin": true,
           "gridcolor": "white",
           "linecolor": "white",
           "ticks": "",
           "title": {
            "standoff": 15
           },
           "zerolinecolor": "white",
           "zerolinewidth": 2
          }
         }
        },
        "title": {
         "text": "GMV-potential relation by medals"
        },
        "xaxis": {
         "anchor": "y",
         "domain": [
          0,
          1
         ],
         "title": {
          "text": "Potential"
         }
        },
        "yaxis": {
         "anchor": "x",
         "domain": [
          0,
          1
         ],
         "title": {
          "text": "Stores GMV"
         }
        }
       }
      },
      "text/html": [
       "<div>                            <div id=\"38561ff6-6f00-4688-a1fc-ebb4e1ef8e79\" class=\"plotly-graph-div\" style=\"height:525px; width:100%;\"></div>            <script type=\"text/javascript\">                require([\"plotly\"], function(Plotly) {                    window.PLOTLYENV=window.PLOTLYENV || {};                                    if (document.getElementById(\"38561ff6-6f00-4688-a1fc-ebb4e1ef8e79\")) {                    Plotly.newPlot(                        \"38561ff6-6f00-4688-a1fc-ebb4e1ef8e79\",                        [{\"hovertemplate\":\"color=BRONSE<br>Potential=%{x}<br>Stores GMV=%{y}<extra></extra>\",\"legendgroup\":\"BRONSE\",\"marker\":{\"color\":\"#CD853F\",\"symbol\":\"circle\"},\"mode\":\"markers\",\"name\":\"BRONSE\",\"orientation\":\"v\",\"showlegend\":true,\"type\":\"scatter\",\"x\":[2.182178808,1.741892401,1.42118212,0.955523742,2.978094506,1.522364559,0.002964173,0.016224495,2.812569389,4.969212529,1.542845084,0.003037129,0.719573775,3.316010367,0.275376185,0.000108469,0.119072403,3.647380316,4.377490869,2.837815696,0.097460658,4.752853507,0.566846498,1.018147541,0.704882461,6.027716435,0.143362967,0.541941314,2.060745948,2.715526901,0.91519482,0.044731163,0.56491833,0.887527353,2.329508411,0.036570808,1.185764252,4.50135744,3.110041938,0.015700872,0.975205879,0.862265851,0.534976727,3.126445394,0.034662277,0.785497777,0.021400027,1.389519364,3.025668935,1.107191811,3.26926162,6.723896944,0.26378782,2.890588741,0.018358359,2.182614584,1.942250883,0.018291871,0.060813604,2.271097726,0.560760779,3.820095977,5.165789391,4.428661544,1.379665539,3.862485896,0.811899285,2.135400508,0.0,1.036520452,5.484030757,0.378366532,2.318746621,6.605155,0.961508332,2.220566725,2.328528144,2.966441417,2.811276437,4.600547259,0.083441054,3.771517846,0.912751587,3.449436426,5.728353684,0.860608326,0.066740022,1.250695759,0.387443268,4.957578393,3.315175272,0.384419754,0.000623696,0.89718138,2.897205362,4.867957562,1.669145293,0.097804786,1.073488449,2.595858139,0.113689011,2.982460935,0.321588583,0.494486152,2.23700552,0.562994248,2.970465835,0.47320483,6.389606821,2.764961128,3.135155388,4.219537606,3.129680392,0.008379222,0.165999381,0.039258022,2.26371504,5.67594509,3.393356538,2.405423086,3.031536208,1.384774417,1.901573284,10.55442573,1.954031238,2.874114456,0.471420425,4.638898053,0.0,3.981996389,3.857813882,3.857813882,4.385517611,0.428716886,0.29353576,1.776658203,3.418315387,3.25850794,1.3667412,2.979009102,1.616720551,2.4214938,0.332580702,3.902777308,1.447218799,2.337931875,0.008260428,2.279565027,0.002142261,0.102425038,0.548264681,0.085335969,1.636210735,2.953235389,0.900219041,3.862037116,4.169570152,2.634679409,1.0862438,0.00683354,0.031892463,4.315060853,5.891941144,0.68159204,2.04378345,2.121889738,3.005158327,0.026574878,5.571148074,0.547904836,1.303767986,4.262214586,2.908313672,0.011153574,3.113745912,7.275924111,1.967256078,2.456651426,0.836136188,6.4388318,1.025904759],\"xaxis\":\"x\",\"y\":[16220,25630,90660,114343,612911,163389,78918,4300,1015149,50487,37188,44438,36060,44212,10340,36796,324979,102145,178603,96472,129249,39301,120851,960,160940,57060,15405,16220,55278,147544,39170,72791,9850,22000,254931,33434,18304,8032,31345,65153,17862,27085,3468,68220,27133,65884,7040,171586,2690,29545,36350,70760,902030,95480,7040,59120,149610,8192,17216,28207,380136,19620,33120,27234,203670,542120,136990,10031,122267,98910,102980,8040,61573,449510,4595,81653,111793,250436,2320,277817,13450,27530,30015,98527,70547,3642,111636,34055,76630,45130,21726,24112,30710,119233,15180,98910,82160,6141,101644,62810,29439,115057,286967,77190,97893,330725,1305,137424,46380,193155,703729,381595,467048,111356,176682,289946,37510,103870,16985,16170,2300,206980,56405,171551,11545,221025,24555,45313,182246,9850,8690,78060,32952,380726,35349,78263,371820,64520,55955,81190,90187,43500,46920,52533,509185,345800,52304,24897,61471,49800,27470,21651,21451,97677,346385,137015,31595,36175,41729,13045,48525,124690,223660,469950,51240,65627,84185,44505,36778,19288,103310,39465,204253,7346,55775,11739,135690,337538,42077,7550,12500],\"yaxis\":\"y\"},{\"hovertemplate\":\"color=SILVER<br>Potential=%{x}<br>Stores GMV=%{y}<extra></extra>\",\"legendgroup\":\"SILVER\",\"marker\":{\"color\":\"#C0C0C0\",\"symbol\":\"circle\"},\"mode\":\"markers\",\"name\":\"SILVER\",\"orientation\":\"v\",\"showlegend\":true,\"type\":\"scatter\",\"x\":[10.06634971,12.45967895,14.32042458,6.27736511,3.950540141,27.34444814,12.68142746,6.461042005,11.2748239,11.34623794,17.86091141,12.31039412,19.9488141,10.23557576,23.20872723,22.22817452,22.22817452,9.322836129,11.12901473,21.66112491,10.21394932,13.19657261,32.58052513,3.473158431,24.67361051,28.93479888,13.95050297,1.440340304,5.110114371,7.875257082,23.74051905,1.356382809,10.11371318,5.119040433,6.120759731,18.12805313,15.40449798,4.713237909,5.212259236,12.89200876,4.894491513,24.86352863,9.167271587,8.715405399,12.42471977,9.328587517,9.328587517,6.921407609,0.59801747,9.955476379,5.904294984,10.04096772,17.12574197,12.26899214,15.60857687,15.24344931,7.765289033,4.905286127,6.646168523,9.17006892,13.97612401,3.370171032,9.481072659,16.82298917,5.397493726,15.68094928,26.98334145,2.694624592,8.166578965,13.02688387,0.0,11.15153254,10.59978272,9.439117779,9.8765299,7.292191537,11.71059175,80.88107723,11.11131699,17.35434668,14.78260309,13.07789458,6.312586521,4.076170298,8.838840493,8.350254923,5.613896849,3.822604003,8.334930858,21.35475706,12.26069604,17.24055265,13.40684735,12.46367846,15.55987418,26.30337756,7.8900498,27.3481743,4.576230791,16.24673119,30.65869715,33.68502058,8.472913146,0.0,14.62001013,16.21312652,7.272875494,2.950240751,16.2914701,13.55756781,8.580324686,16.15394286,14.28314773,17.47697171,12.05712172,48.92944601,5.593052231,21.05751312,7.203979141,13.42788055,10.53199212,8.258124977,0.0,8.669592914,10.04096772,23.68823152,4.511223973,3.967632443,11.09961302,9.26793997,6.240937815,10.51341444,26.60281063,12.00715887,3.456460517,9.471495397,9.147339467,15.24795707,6.835812714,4.318008135,8.320447734,7.32469202,13.02464553,30.93774264,16.60027064,4.361424739,4.793475143,11.939875,28.81107412,2.589492567,12.7917665,14.47804384,23.25631717,19.45206357,6.61441812,20.32594538,5.376314836,6.60853167,17.39196112,4.996835248,21.04208996,3.409705644,13.14754676,9.227637507,6.875913785,6.167096565,4.735307728,17.6786591,19.92051314,4.614559242,16.99140139,15.50646212,9.551472207,11.87084334,7.317732162],\"xaxis\":\"x\",\"y\":[105265,251600,18950,65093,249347,237178,62094,46820,74700,38350,235088,109269,27780,8578,51211,16108,251067,42186,12860,12115,34420,18681,166225,118272,109093,123679,27460,81140,10314,331706,26340,64385,37055,4377,205670,184448,14280,45370,177360,29975,79163,707524,11177,36910,19200,62322,32305,28340,46090,52470,8505,39988,260384,190955,139356,150923,941,11660,183457,49530,35972,118682,112350,7668,78095,306120,1741,57216,74965,13160,12240,58528,367568,17690,354832,5780,13328,236350,24503,103408,96192,225410,4310,36340,103480,451791,42405,9020,9740,62918,99555,33232,51167,42060,13570,75680,128330,656560,80046,10499,18495,289090,34259,12457,27844,107805,278085,338232,419815,5669,63349,34190,124276,78679,930,21677,79003,44110,33360,100820,153480,22855,4010,14895,4378,12820,121389,165877,135205,96140,140210,24106,160925,56183,52724,162610,2540,16423,16900,468200,40950,156470,74860,172030,48195,84850,212021,64519,30259,86635,598822,241220,111831,112985,10760,9721,472695,438278,3953,374473,225009,248920,69255,230396,151839,470,73480,324590,47640,14410,3406,797197,184280,77640,25070],\"yaxis\":\"y\"},{\"hovertemplate\":\"color=GOLD<br>Potential=%{x}<br>Stores GMV=%{y}<extra></extra>\",\"legendgroup\":\"GOLD\",\"marker\":{\"color\":\"#FFD700\",\"symbol\":\"circle\"},\"mode\":\"markers\",\"name\":\"GOLD\",\"orientation\":\"v\",\"showlegend\":true,\"type\":\"scatter\",\"x\":[76.79700802,13.38369918,42.59591215,13.86256134,18.52459334,45.5684672,16.08684534,15.2045597,13.00767216,27.04755435,39.35764504,14.96693377,23.8304816,52.35454062,14.21008648,21.67308631,44.31404039,40.85041387,24.91056926,47.81571694,24.43102722,28.09699805,33.00317644,23.29861993,36.09187939,26.50945192,20.44954074,16.75017097,12.65625742,5.96759691,7.964344776,26.17174933,23.09950326,36.53066382,19.18437005,27.42837668,33.81656955,33.81656955,112.8315253,22.55650813,23.40154931,33.00014331,21.58876309,30.63033802,21.47542066,46.94965064,36.58304031,11.55000881,24.13584707,26.72281306,17.55437719,6.046003806,39.09771798,32.38082171,33.90871639,41.80322274,77.05181837,51.33593219,30.07710933,59.14683494,109.5778847,26.46976392,47.74201527,18.98179381,106.072037,8.228188827,28.59222287,26.96965765,35.9303913,70.08347161,103.4770775,154.5742612,23.82700332,27.8616188,15.32028014,105.8348017,44.94312261,9.349166696,51.17882308,42.27442751,43.34641435,8.366250171,56.9528444,22.7414421,22.63436819,27.15037873,27.15037873,29.55717646,49.40324083,59.00805504,40.97442591,25.26452216,38.91769934,30.83364218,25.70553633,52.04148028,84.3090645,15.32510542,15.60490165,60.40054271,207.5020114,71.07864753,33.80983807,5.045750437,8.43163779,92.96823921,95.36526144,13.73497424,124.5518071,46.50968551,18.58830873,28.33734274,56.39889498,66.45627138,45.9542342,41.27924432,6.226586875,204.1697243,42.40937996,42.16327747,22.15831809,65.01346134,5.877710278,82.85634261,52.33720968,56.05342622,13.90353204,185.2824914,25.08775048,43.27052365,33.21386387,12.62823455,22.45790283,30.41197331,52.05652094,38.15648494,33.9003023,40.44339905,36.74511948,49.91316102,29.8524641,20.32580044,20.43043392,27.58571517,86.20087696,40.46353491,27.43969305,0.0,146.2139468,35.18533624,32.55161087,60.17742614,15.57386946,49.52100866,25.8795361,25.8795361,18.86327109,18.86327109,22.13918429,23.82113559,38.88906198,30.79898926,94.13367294,22.58522133,26.32633896,22.23229688,38.94841586,13.74895499,10.78019482,41.06049984,45.14676382,24.01381953,30.48856602,17.15389054,24.57349807,25.44886003,13.36740204,13.36740204,41.47054352,15.21761176,53.27726283,13.94968241,8.952645836,0.037340415,33.15214549,15.48060291,30.11192365,33.67743781,19.63207935,49.92759864,8.50203782,16.63077245,354.8595031,75.19600045,20.02600364,21.12915661,35.69451351,22.22052519,28.12347092,24.43414776,18.8764065,35.49013313,10.78401629,25.57789669,17.30065545,31.72220895,15.86974389],\"xaxis\":\"x\",\"y\":[88587,7318,172473,6340,167575,1027568,174846,28383,35170,8335,463155,76255,37015,42001,1390145,47320,330667,903120,89510,299904,98113,29988,594460,182588,462210,12838,3184,311295,103725,36227,35002,206591,151985,461495,3224,34280,333927,487655,952670,160624,25055,331675,129101,305675,36442,99925,80132,91020,784259,42915,23046,39093,29880,75360,747450,1163366,290398,327580,27879,56627,375688,14725,180225,75921,161615,61765,271149,235895,87747,30676,76510,617677,12831,8219,48850,58602,203769,124920,68780,16119,422455,68613,273020,246680,379027,1101560,1121506,623618,359110,15230,477774,16599,277686,42811,60686,891820,419657,149735,141719,33600,218832,151818,370785,11092,13733,213607,80372,190285,1241377,238472,223731,68771,138320,15765,8692,117505,16321,669106,24175,27448,48718,1098318,14537,76812,964426,520,5261,39859,6585,68533,39075,55033,16310,19935,459967,404190,26635,23280,62615,291975,90015,108527,147759,159060,313382,324143,225120,64421,186850,9793,445380,349130,50909,520820,59026,59445,130355,163624,9689,17788,79356,164831,342166,35180,470388,59923,24308,72154,161005,454829,299372,10150,178147,276960,5490,1200971,587038,132967,26861,33272,832306,84180,151933,595639,91701,136918,100430,145745,986308,119995,13008,261420,556076,128650,43445,441,313140,40157,78318,821467,1846175,105230,117974,255445,33179,329045,148984],\"yaxis\":\"y\"},{\"hovertemplate\":\"color=NO MEDAL<br>Potential=%{x}<br>Stores GMV=%{y}<extra></extra>\",\"legendgroup\":\"NO MEDAL\",\"marker\":{\"color\":\"#FF4500\",\"symbol\":\"circle\"},\"mode\":\"markers\",\"name\":\"NO MEDAL\",\"orientation\":\"v\",\"showlegend\":true,\"type\":\"scatter\",\"x\":[0.0,0.0,0.0,0.0,0.0,0.0,0.0,0.0,0.0,0.0,0.0,0.0,0.0,0.0,0.0,0.0,0.0,0.0,0.0,0.0,0.0,0.0,0.0,0.0,0.0,0.0,0.0,0.0,0.0,0.0,0.0,0.0,0.0,0.0,0.0,0.0,0.0,0.0,0.0,0.0,0.0,0.0,0.0,0.0,0.0,0.0,0.0,0.0,0.0,0.0,0.0,0.0,0.0,0.0,0.0,0.0,0.0,0.0,0.0,0.0,0.0,0.0,0.0,0.0,0.0],\"xaxis\":\"x\",\"y\":[20154,900,4654,68590,45710,807,16310,22650,71270,2070,22598,12573,7396,16335,22805,269415,79441,14757,339689,14250,40520,5098,2125,19332,47800,7660,105655,12420,29927,118766,30180,13080,163610,9270,56791,11260,18000,33760,263245,16520,149210,68320,8040,16552,299359,9085,36310,5680,65743,50475,10304,568125,20205,41950,20990,232058,885,20570,217460,18530,16348,25458,185360,12903,104075],\"yaxis\":\"y\"}],                        {\"legend\":{\"title\":{\"text\":\"color\"},\"tracegroupgap\":0},\"template\":{\"data\":{\"bar\":[{\"error_x\":{\"color\":\"#2a3f5f\"},\"error_y\":{\"color\":\"#2a3f5f\"},\"marker\":{\"line\":{\"color\":\"#E5ECF6\",\"width\":0.5},\"pattern\":{\"fillmode\":\"overlay\",\"size\":10,\"solidity\":0.2}},\"type\":\"bar\"}],\"barpolar\":[{\"marker\":{\"line\":{\"color\":\"#E5ECF6\",\"width\":0.5},\"pattern\":{\"fillmode\":\"overlay\",\"size\":10,\"solidity\":0.2}},\"type\":\"barpolar\"}],\"carpet\":[{\"aaxis\":{\"endlinecolor\":\"#2a3f5f\",\"gridcolor\":\"white\",\"linecolor\":\"white\",\"minorgridcolor\":\"white\",\"startlinecolor\":\"#2a3f5f\"},\"baxis\":{\"endlinecolor\":\"#2a3f5f\",\"gridcolor\":\"white\",\"linecolor\":\"white\",\"minorgridcolor\":\"white\",\"startlinecolor\":\"#2a3f5f\"},\"type\":\"carpet\"}],\"choropleth\":[{\"colorbar\":{\"outlinewidth\":0,\"ticks\":\"\"},\"type\":\"choropleth\"}],\"contour\":[{\"colorbar\":{\"outlinewidth\":0,\"ticks\":\"\"},\"colorscale\":[[0.0,\"#0d0887\"],[0.1111111111111111,\"#46039f\"],[0.2222222222222222,\"#7201a8\"],[0.3333333333333333,\"#9c179e\"],[0.4444444444444444,\"#bd3786\"],[0.5555555555555556,\"#d8576b\"],[0.6666666666666666,\"#ed7953\"],[0.7777777777777778,\"#fb9f3a\"],[0.8888888888888888,\"#fdca26\"],[1.0,\"#f0f921\"]],\"type\":\"contour\"}],\"contourcarpet\":[{\"colorbar\":{\"outlinewidth\":0,\"ticks\":\"\"},\"type\":\"contourcarpet\"}],\"heatmap\":[{\"colorbar\":{\"outlinewidth\":0,\"ticks\":\"\"},\"colorscale\":[[0.0,\"#0d0887\"],[0.1111111111111111,\"#46039f\"],[0.2222222222222222,\"#7201a8\"],[0.3333333333333333,\"#9c179e\"],[0.4444444444444444,\"#bd3786\"],[0.5555555555555556,\"#d8576b\"],[0.6666666666666666,\"#ed7953\"],[0.7777777777777778,\"#fb9f3a\"],[0.8888888888888888,\"#fdca26\"],[1.0,\"#f0f921\"]],\"type\":\"heatmap\"}],\"heatmapgl\":[{\"colorbar\":{\"outlinewidth\":0,\"ticks\":\"\"},\"colorscale\":[[0.0,\"#0d0887\"],[0.1111111111111111,\"#46039f\"],[0.2222222222222222,\"#7201a8\"],[0.3333333333333333,\"#9c179e\"],[0.4444444444444444,\"#bd3786\"],[0.5555555555555556,\"#d8576b\"],[0.6666666666666666,\"#ed7953\"],[0.7777777777777778,\"#fb9f3a\"],[0.8888888888888888,\"#fdca26\"],[1.0,\"#f0f921\"]],\"type\":\"heatmapgl\"}],\"histogram\":[{\"marker\":{\"pattern\":{\"fillmode\":\"overlay\",\"size\":10,\"solidity\":0.2}},\"type\":\"histogram\"}],\"histogram2d\":[{\"colorbar\":{\"outlinewidth\":0,\"ticks\":\"\"},\"colorscale\":[[0.0,\"#0d0887\"],[0.1111111111111111,\"#46039f\"],[0.2222222222222222,\"#7201a8\"],[0.3333333333333333,\"#9c179e\"],[0.4444444444444444,\"#bd3786\"],[0.5555555555555556,\"#d8576b\"],[0.6666666666666666,\"#ed7953\"],[0.7777777777777778,\"#fb9f3a\"],[0.8888888888888888,\"#fdca26\"],[1.0,\"#f0f921\"]],\"type\":\"histogram2d\"}],\"histogram2dcontour\":[{\"colorbar\":{\"outlinewidth\":0,\"ticks\":\"\"},\"colorscale\":[[0.0,\"#0d0887\"],[0.1111111111111111,\"#46039f\"],[0.2222222222222222,\"#7201a8\"],[0.3333333333333333,\"#9c179e\"],[0.4444444444444444,\"#bd3786\"],[0.5555555555555556,\"#d8576b\"],[0.6666666666666666,\"#ed7953\"],[0.7777777777777778,\"#fb9f3a\"],[0.8888888888888888,\"#fdca26\"],[1.0,\"#f0f921\"]],\"type\":\"histogram2dcontour\"}],\"mesh3d\":[{\"colorbar\":{\"outlinewidth\":0,\"ticks\":\"\"},\"type\":\"mesh3d\"}],\"parcoords\":[{\"line\":{\"colorbar\":{\"outlinewidth\":0,\"ticks\":\"\"}},\"type\":\"parcoords\"}],\"pie\":[{\"automargin\":true,\"type\":\"pie\"}],\"scatter\":[{\"marker\":{\"colorbar\":{\"outlinewidth\":0,\"ticks\":\"\"}},\"type\":\"scatter\"}],\"scatter3d\":[{\"line\":{\"colorbar\":{\"outlinewidth\":0,\"ticks\":\"\"}},\"marker\":{\"colorbar\":{\"outlinewidth\":0,\"ticks\":\"\"}},\"type\":\"scatter3d\"}],\"scattercarpet\":[{\"marker\":{\"colorbar\":{\"outlinewidth\":0,\"ticks\":\"\"}},\"type\":\"scattercarpet\"}],\"scattergeo\":[{\"marker\":{\"colorbar\":{\"outlinewidth\":0,\"ticks\":\"\"}},\"type\":\"scattergeo\"}],\"scattergl\":[{\"marker\":{\"colorbar\":{\"outlinewidth\":0,\"ticks\":\"\"}},\"type\":\"scattergl\"}],\"scattermapbox\":[{\"marker\":{\"colorbar\":{\"outlinewidth\":0,\"ticks\":\"\"}},\"type\":\"scattermapbox\"}],\"scatterpolar\":[{\"marker\":{\"colorbar\":{\"outlinewidth\":0,\"ticks\":\"\"}},\"type\":\"scatterpolar\"}],\"scatterpolargl\":[{\"marker\":{\"colorbar\":{\"outlinewidth\":0,\"ticks\":\"\"}},\"type\":\"scatterpolargl\"}],\"scatterternary\":[{\"marker\":{\"colorbar\":{\"outlinewidth\":0,\"ticks\":\"\"}},\"type\":\"scatterternary\"}],\"surface\":[{\"colorbar\":{\"outlinewidth\":0,\"ticks\":\"\"},\"colorscale\":[[0.0,\"#0d0887\"],[0.1111111111111111,\"#46039f\"],[0.2222222222222222,\"#7201a8\"],[0.3333333333333333,\"#9c179e\"],[0.4444444444444444,\"#bd3786\"],[0.5555555555555556,\"#d8576b\"],[0.6666666666666666,\"#ed7953\"],[0.7777777777777778,\"#fb9f3a\"],[0.8888888888888888,\"#fdca26\"],[1.0,\"#f0f921\"]],\"type\":\"surface\"}],\"table\":[{\"cells\":{\"fill\":{\"color\":\"#EBF0F8\"},\"line\":{\"color\":\"white\"}},\"header\":{\"fill\":{\"color\":\"#C8D4E3\"},\"line\":{\"color\":\"white\"}},\"type\":\"table\"}]},\"layout\":{\"annotationdefaults\":{\"arrowcolor\":\"#2a3f5f\",\"arrowhead\":0,\"arrowwidth\":1},\"autotypenumbers\":\"strict\",\"coloraxis\":{\"colorbar\":{\"outlinewidth\":0,\"ticks\":\"\"}},\"colorscale\":{\"diverging\":[[0,\"#8e0152\"],[0.1,\"#c51b7d\"],[0.2,\"#de77ae\"],[0.3,\"#f1b6da\"],[0.4,\"#fde0ef\"],[0.5,\"#f7f7f7\"],[0.6,\"#e6f5d0\"],[0.7,\"#b8e186\"],[0.8,\"#7fbc41\"],[0.9,\"#4d9221\"],[1,\"#276419\"]],\"sequential\":[[0.0,\"#0d0887\"],[0.1111111111111111,\"#46039f\"],[0.2222222222222222,\"#7201a8\"],[0.3333333333333333,\"#9c179e\"],[0.4444444444444444,\"#bd3786\"],[0.5555555555555556,\"#d8576b\"],[0.6666666666666666,\"#ed7953\"],[0.7777777777777778,\"#fb9f3a\"],[0.8888888888888888,\"#fdca26\"],[1.0,\"#f0f921\"]],\"sequentialminus\":[[0.0,\"#0d0887\"],[0.1111111111111111,\"#46039f\"],[0.2222222222222222,\"#7201a8\"],[0.3333333333333333,\"#9c179e\"],[0.4444444444444444,\"#bd3786\"],[0.5555555555555556,\"#d8576b\"],[0.6666666666666666,\"#ed7953\"],[0.7777777777777778,\"#fb9f3a\"],[0.8888888888888888,\"#fdca26\"],[1.0,\"#f0f921\"]]},\"colorway\":[\"#636efa\",\"#EF553B\",\"#00cc96\",\"#ab63fa\",\"#FFA15A\",\"#19d3f3\",\"#FF6692\",\"#B6E880\",\"#FF97FF\",\"#FECB52\"],\"font\":{\"color\":\"#2a3f5f\"},\"geo\":{\"bgcolor\":\"white\",\"lakecolor\":\"white\",\"landcolor\":\"#E5ECF6\",\"showlakes\":true,\"showland\":true,\"subunitcolor\":\"white\"},\"hoverlabel\":{\"align\":\"left\"},\"hovermode\":\"closest\",\"mapbox\":{\"style\":\"light\"},\"paper_bgcolor\":\"white\",\"plot_bgcolor\":\"#E5ECF6\",\"polar\":{\"angularaxis\":{\"gridcolor\":\"white\",\"linecolor\":\"white\",\"ticks\":\"\"},\"bgcolor\":\"#E5ECF6\",\"radialaxis\":{\"gridcolor\":\"white\",\"linecolor\":\"white\",\"ticks\":\"\"}},\"scene\":{\"xaxis\":{\"backgroundcolor\":\"#E5ECF6\",\"gridcolor\":\"white\",\"gridwidth\":2,\"linecolor\":\"white\",\"showbackground\":true,\"ticks\":\"\",\"zerolinecolor\":\"white\"},\"yaxis\":{\"backgroundcolor\":\"#E5ECF6\",\"gridcolor\":\"white\",\"gridwidth\":2,\"linecolor\":\"white\",\"showbackground\":true,\"ticks\":\"\",\"zerolinecolor\":\"white\"},\"zaxis\":{\"backgroundcolor\":\"#E5ECF6\",\"gridcolor\":\"white\",\"gridwidth\":2,\"linecolor\":\"white\",\"showbackground\":true,\"ticks\":\"\",\"zerolinecolor\":\"white\"}},\"shapedefaults\":{\"line\":{\"color\":\"#2a3f5f\"}},\"ternary\":{\"aaxis\":{\"gridcolor\":\"white\",\"linecolor\":\"white\",\"ticks\":\"\"},\"baxis\":{\"gridcolor\":\"white\",\"linecolor\":\"white\",\"ticks\":\"\"},\"bgcolor\":\"#E5ECF6\",\"caxis\":{\"gridcolor\":\"white\",\"linecolor\":\"white\",\"ticks\":\"\"}},\"title\":{\"x\":0.05},\"xaxis\":{\"automargin\":true,\"gridcolor\":\"white\",\"linecolor\":\"white\",\"ticks\":\"\",\"title\":{\"standoff\":15},\"zerolinecolor\":\"white\",\"zerolinewidth\":2},\"yaxis\":{\"automargin\":true,\"gridcolor\":\"white\",\"linecolor\":\"white\",\"ticks\":\"\",\"title\":{\"standoff\":15},\"zerolinecolor\":\"white\",\"zerolinewidth\":2}}},\"title\":{\"text\":\"GMV-potential relation by medals\"},\"xaxis\":{\"anchor\":\"y\",\"domain\":[0.0,1.0],\"title\":{\"text\":\"Potential\"}},\"yaxis\":{\"anchor\":\"x\",\"domain\":[0.0,1.0],\"title\":{\"text\":\"Stores GMV\"}}},                        {\"responsive\": true}                    ).then(function(){\n",
       "                            \n",
       "var gd = document.getElementById('38561ff6-6f00-4688-a1fc-ebb4e1ef8e79');\n",
       "var x = new MutationObserver(function (mutations, observer) {{\n",
       "        var display = window.getComputedStyle(gd).display;\n",
       "        if (!display || display === 'none') {{\n",
       "            console.log([gd, 'removed!']);\n",
       "            Plotly.purge(gd);\n",
       "            observer.disconnect();\n",
       "        }}\n",
       "}});\n",
       "\n",
       "// Listen for the removal of the full notebook cells\n",
       "var notebookContainer = gd.closest('#notebook-container');\n",
       "if (notebookContainer) {{\n",
       "    x.observe(notebookContainer, {childList: true});\n",
       "}}\n",
       "\n",
       "// Listen for the clearing of the current output cell\n",
       "var outputEl = gd.closest('.output');\n",
       "if (outputEl) {{\n",
       "    x.observe(outputEl, {childList: true});\n",
       "}}\n",
       "\n",
       "                        })                };                });            </script>        </div>"
      ]
     },
     "metadata": {},
     "output_type": "display_data"
    },
    {
     "data": {
      "application/vnd.plotly.v1+json": {
       "config": {
        "plotlyServerURL": "https://plot.ly"
       },
       "data": [
        {
         "hovertemplate": "color=BRONSE<br>Potential=%{x}<br>Stores GMV=%{y}<extra></extra>",
         "legendgroup": "BRONSE",
         "marker": {
          "color": "#CD853F",
          "symbol": "circle"
         },
         "mode": "markers",
         "name": "BRONSE",
         "orientation": "v",
         "showlegend": true,
         "type": "scatter",
         "x": [
          0.780323830891184,
          0.5549721090140092,
          0.35148900416806017,
          -0.04549566788680402,
          1.091283668479571,
          0.42026475703886323,
          -5.821157206180063,
          -4.121233141683766,
          1.034098438870643,
          1.6032613826856077,
          0.4336281691183903,
          -5.796842617692853,
          -0.3290962214275513,
          1.1987623636252183,
          -1.289617170646011,
          -9.129046140093577,
          -2.1280235423167997,
          1.2940091882650806,
          1.4764756992819195,
          1.0430346351209556,
          -2.3283064901017783,
          1.558745175991311,
          -0.5676667385388483,
          0.017984839846710808,
          -0.34972421205533927,
          1.7963682383505393,
          -1.9423756338201255,
          -0.6125975601576091,
          0.7230680279348521,
          0.9989860049065924,
          -0.08861831833765627,
          -3.107084861428259,
          -0.5710741069564287,
          -0.11931593782581121,
          0.8456572629142574,
          -3.308504952451859,
          0.1703875051003278,
          1.504379004621388,
          1.1346362109876824,
          -4.1540390267689675,
          -0.02510667232627373,
          -0.14819164403465046,
          -0.625532033966903,
          1.1398967023361488,
          -3.362103301526496,
          -0.24143765133502337,
          -3.8443630952728842,
          0.32895790605149977,
          1.107132202573136,
          0.10182690971952355,
          1.1845641551301913,
          1.905667888837601,
          -1.3326102111067777,
          1.0614601979859266,
          -3.997670276869308,
          0.7805235086135002,
          0.6638475494756549,
          -4.00129852547448,
          -2.7999417650383136,
          0.820263294341995,
          -0.5784608832966623,
          1.3402755471719694,
          1.6420579255499164,
          1.4880974038679633,
          0.3218411067509664,
          1.3513109906961613,
          -0.2083789797644505,
          0.7586542206565763,
          0.0358693844887048,
          1.7018403701817875,
          -0.9718918918047947,
          0.8410267901218725,
          1.8878504047693425,
          -0.039252048364223927,
          0.7977624448369338,
          0.8452363701183779,
          1.0873630583334624,
          1.0336386282489496,
          1.5261752657665837,
          -2.4836148365381447,
          1.3274775321046755,
          -0.09129151974617676,
          1.238210862916814,
          1.7454281742604871,
          -0.15011578397884073,
          -2.706950476021565,
          0.2237000036658794,
          -0.9481858460683075,
          1.6009173942973798,
          1.1985104946383198,
          -0.9560202140284385,
          -7.379847487792509,
          -0.10849723000663364,
          1.0637466040897718,
          1.5826744573387188,
          0.5123116948152306,
          -2.324781766533405,
          0.07091357814839358,
          0.9539171513548602,
          -2.1742885319729868,
          1.0927487768320665,
          -1.1344822429293784,
          -0.7042361323559801,
          0.8051381500954711,
          -0.5744858675909075,
          1.0887187873167816,
          -0.7482269398294057,
          1.854672736136436,
          1.0170265762859634,
          1.1426787384067918,
          1.4397255500065516,
          1.1409308881562517,
          -4.782000208893519,
          -1.795771219548209,
          -3.237599473471304,
          0.8170072866947999,
          1.7362370851847584,
          1.2218195607412985,
          0.8777258074204521,
          1.109069490380471,
          0.32553725056132193,
          0.6426815877434477,
          2.3565452724302856,
          0.6698945401867663,
          1.055744611498509,
          -0.7520049610352153,
          1.5344768494556997,
          1.381783298810855,
          1.3501006712255006,
          1.3501006712255006,
          1.478307660134904,
          -0.8469585173039144,
          -1.2257558072721455,
          0.5747341857084279,
          1.2291478528180744,
          1.181269403491334,
          0.3124292201404528,
          1.0915907291141915,
          0.4803997462412968,
          0.8843846224614205,
          -1.1008727355542554,
          1.3616884299475764,
          0.36964364492613355,
          0.8492667244730857,
          -4.796278876811022,
          0.8239846471344032,
          -6.145893465640039,
          -2.278624084546098,
          -0.6009971141128853,
          -2.461159236928919,
          0.49238304100980906,
          1.0829013114034571,
          -0.10511716638077463,
          1.3511947945246159,
          1.4278129494423373,
          0.9687615081777049,
          0.08272568987116428,
          -4.985912438060783,
          -3.445385566699872,
          1.4621114271010713,
          1.773585509412678,
          -0.3833239819389801,
          0.714802722501966,
          0.7523070774845432,
          1.1003302544527922,
          -3.627788945545472,
          1.7176011501146384,
          -0.6016536640485395,
          0.26525852282733214,
          1.4497888810715738,
          1.0675734190536903,
          -4.495995294320784,
          1.1358264747070004,
          1.9845708305575023,
          0.676639718020253,
          0.8987992137147061,
          -0.17896377485868095,
          1.862347126146215,
          0.025574914954460112
         ],
         "xaxis": "x",
         "y": [
          9.694000327669404,
          10.151518819358117,
          11.41487152449484,
          11.646957982010933,
          13.32597501677565,
          12.003889139680538,
          11.276164617696834,
          8.366370301681654,
          13.830545957713806,
          10.829471156381183,
          10.523741407575748,
          10.701850238240384,
          10.492939496757309,
          10.696751524430846,
          9.24377514806242,
          10.513144422597048,
          12.691515843839595,
          11.534148651421754,
          12.092920744595892,
          11.477008089783428,
          11.769496055396838,
          10.579005242826247,
          11.702313660818122,
          6.866933284461882,
          11.988786903700124,
          10.95185862476749,
          9.642447411030767,
          9.694000327669404,
          10.920130278336988,
          11.901881715362642,
          10.575666426659877,
          11.19534760016878,
          9.195226734166134,
          9.998797732340453,
          12.448748199289668,
          10.417328625262575,
          9.814874894179525,
          8.99118884193151,
          10.352810043708068,
          11.084493629075336,
          9.790430830243832,
          10.206735348092,
          8.151333337900432,
          11.130493055972638,
          10.208505978234776,
          11.095650898902566,
          8.859363449152088,
          12.05283987762617,
          7.897296472595885,
          10.293669803779775,
          10.500949482961666,
          11.16704914827372,
          13.712403057915182,
          11.466672080452767,
          8.859363449152088,
          10.987324555622083,
          11.915787187208277,
          9.010913347279288,
          9.75359446296151,
          10.247325453073348,
          12.848284362410366,
          9.884304733119354,
          10.407892608499196,
          10.21222147168452,
          12.224256315963803,
          13.203242658129952,
          11.827663209445435,
          9.213435576883485,
          11.501965624733886,
          11.542290073600132,
          8.992184362173012,
          11.027978741746653,
          13.015913379587397,
          8.432724034789787,
          11.310233839915918,
          11.624404225936138,
          12.43095867784222,
          7.749322464660356,
          12.534717902534428,
          9.506734385029985,
          10.223031598136654,
          10.309452535685944,
          11.498085901273566,
          11.16403443334352,
          8.200288260287554,
          11.622998857556558,
          10.435732143675418,
          11.24674392396445,
          10.717302492821046,
          9.986264978993697,
          10.090464920866276,
          10.332343613434867,
          11.688834840936288,
          9.627734050949622,
          11.501965624733886,
          11.31642384460244,
          8.722742874329398,
          11.529231791244538,
          11.047869575448427,
          10.290075604874604,
          11.653182936724335,
          12.567122505552357,
          11.2540251939439,
          11.49163032443007,
          12.70904249333058,
          7.173958319756794,
          11.830826316006005,
          10.744623610809523,
          12.171248254375994,
          13.464148617848716,
          12.852115115745061,
          13.05418731509506,
          11.620487555382894,
          12.082106785546777,
          12.577449977727449,
          10.532362843075934,
          11.550895396221858,
          9.740085880594684,
          9.690912952571152,
          7.7406644019172415,
          12.240377449222164,
          10.940313086039021,
          12.05263587747392,
          9.354007721788596,
          12.306031096274005,
          10.108670778473344,
          10.72134924601891,
          9.195226734166134,
          9.069928218259438,
          11.265233040734605,
          10.402807236115917,
          12.849835235284175,
          10.47302538238145,
          11.267830228788947,
          12.826165145184207,
          11.074730532239146,
          10.932303075252127,
          11.304547365856493,
          11.409640571495315,
          10.680516217076775,
          10.756199302767412,
          10.86919682254001,
          13.140566687258202,
          12.753615852231327,
          10.864828128963993,
          10.122502593266558,
          11.02632079786699,
          10.815770263012745,
          10.220849779089319,
          9.982806921740384,
          9.973526543316103,
          11.489421395782234,
          12.75530615219242,
          11.827845687867867,
          10.360754159207556,
          10.496123551499684,
          10.638951609723101,
          9.47616019757083,
          10.78983440803721,
          11.733585935990632,
          12.317882320582179,
          13.060381585048447,
          10.84427575601067,
          11.091742475620011,
          11.3407720370919,
          10.703356821393031,
          10.512655119300799,
          9.867238419861007,
          11.54548945584349,
          10.583169482142504,
          12.22711470049688,
          8.901911226379612,
          10.929081019300734,
          9.370671910878523,
          11.818128151139998,
          12.729433375549243,
          10.647256552094476,
          8.92930284224307,
          9.433483923290392
         ],
         "yaxis": "y"
        },
        {
         "hovertemplate": "color=SILVER<br>Potential=%{x}<br>Stores GMV=%{y}<extra></extra>",
         "legendgroup": "SILVER",
         "marker": {
          "color": "#C0C0C0",
          "symbol": "circle"
         },
         "mode": "markers",
         "name": "SILVER",
         "orientation": "v",
         "showlegend": true,
         "type": "scatter",
         "x": [
          2.309198149455438,
          2.522497746574698,
          2.661686810534304,
          1.836950323965291,
          1.3738523141213077,
          3.3085135152090954,
          2.5401385183826894,
          1.8657906058704807,
          2.422572266641493,
          2.4288862299518885,
          2.882614604941399,
          2.510443955930807,
          2.9931696979600084,
          2.3258694715613424,
          3.1445283816435707,
          3.1013606067454997,
          3.1013606067454997,
          2.2324668880926106,
          2.409555637559466,
          3.0755191751273214,
          2.3237543663960283,
          2.5799571451196552,
          3.4837147212146595,
          1.24506439063106,
          3.2057342720825157,
          3.365044984249961,
          2.6355155628145344,
          0.3648794078904337,
          1.6312217857655358,
          2.0637258295121828,
          3.167183252885222,
          0.3048214571990574,
          2.3138922435449776,
          1.6329670060572627,
          1.8116862278719077,
          2.8974606351065986,
          2.7346595433968868,
          1.550375125980096,
          1.6510133963219302,
          2.5566076434441176,
          1.5881103917307162,
          3.213402016074388,
          2.215639705136176,
          2.165092195273905,
          2.5196880180060193,
          2.2330836118657076,
          2.2330836118657076,
          1.9346191606494247,
          -0.5141353114114044,
          2.298122789610808,
          1.7756800494646756,
          2.3066734960728907,
          2.8405827099250422,
          2.507075115169832,
          2.747820562530173,
          2.7241498573262892,
          2.0496636784449342,
          1.5903134250570605,
          1.8940405266677942,
          2.2159448020525616,
          2.637350445860507,
          1.2149634944117764,
          2.249297459549532,
          2.8227463539752993,
          1.6859347210161546,
          2.752446553906067,
          3.295219692258454,
          0.991258896698915,
          2.1000500898453165,
          2.567015212113629,
          2.4115769359947135,
          2.360833502794725,
          2.2448625201757544,
          2.2901612253695802,
          1.9868041232021159,
          2.4604937100646933,
          4.3929798934909785,
          2.4079641375802106,
          2.85384300412232,
          2.693451022475103,
          2.5709233682410195,
          1.8425455008045775,
          1.4051578951550114,
          2.1791557020963204,
          2.122292068097341,
          1.725245103884177,
          1.340931866560822,
          2.1204552207874268,
          3.0612745279702325,
          2.506398702142855,
          2.847264320986257,
          2.5957655727113886,
          2.5228186912988404,
          2.744695432599301,
          3.269697355272621,
          2.065602446624936,
          3.3086497734406275,
          1.520875687901844,
          2.7878917310023934,
          3.422916379063952,
          3.5170532453668675,
          2.1368743864851623,
          2.6823911472078494,
          2.7858211931518677,
          1.984151742092833,
          1.0818867775302465,
          2.790641664091486,
          2.606944901380168,
          2.1494717549750155,
          2.782164159809441,
          2.6590803618921846,
          2.8608841120840527,
          2.489655499464493,
          3.8903793831441513,
          1.7215251544334287,
          3.0472574142631057,
          1.9746335318347814,
          2.5973331834869207,
          2.354417493437809,
          2.1111975614012084,
          2.1598218362875676,
          2.3066734960728907,
          3.1649783644766205,
          1.5065685076038267,
          1.3781695548398372,
          2.4069102446474946,
          2.2265611294235597,
          1.8311304619541802,
          2.3526520074850907,
          3.28101687298769,
          2.4855030444093678,
          1.240245093511383,
          2.2482868036018098,
          2.2134630683721546,
          2.7244455314566762,
          1.9221753678622406,
          1.462794216064903,
          2.1187160675678784,
          1.9912511089680185,
          2.566843372681775,
          3.4319768832072444,
          2.8094189988440528,
          1.472798778981621,
          1.567255647957685,
          2.47988363889793,
          3.3607598312893336,
          0.9514619364393809,
          2.5488017217690566,
          2.6726332839089126,
          3.14657680136447,
          2.9679531605806164,
          1.8892518299790633,
          3.0118981675133023,
          1.6820031647501361,
          1.8883614915171716,
          2.8560080948657753,
          1.6088047616364303,
          3.0465247156359627,
          1.2266259661618937,
          2.576235183044728,
          2.222203057680397,
          1.928024548902146,
          1.8192281542295574,
          1.5550467146001958,
          2.872358211573109,
          2.991750011864829,
          1.529216357868412,
          2.832707415507713,
          2.741256848009713,
          2.256695300412593,
          2.4740852541180045,
          1.9903004660365422
         ],
         "xaxis": "x",
         "y": [
          11.564236259204655,
          12.435595803808422,
          9.849559210510572,
          11.08357229553351,
          12.42660077962056,
          12.376566193069033,
          11.036404644896228,
          10.754065741044903,
          11.221235371120908,
          10.554509806795402,
          12.367715191115728,
          11.601568010880195,
          10.232071616308335,
          9.056956065076825,
          10.843709631701985,
          9.687071321971345,
          12.433475114764757,
          10.649843691427217,
          9.46187699779161,
          9.402199633250627,
          10.44639306976553,
          9.835262243540562,
          12.021097571270655,
          11.680742335561302,
          11.599956008442847,
          11.725444778406931,
          10.220485679321962,
          11.303931336760439,
          9.241257474610904,
          12.712004313405854,
          10.178843975297273,
          11.072635965707883,
          10.520158574385459,
          8.384118837190895,
          12.234028221543506,
          12.12512285991914,
          9.566615235893575,
          10.72260637265801,
          12.085936844290194,
          10.308118979895715,
          11.279264296926641,
          13.469526830185666,
          9.321613374385612,
          10.516237796024043,
          9.862665558015873,
          11.040069772455867,
          10.382977295992266,
          10.252029513244672,
          10.738351285714554,
          10.867996856680758,
          9.048409504829962,
          10.59633468808707,
          12.469912743496383,
          12.159793077175992,
          11.844787089033758,
          11.924525051961783,
          6.846943139585379,
          9.363919459904483,
          12.119735586591561,
          10.810333825582283,
          10.490496137034405,
          11.684202926301861,
          11.629374277613476,
          8.944811104165534,
          11.265681313291823,
          12.631732460923857,
          7.462214939768189,
          10.954588858533185,
          11.224776616929004,
          9.484937204879309,
          10.977260551190593,
          12.814663614531952,
          9.780754787153832,
          12.779399717007811,
          8.662158961666423,
          9.497622364406624,
          12.373069036221382,
          10.106550838016146,
          11.546437607502677,
          11.474101473112647,
          12.325676245176005,
          8.368693183097793,
          10.500674341950162,
          11.547133636299966,
          13.020974962498903,
          10.6550215587958,
          9.10719961305667,
          9.18399639663658,
          11.049587570271592,
          11.508465534248135,
          10.411268546115894,
          10.84285007197804,
          10.646852449256691,
          9.515616752828915,
          11.23426920372576,
          11.762360350238506,
          13.394769362303593,
          11.290356748406861,
          9.259035293514941,
          9.825255704266555,
          12.574493337298957,
          10.441704582894031,
          10.234372782288558,
          11.588079318570653,
          12.535682101334803,
          12.731487329539457,
          12.947569417030941,
          8.642768014324304,
          11.056414400305043,
          10.439688482633347,
          11.730260177601188,
          11.273131562712008,
          6.835184586147301,
          9.984007069594924,
          11.277241105411683,
          10.694441793098985,
          10.415112856472684,
          11.521092027636621,
          11.941325544360888,
          10.036925190765844,
          9.608780865147382,
          8.384347278082808,
          9.458761730474661,
          11.706755543947052,
          12.019001828833863,
          11.814547424155695,
          11.473560741447951,
          11.850896577715178,
          10.090216051148289,
          11.988693696920816,
          10.936369499018918,
          10.872826038832356,
          11.999109974819769,
          7.8399193600125825,
          9.70643807033756,
          9.735068900911164,
          13.056650834038948,
          10.620107089281216,
          11.960619577296104,
          11.22337498145842,
          12.055424159191086,
          10.783010560218068,
          11.348640270662372,
          12.264440605352142,
          11.074715033048978,
          10.31754893986965,
          11.369459169944948,
          13.302719670999668,
          12.393464659137233,
          11.624744082126579,
          11.635010345520465,
          9.283590833715776,
          9.18204377282107,
          13.066205639192066,
          12.990608691216046,
          8.282230063296685,
          12.83327498321219,
          12.32389568038658,
          12.424886838683154,
          11.145550623609198,
          12.347554846542057,
          11.930576027942195,
          6.152732694704104,
          11.204768539329063,
          12.69031812644082,
          10.771428023469236,
          9.575677688993569,
          8.133293861222633,
          13.588857104142598,
          12.124211619049854,
          11.259838037282947,
          10.12942719115234
         ],
         "yaxis": "y"
        },
        {
         "hovertemplate": "color=GOLD<br>Potential=%{x}<br>Stores GMV=%{y}<extra></extra>",
         "legendgroup": "GOLD",
         "marker": {
          "color": "#FFD700",
          "symbol": "circle"
         },
         "mode": "markers",
         "name": "GOLD",
         "orientation": "v",
         "showlegend": true,
         "type": "scatter",
         "x": [
          4.341165681321825,
          2.594037487341077,
          3.7517582897507853,
          2.6291917775539813,
          2.9190992189843876,
          3.8192159685459397,
          2.77800187838794,
          2.7215953631303056,
          2.5655393495358254,
          3.297596589005431,
          3.672690239093276,
          2.7058433524687353,
          3.1709655007259903,
          3.9580386693718315,
          2.653952027945522,
          3.0760712285727183,
          3.791301565662775,
          3.7099169527112372,
          3.2152921816825812,
          3.867354391728624,
          3.1958539318682817,
          3.3356627396720127,
          3.4966038125917676,
          3.148394128345358,
          3.5860678923888893,
          3.2775013456247475,
          3.0179604245349214,
          2.8184084653831616,
          2.538151750578246,
          1.7863443187303232,
          2.0749746770780457,
          3.2646805591685637,
          3.1398111134004316,
          3.5981520125555795,
          2.9540958876112113,
          3.3115781227389283,
          3.520950905741532,
          3.520950905741532,
          4.725895779626737,
          3.116023633178339,
          3.1528022300009417,
          3.4965119041843233,
          3.072172952010126,
          3.421990956369819,
          3.066909056037026,
          3.8490757645190254,
          3.5995847535056624,
          2.446686199738074,
          3.1836981656583636,
          3.2855176223185967,
          2.8653033313493514,
          1.7993975258641803,
          3.6660641016052296,
          3.4775663250121163,
          3.523672101985523,
          3.7329734356017945,
          4.344478161357866,
          3.9383909395419345,
          3.4037643950622,
          4.080023079947934,
          4.696635572218895,
          3.2760030974232643,
          3.865811833467564,
          2.94348029925335,
          4.664118457632027,
          2.1075659208467763,
          3.3531347532244093,
          3.294712443337294,
          3.5815834916867764,
          4.249686983215106,
          4.63935011474661,
          5.0406746358763606,
          3.170819530790228,
          3.3272500714734035,
          2.7291774500460435,
          4.661879403899098,
          3.8053977483219215,
          2.2352872159064074,
          3.935325834765792,
          3.744182352646823,
          3.769223985849392,
          2.12420577587198,
          4.042223634212239,
          3.124188903198168,
          3.119469467531703,
          3.301390995822245,
          3.301390995822245,
          3.3863265725732563,
          3.9000160258881924,
          4.077673960688574,
          3.712948113793487,
          3.2294011254440984,
          3.6614491430320486,
          3.428606372448752,
          3.2467063901020943,
          3.9520410982820273,
          4.434489385917621,
          2.7294923607545694,
          2.747585073235724,
          4.1009980901653025,
          5.335141033117747,
          4.263786975671549,
          3.5207518272969085,
          1.6185463914056286,
          2.1319910342824175,
          4.532257920953145,
          4.557714376291627,
          2.6199454440449323,
          4.824721750635452,
          3.839660581441483,
          2.9225328201874494,
          3.344180466281416,
          4.032449565758885,
          4.196544158132622,
          3.8276459925432733,
          3.7203598148041963,
          1.8288283295429857,
          5.318951629801896,
          3.747369563242864,
          3.7415496400635915,
          3.098212960532945,
          4.174594345992364,
          1.7711672775679541,
          4.417108296283339,
          3.957707584255599,
          4.026305275571432,
          2.6321429114549173,
          5.221881640969527,
          3.2223796983277215,
          3.767471656081754,
          3.502967375203271,
          2.5359351443274987,
          3.1116425713977325,
          3.4148363897517053,
          3.952330069442441,
          3.6416957286056992,
          3.5234239317507745,
          3.6999034423016295,
          3.6040054135744053,
          3.9102847158779026,
          3.396267385845331,
          3.0118910367002423,
          3.01702564795787,
          3.3172980724350847,
          4.4566803511677815,
          3.7004011959410317,
          3.3119906165706285,
          4.985070938114668,
          3.560629411717884,
          3.4828268565237352,
          4.097297300928673,
          2.7455944752010835,
          3.902396996908804,
          3.2534525444334044,
          3.2534525444334044,
          2.9372167027812854,
          2.9372167027812854,
          3.0973490833316615,
          3.1705732365943207,
          3.6607130280516205,
          3.4274818732072982,
          4.544715824664016,
          3.1172957689257177,
          3.2705699194046396,
          3.101546046075404,
          3.6622381003728486,
          2.620962820497106,
          2.377710637673763,
          3.7150465849214656,
          3.809918601103657,
          3.1786294783808198,
          3.4173517287364072,
          2.842225001528867,
          3.201668547990586,
          3.236670949458935,
          2.5928190595924656,
          2.5928190595924656,
          3.7249833805143364,
          2.722453425535087,
          3.9755096516016692,
          2.6354567416999743,
          2.191949112732638,
          -3.287679026843551,
          3.50110743520123,
          2.7395878150775586,
          3.4049212278657484,
          3.516828111955372,
          2.977164929830803,
          3.9105739288235934,
          2.140305878291795,
          2.81125474131432,
          5.871721945223924,
          4.320098044036076,
          2.9970316110493016,
          3.050653916491566,
          3.574996993781844,
          3.1010164198457515,
          3.3366044917577407,
          3.195981652274707,
          2.937912808915159,
          3.5692547178488896,
          2.378065064740027,
          3.2417285679850654,
          2.8507443880692653,
          3.4570170333709664,
          2.7644143964118797
         ],
         "xaxis": "x",
         "y": [
          11.39174039896543,
          8.898092345579153,
          12.057995981463616,
          8.754634047431272,
          12.029186291226159,
          13.842705403211387,
          12.071660865478345,
          10.253545653372553,
          10.467948725468029,
          9.028218795184895,
          13.045817050262464,
          11.241838266090284,
          10.519078514877199,
          10.645448706505872,
          14.144918616213044,
          10.764688318092324,
          12.708867105662907,
          13.713610713935429,
          11.402105629864984,
          12.611217702427412,
          11.493875154612681,
          10.308552580622953,
          13.295408709417886,
          12.114987527568406,
          13.043774612243931,
          9.460164801871723,
          8.065893546964274,
          12.64849629462387,
          11.549498445201069,
          10.497559976154832,
          10.463160481696102,
          12.238496272279308,
          11.93153711074828,
          13.042226498630166,
          8.07837810362652,
          10.442317372711717,
          12.71867768519624,
          13.097363467603005,
          13.767023847748034,
          11.986821508931309,
          10.128828687393826,
          12.711910852785117,
          11.768350322738119,
          12.630277725012391,
          10.503477234609823,
          11.512175183579524,
          11.291430553901543,
          11.418834541570632,
          13.572494601919496,
          10.66697669415232,
          10.04524749757396,
          10.573698701813015,
          10.304944639246754,
          11.230031909250245,
          13.52442269237766,
          13.966828085345485,
          12.57900767485672,
          12.69948757903637,
          10.235628996225449,
          10.944241182249895,
          12.836514290673994,
          9.597302008519787,
          12.101961349272779,
          11.23744860495681,
          11.992972242543635,
          11.031092139970914,
          12.510423764266832,
          12.371142069749352,
          11.3822129527095,
          10.33123586888475,
          11.245176730225898,
          13.333720946087078,
          9.459619396895018,
          9.0142038261485,
          10.79650965747093,
          10.978524104675532,
          12.224742278289197,
          11.735428811397014,
          11.138668283986258,
          9.68775397939693,
          12.953838211231153,
          11.13623730013347,
          12.517300331556969,
          12.41584722910543,
          12.845362721632648,
          13.912237914916703,
          13.930182982905798,
          13.343293280406014,
          12.791384027222712,
          9.631022445889208,
          13.076893096319568,
          9.71709773156622,
          12.534246257908103,
          10.664550357894438,
          11.013468307941398,
          13.70101959747708,
          12.947192989938994,
          11.916622344015744,
          11.861601502787423,
          10.422281345951296,
          12.296059591121333,
          11.93043771398906,
          12.823377658781157,
          9.313979406735669,
          9.527556974530281,
          12.271893157066783,
          11.294421135804443,
          12.156278227266359,
          14.031731805321067,
          12.382007181999278,
          12.3181997163304,
          11.138537423432531,
          11.837325120357173,
          9.665547571979161,
          9.07015834137632,
          11.674236164852479,
          9.700207901150696,
          13.41369777200017,
          10.093074320321495,
          10.220048584538286,
          10.793803850638048,
          13.909290476606904,
          9.584452402426324,
          11.249116156930004,
          13.779288384693476,
          6.253828811575473,
          8.568076401730806,
          10.593103505644756,
          8.792549614177382,
          11.13507066006998,
          10.573238155289678,
          10.915688284286576,
          9.69953369561506,
          9.900232259815455,
          13.038910026761469,
          12.909640343418003,
          10.1899814193511,
          10.055349901845375,
          11.044760144998133,
          12.584423461146766,
          11.407731602091722,
          11.594754268931409,
          11.903337847118763,
          11.977036768511127,
          12.655178172666243,
          12.688940055429354,
          12.324388872348216,
          12.138061434913629,
          9.189423123720795,
          13.006683129339647,
          12.763199624663008,
          10.837795004197082,
          13.163159771596899,
          10.98573330378394,
          10.992806794292646,
          11.778016776892194,
          12.005326391658002,
          9.178746500385005,
          9.786279351630586,
          11.281699337462662,
          12.01267598556376,
          12.743051278402875,
          10.46823301829155,
          13.061313165037081,
          11.000815683693476,
          10.098560793255245,
          11.186558002720714,
          11.989190699384997,
          13.027676803117659,
          12.609442226220281,
          9.225228984469933,
          12.090364331150402,
          12.531628370410036,
          8.610683534503575,
          13.998640954226042,
          13.282844832660437,
          11.797856256116205,
          10.198430699466112,
          10.412471481422747,
          13.631955440647287,
          11.340712642324561,
          11.931194913178492,
          13.297390057836303,
          11.426288563310505,
          11.827137485467615,
          11.517216246387385,
          11.889613798306973,
          13.801723958031566,
          11.695205354229437,
          9.473319831787592,
          12.473883588339543,
          13.228660254538886,
          11.76485081770989,
          10.679251049273306,
          6.089044875446846,
          12.654405653865513,
          10.600552050380118,
          11.268532740616845,
          13.618847045232643,
          14.42862648911837,
          11.563903709734857,
          11.67821954018655,
          12.450762401265369,
          10.409672424652523,
          12.703949798509736,
          11.911594196611341
         ],
         "yaxis": "y"
        }
       ],
       "layout": {
        "legend": {
         "title": {
          "text": "color"
         },
         "tracegroupgap": 0
        },
        "template": {
         "data": {
          "bar": [
           {
            "error_x": {
             "color": "#2a3f5f"
            },
            "error_y": {
             "color": "#2a3f5f"
            },
            "marker": {
             "line": {
              "color": "#E5ECF6",
              "width": 0.5
             },
             "pattern": {
              "fillmode": "overlay",
              "size": 10,
              "solidity": 0.2
             }
            },
            "type": "bar"
           }
          ],
          "barpolar": [
           {
            "marker": {
             "line": {
              "color": "#E5ECF6",
              "width": 0.5
             },
             "pattern": {
              "fillmode": "overlay",
              "size": 10,
              "solidity": 0.2
             }
            },
            "type": "barpolar"
           }
          ],
          "carpet": [
           {
            "aaxis": {
             "endlinecolor": "#2a3f5f",
             "gridcolor": "white",
             "linecolor": "white",
             "minorgridcolor": "white",
             "startlinecolor": "#2a3f5f"
            },
            "baxis": {
             "endlinecolor": "#2a3f5f",
             "gridcolor": "white",
             "linecolor": "white",
             "minorgridcolor": "white",
             "startlinecolor": "#2a3f5f"
            },
            "type": "carpet"
           }
          ],
          "choropleth": [
           {
            "colorbar": {
             "outlinewidth": 0,
             "ticks": ""
            },
            "type": "choropleth"
           }
          ],
          "contour": [
           {
            "colorbar": {
             "outlinewidth": 0,
             "ticks": ""
            },
            "colorscale": [
             [
              0,
              "#0d0887"
             ],
             [
              0.1111111111111111,
              "#46039f"
             ],
             [
              0.2222222222222222,
              "#7201a8"
             ],
             [
              0.3333333333333333,
              "#9c179e"
             ],
             [
              0.4444444444444444,
              "#bd3786"
             ],
             [
              0.5555555555555556,
              "#d8576b"
             ],
             [
              0.6666666666666666,
              "#ed7953"
             ],
             [
              0.7777777777777778,
              "#fb9f3a"
             ],
             [
              0.8888888888888888,
              "#fdca26"
             ],
             [
              1,
              "#f0f921"
             ]
            ],
            "type": "contour"
           }
          ],
          "contourcarpet": [
           {
            "colorbar": {
             "outlinewidth": 0,
             "ticks": ""
            },
            "type": "contourcarpet"
           }
          ],
          "heatmap": [
           {
            "colorbar": {
             "outlinewidth": 0,
             "ticks": ""
            },
            "colorscale": [
             [
              0,
              "#0d0887"
             ],
             [
              0.1111111111111111,
              "#46039f"
             ],
             [
              0.2222222222222222,
              "#7201a8"
             ],
             [
              0.3333333333333333,
              "#9c179e"
             ],
             [
              0.4444444444444444,
              "#bd3786"
             ],
             [
              0.5555555555555556,
              "#d8576b"
             ],
             [
              0.6666666666666666,
              "#ed7953"
             ],
             [
              0.7777777777777778,
              "#fb9f3a"
             ],
             [
              0.8888888888888888,
              "#fdca26"
             ],
             [
              1,
              "#f0f921"
             ]
            ],
            "type": "heatmap"
           }
          ],
          "heatmapgl": [
           {
            "colorbar": {
             "outlinewidth": 0,
             "ticks": ""
            },
            "colorscale": [
             [
              0,
              "#0d0887"
             ],
             [
              0.1111111111111111,
              "#46039f"
             ],
             [
              0.2222222222222222,
              "#7201a8"
             ],
             [
              0.3333333333333333,
              "#9c179e"
             ],
             [
              0.4444444444444444,
              "#bd3786"
             ],
             [
              0.5555555555555556,
              "#d8576b"
             ],
             [
              0.6666666666666666,
              "#ed7953"
             ],
             [
              0.7777777777777778,
              "#fb9f3a"
             ],
             [
              0.8888888888888888,
              "#fdca26"
             ],
             [
              1,
              "#f0f921"
             ]
            ],
            "type": "heatmapgl"
           }
          ],
          "histogram": [
           {
            "marker": {
             "pattern": {
              "fillmode": "overlay",
              "size": 10,
              "solidity": 0.2
             }
            },
            "type": "histogram"
           }
          ],
          "histogram2d": [
           {
            "colorbar": {
             "outlinewidth": 0,
             "ticks": ""
            },
            "colorscale": [
             [
              0,
              "#0d0887"
             ],
             [
              0.1111111111111111,
              "#46039f"
             ],
             [
              0.2222222222222222,
              "#7201a8"
             ],
             [
              0.3333333333333333,
              "#9c179e"
             ],
             [
              0.4444444444444444,
              "#bd3786"
             ],
             [
              0.5555555555555556,
              "#d8576b"
             ],
             [
              0.6666666666666666,
              "#ed7953"
             ],
             [
              0.7777777777777778,
              "#fb9f3a"
             ],
             [
              0.8888888888888888,
              "#fdca26"
             ],
             [
              1,
              "#f0f921"
             ]
            ],
            "type": "histogram2d"
           }
          ],
          "histogram2dcontour": [
           {
            "colorbar": {
             "outlinewidth": 0,
             "ticks": ""
            },
            "colorscale": [
             [
              0,
              "#0d0887"
             ],
             [
              0.1111111111111111,
              "#46039f"
             ],
             [
              0.2222222222222222,
              "#7201a8"
             ],
             [
              0.3333333333333333,
              "#9c179e"
             ],
             [
              0.4444444444444444,
              "#bd3786"
             ],
             [
              0.5555555555555556,
              "#d8576b"
             ],
             [
              0.6666666666666666,
              "#ed7953"
             ],
             [
              0.7777777777777778,
              "#fb9f3a"
             ],
             [
              0.8888888888888888,
              "#fdca26"
             ],
             [
              1,
              "#f0f921"
             ]
            ],
            "type": "histogram2dcontour"
           }
          ],
          "mesh3d": [
           {
            "colorbar": {
             "outlinewidth": 0,
             "ticks": ""
            },
            "type": "mesh3d"
           }
          ],
          "parcoords": [
           {
            "line": {
             "colorbar": {
              "outlinewidth": 0,
              "ticks": ""
             }
            },
            "type": "parcoords"
           }
          ],
          "pie": [
           {
            "automargin": true,
            "type": "pie"
           }
          ],
          "scatter": [
           {
            "marker": {
             "colorbar": {
              "outlinewidth": 0,
              "ticks": ""
             }
            },
            "type": "scatter"
           }
          ],
          "scatter3d": [
           {
            "line": {
             "colorbar": {
              "outlinewidth": 0,
              "ticks": ""
             }
            },
            "marker": {
             "colorbar": {
              "outlinewidth": 0,
              "ticks": ""
             }
            },
            "type": "scatter3d"
           }
          ],
          "scattercarpet": [
           {
            "marker": {
             "colorbar": {
              "outlinewidth": 0,
              "ticks": ""
             }
            },
            "type": "scattercarpet"
           }
          ],
          "scattergeo": [
           {
            "marker": {
             "colorbar": {
              "outlinewidth": 0,
              "ticks": ""
             }
            },
            "type": "scattergeo"
           }
          ],
          "scattergl": [
           {
            "marker": {
             "colorbar": {
              "outlinewidth": 0,
              "ticks": ""
             }
            },
            "type": "scattergl"
           }
          ],
          "scattermapbox": [
           {
            "marker": {
             "colorbar": {
              "outlinewidth": 0,
              "ticks": ""
             }
            },
            "type": "scattermapbox"
           }
          ],
          "scatterpolar": [
           {
            "marker": {
             "colorbar": {
              "outlinewidth": 0,
              "ticks": ""
             }
            },
            "type": "scatterpolar"
           }
          ],
          "scatterpolargl": [
           {
            "marker": {
             "colorbar": {
              "outlinewidth": 0,
              "ticks": ""
             }
            },
            "type": "scatterpolargl"
           }
          ],
          "scatterternary": [
           {
            "marker": {
             "colorbar": {
              "outlinewidth": 0,
              "ticks": ""
             }
            },
            "type": "scatterternary"
           }
          ],
          "surface": [
           {
            "colorbar": {
             "outlinewidth": 0,
             "ticks": ""
            },
            "colorscale": [
             [
              0,
              "#0d0887"
             ],
             [
              0.1111111111111111,
              "#46039f"
             ],
             [
              0.2222222222222222,
              "#7201a8"
             ],
             [
              0.3333333333333333,
              "#9c179e"
             ],
             [
              0.4444444444444444,
              "#bd3786"
             ],
             [
              0.5555555555555556,
              "#d8576b"
             ],
             [
              0.6666666666666666,
              "#ed7953"
             ],
             [
              0.7777777777777778,
              "#fb9f3a"
             ],
             [
              0.8888888888888888,
              "#fdca26"
             ],
             [
              1,
              "#f0f921"
             ]
            ],
            "type": "surface"
           }
          ],
          "table": [
           {
            "cells": {
             "fill": {
              "color": "#EBF0F8"
             },
             "line": {
              "color": "white"
             }
            },
            "header": {
             "fill": {
              "color": "#C8D4E3"
             },
             "line": {
              "color": "white"
             }
            },
            "type": "table"
           }
          ]
         },
         "layout": {
          "annotationdefaults": {
           "arrowcolor": "#2a3f5f",
           "arrowhead": 0,
           "arrowwidth": 1
          },
          "autotypenumbers": "strict",
          "coloraxis": {
           "colorbar": {
            "outlinewidth": 0,
            "ticks": ""
           }
          },
          "colorscale": {
           "diverging": [
            [
             0,
             "#8e0152"
            ],
            [
             0.1,
             "#c51b7d"
            ],
            [
             0.2,
             "#de77ae"
            ],
            [
             0.3,
             "#f1b6da"
            ],
            [
             0.4,
             "#fde0ef"
            ],
            [
             0.5,
             "#f7f7f7"
            ],
            [
             0.6,
             "#e6f5d0"
            ],
            [
             0.7,
             "#b8e186"
            ],
            [
             0.8,
             "#7fbc41"
            ],
            [
             0.9,
             "#4d9221"
            ],
            [
             1,
             "#276419"
            ]
           ],
           "sequential": [
            [
             0,
             "#0d0887"
            ],
            [
             0.1111111111111111,
             "#46039f"
            ],
            [
             0.2222222222222222,
             "#7201a8"
            ],
            [
             0.3333333333333333,
             "#9c179e"
            ],
            [
             0.4444444444444444,
             "#bd3786"
            ],
            [
             0.5555555555555556,
             "#d8576b"
            ],
            [
             0.6666666666666666,
             "#ed7953"
            ],
            [
             0.7777777777777778,
             "#fb9f3a"
            ],
            [
             0.8888888888888888,
             "#fdca26"
            ],
            [
             1,
             "#f0f921"
            ]
           ],
           "sequentialminus": [
            [
             0,
             "#0d0887"
            ],
            [
             0.1111111111111111,
             "#46039f"
            ],
            [
             0.2222222222222222,
             "#7201a8"
            ],
            [
             0.3333333333333333,
             "#9c179e"
            ],
            [
             0.4444444444444444,
             "#bd3786"
            ],
            [
             0.5555555555555556,
             "#d8576b"
            ],
            [
             0.6666666666666666,
             "#ed7953"
            ],
            [
             0.7777777777777778,
             "#fb9f3a"
            ],
            [
             0.8888888888888888,
             "#fdca26"
            ],
            [
             1,
             "#f0f921"
            ]
           ]
          },
          "colorway": [
           "#636efa",
           "#EF553B",
           "#00cc96",
           "#ab63fa",
           "#FFA15A",
           "#19d3f3",
           "#FF6692",
           "#B6E880",
           "#FF97FF",
           "#FECB52"
          ],
          "font": {
           "color": "#2a3f5f"
          },
          "geo": {
           "bgcolor": "white",
           "lakecolor": "white",
           "landcolor": "#E5ECF6",
           "showlakes": true,
           "showland": true,
           "subunitcolor": "white"
          },
          "hoverlabel": {
           "align": "left"
          },
          "hovermode": "closest",
          "mapbox": {
           "style": "light"
          },
          "paper_bgcolor": "white",
          "plot_bgcolor": "#E5ECF6",
          "polar": {
           "angularaxis": {
            "gridcolor": "white",
            "linecolor": "white",
            "ticks": ""
           },
           "bgcolor": "#E5ECF6",
           "radialaxis": {
            "gridcolor": "white",
            "linecolor": "white",
            "ticks": ""
           }
          },
          "scene": {
           "xaxis": {
            "backgroundcolor": "#E5ECF6",
            "gridcolor": "white",
            "gridwidth": 2,
            "linecolor": "white",
            "showbackground": true,
            "ticks": "",
            "zerolinecolor": "white"
           },
           "yaxis": {
            "backgroundcolor": "#E5ECF6",
            "gridcolor": "white",
            "gridwidth": 2,
            "linecolor": "white",
            "showbackground": true,
            "ticks": "",
            "zerolinecolor": "white"
           },
           "zaxis": {
            "backgroundcolor": "#E5ECF6",
            "gridcolor": "white",
            "gridwidth": 2,
            "linecolor": "white",
            "showbackground": true,
            "ticks": "",
            "zerolinecolor": "white"
           }
          },
          "shapedefaults": {
           "line": {
            "color": "#2a3f5f"
           }
          },
          "ternary": {
           "aaxis": {
            "gridcolor": "white",
            "linecolor": "white",
            "ticks": ""
           },
           "baxis": {
            "gridcolor": "white",
            "linecolor": "white",
            "ticks": ""
           },
           "bgcolor": "#E5ECF6",
           "caxis": {
            "gridcolor": "white",
            "linecolor": "white",
            "ticks": ""
           }
          },
          "title": {
           "x": 0.05
          },
          "xaxis": {
           "automargin": true,
           "gridcolor": "white",
           "linecolor": "white",
           "ticks": "",
           "title": {
            "standoff": 15
           },
           "zerolinecolor": "white",
           "zerolinewidth": 2
          },
          "yaxis": {
           "automargin": true,
           "gridcolor": "white",
           "linecolor": "white",
           "ticks": "",
           "title": {
            "standoff": 15
           },
           "zerolinecolor": "white",
           "zerolinewidth": 2
          }
         }
        },
        "title": {
         "text": "GMV-potential logarithms relation by medals"
        },
        "xaxis": {
         "anchor": "y",
         "domain": [
          0,
          1
         ],
         "title": {
          "text": "Potential"
         }
        },
        "yaxis": {
         "anchor": "x",
         "domain": [
          0,
          1
         ],
         "title": {
          "text": "Stores GMV"
         }
        }
       }
      },
      "text/html": [
       "<div>                            <div id=\"5816c039-051e-4cf5-bfdc-c1213ad1895d\" class=\"plotly-graph-div\" style=\"height:525px; width:100%;\"></div>            <script type=\"text/javascript\">                require([\"plotly\"], function(Plotly) {                    window.PLOTLYENV=window.PLOTLYENV || {};                                    if (document.getElementById(\"5816c039-051e-4cf5-bfdc-c1213ad1895d\")) {                    Plotly.newPlot(                        \"5816c039-051e-4cf5-bfdc-c1213ad1895d\",                        [{\"hovertemplate\":\"color=BRONSE<br>Potential=%{x}<br>Stores GMV=%{y}<extra></extra>\",\"legendgroup\":\"BRONSE\",\"marker\":{\"color\":\"#CD853F\",\"symbol\":\"circle\"},\"mode\":\"markers\",\"name\":\"BRONSE\",\"orientation\":\"v\",\"showlegend\":true,\"type\":\"scatter\",\"x\":[0.780323830891184,0.5549721090140092,0.35148900416806017,-0.04549566788680402,1.091283668479571,0.42026475703886323,-5.821157206180063,-4.121233141683766,1.034098438870643,1.6032613826856077,0.4336281691183903,-5.796842617692853,-0.3290962214275513,1.1987623636252183,-1.289617170646011,-9.129046140093577,-2.1280235423167997,1.2940091882650806,1.4764756992819195,1.0430346351209556,-2.3283064901017783,1.558745175991311,-0.5676667385388483,0.017984839846710808,-0.34972421205533927,1.7963682383505393,-1.9423756338201255,-0.6125975601576091,0.7230680279348521,0.9989860049065924,-0.08861831833765627,-3.107084861428259,-0.5710741069564287,-0.11931593782581121,0.8456572629142574,-3.308504952451859,0.1703875051003278,1.504379004621388,1.1346362109876824,-4.1540390267689675,-0.02510667232627373,-0.14819164403465046,-0.625532033966903,1.1398967023361488,-3.362103301526496,-0.24143765133502337,-3.8443630952728842,0.32895790605149977,1.107132202573136,0.10182690971952355,1.1845641551301913,1.905667888837601,-1.3326102111067777,1.0614601979859266,-3.997670276869308,0.7805235086135002,0.6638475494756549,-4.00129852547448,-2.7999417650383136,0.820263294341995,-0.5784608832966623,1.3402755471719694,1.6420579255499164,1.4880974038679633,0.3218411067509664,1.3513109906961613,-0.2083789797644505,0.7586542206565763,0.0358693844887048,1.7018403701817875,-0.9718918918047947,0.8410267901218725,1.8878504047693425,-0.039252048364223927,0.7977624448369338,0.8452363701183779,1.0873630583334624,1.0336386282489496,1.5261752657665837,-2.4836148365381447,1.3274775321046755,-0.09129151974617676,1.238210862916814,1.7454281742604871,-0.15011578397884073,-2.706950476021565,0.2237000036658794,-0.9481858460683075,1.6009173942973798,1.1985104946383198,-0.9560202140284385,-7.379847487792509,-0.10849723000663364,1.0637466040897718,1.5826744573387188,0.5123116948152306,-2.324781766533405,0.07091357814839358,0.9539171513548602,-2.1742885319729868,1.0927487768320665,-1.1344822429293784,-0.7042361323559801,0.8051381500954711,-0.5744858675909075,1.0887187873167816,-0.7482269398294057,1.854672736136436,1.0170265762859634,1.1426787384067918,1.4397255500065516,1.1409308881562517,-4.782000208893519,-1.795771219548209,-3.237599473471304,0.8170072866947999,1.7362370851847584,1.2218195607412985,0.8777258074204521,1.109069490380471,0.32553725056132193,0.6426815877434477,2.3565452724302856,0.6698945401867663,1.055744611498509,-0.7520049610352153,1.5344768494556997,1.381783298810855,1.3501006712255006,1.3501006712255006,1.478307660134904,-0.8469585173039144,-1.2257558072721455,0.5747341857084279,1.2291478528180744,1.181269403491334,0.3124292201404528,1.0915907291141915,0.4803997462412968,0.8843846224614205,-1.1008727355542554,1.3616884299475764,0.36964364492613355,0.8492667244730857,-4.796278876811022,0.8239846471344032,-6.145893465640039,-2.278624084546098,-0.6009971141128853,-2.461159236928919,0.49238304100980906,1.0829013114034571,-0.10511716638077463,1.3511947945246159,1.4278129494423373,0.9687615081777049,0.08272568987116428,-4.985912438060783,-3.445385566699872,1.4621114271010713,1.773585509412678,-0.3833239819389801,0.714802722501966,0.7523070774845432,1.1003302544527922,-3.627788945545472,1.7176011501146384,-0.6016536640485395,0.26525852282733214,1.4497888810715738,1.0675734190536903,-4.495995294320784,1.1358264747070004,1.9845708305575023,0.676639718020253,0.8987992137147061,-0.17896377485868095,1.862347126146215,0.025574914954460112],\"xaxis\":\"x\",\"y\":[9.694000327669404,10.151518819358117,11.41487152449484,11.646957982010933,13.32597501677565,12.003889139680538,11.276164617696834,8.366370301681654,13.830545957713806,10.829471156381183,10.523741407575748,10.701850238240384,10.492939496757309,10.696751524430846,9.24377514806242,10.513144422597048,12.691515843839595,11.534148651421754,12.092920744595892,11.477008089783428,11.769496055396838,10.579005242826247,11.702313660818122,6.866933284461882,11.988786903700124,10.95185862476749,9.642447411030767,9.694000327669404,10.920130278336988,11.901881715362642,10.575666426659877,11.19534760016878,9.195226734166134,9.998797732340453,12.448748199289668,10.417328625262575,9.814874894179525,8.99118884193151,10.352810043708068,11.084493629075336,9.790430830243832,10.206735348092,8.151333337900432,11.130493055972638,10.208505978234776,11.095650898902566,8.859363449152088,12.05283987762617,7.897296472595885,10.293669803779775,10.500949482961666,11.16704914827372,13.712403057915182,11.466672080452767,8.859363449152088,10.987324555622083,11.915787187208277,9.010913347279288,9.75359446296151,10.247325453073348,12.848284362410366,9.884304733119354,10.407892608499196,10.21222147168452,12.224256315963803,13.203242658129952,11.827663209445435,9.213435576883485,11.501965624733886,11.542290073600132,8.992184362173012,11.027978741746653,13.015913379587397,8.432724034789787,11.310233839915918,11.624404225936138,12.43095867784222,7.749322464660356,12.534717902534428,9.506734385029985,10.223031598136654,10.309452535685944,11.498085901273566,11.16403443334352,8.200288260287554,11.622998857556558,10.435732143675418,11.24674392396445,10.717302492821046,9.986264978993697,10.090464920866276,10.332343613434867,11.688834840936288,9.627734050949622,11.501965624733886,11.31642384460244,8.722742874329398,11.529231791244538,11.047869575448427,10.290075604874604,11.653182936724335,12.567122505552357,11.2540251939439,11.49163032443007,12.70904249333058,7.173958319756794,11.830826316006005,10.744623610809523,12.171248254375994,13.464148617848716,12.852115115745061,13.05418731509506,11.620487555382894,12.082106785546777,12.577449977727449,10.532362843075934,11.550895396221858,9.740085880594684,9.690912952571152,7.7406644019172415,12.240377449222164,10.940313086039021,12.05263587747392,9.354007721788596,12.306031096274005,10.108670778473344,10.72134924601891,9.195226734166134,9.069928218259438,11.265233040734605,10.402807236115917,12.849835235284175,10.47302538238145,11.267830228788947,12.826165145184207,11.074730532239146,10.932303075252127,11.304547365856493,11.409640571495315,10.680516217076775,10.756199302767412,10.86919682254001,13.140566687258202,12.753615852231327,10.864828128963993,10.122502593266558,11.02632079786699,10.815770263012745,10.220849779089319,9.982806921740384,9.973526543316103,11.489421395782234,12.75530615219242,11.827845687867867,10.360754159207556,10.496123551499684,10.638951609723101,9.47616019757083,10.78983440803721,11.733585935990632,12.317882320582179,13.060381585048447,10.84427575601067,11.091742475620011,11.3407720370919,10.703356821393031,10.512655119300799,9.867238419861007,11.54548945584349,10.583169482142504,12.22711470049688,8.901911226379612,10.929081019300734,9.370671910878523,11.818128151139998,12.729433375549243,10.647256552094476,8.92930284224307,9.433483923290392],\"yaxis\":\"y\"},{\"hovertemplate\":\"color=SILVER<br>Potential=%{x}<br>Stores GMV=%{y}<extra></extra>\",\"legendgroup\":\"SILVER\",\"marker\":{\"color\":\"#C0C0C0\",\"symbol\":\"circle\"},\"mode\":\"markers\",\"name\":\"SILVER\",\"orientation\":\"v\",\"showlegend\":true,\"type\":\"scatter\",\"x\":[2.309198149455438,2.522497746574698,2.661686810534304,1.836950323965291,1.3738523141213077,3.3085135152090954,2.5401385183826894,1.8657906058704807,2.422572266641493,2.4288862299518885,2.882614604941399,2.510443955930807,2.9931696979600084,2.3258694715613424,3.1445283816435707,3.1013606067454997,3.1013606067454997,2.2324668880926106,2.409555637559466,3.0755191751273214,2.3237543663960283,2.5799571451196552,3.4837147212146595,1.24506439063106,3.2057342720825157,3.365044984249961,2.6355155628145344,0.3648794078904337,1.6312217857655358,2.0637258295121828,3.167183252885222,0.3048214571990574,2.3138922435449776,1.6329670060572627,1.8116862278719077,2.8974606351065986,2.7346595433968868,1.550375125980096,1.6510133963219302,2.5566076434441176,1.5881103917307162,3.213402016074388,2.215639705136176,2.165092195273905,2.5196880180060193,2.2330836118657076,2.2330836118657076,1.9346191606494247,-0.5141353114114044,2.298122789610808,1.7756800494646756,2.3066734960728907,2.8405827099250422,2.507075115169832,2.747820562530173,2.7241498573262892,2.0496636784449342,1.5903134250570605,1.8940405266677942,2.2159448020525616,2.637350445860507,1.2149634944117764,2.249297459549532,2.8227463539752993,1.6859347210161546,2.752446553906067,3.295219692258454,0.991258896698915,2.1000500898453165,2.567015212113629,2.4115769359947135,2.360833502794725,2.2448625201757544,2.2901612253695802,1.9868041232021159,2.4604937100646933,4.3929798934909785,2.4079641375802106,2.85384300412232,2.693451022475103,2.5709233682410195,1.8425455008045775,1.4051578951550114,2.1791557020963204,2.122292068097341,1.725245103884177,1.340931866560822,2.1204552207874268,3.0612745279702325,2.506398702142855,2.847264320986257,2.5957655727113886,2.5228186912988404,2.744695432599301,3.269697355272621,2.065602446624936,3.3086497734406275,1.520875687901844,2.7878917310023934,3.422916379063952,3.5170532453668675,2.1368743864851623,2.6823911472078494,2.7858211931518677,1.984151742092833,1.0818867775302465,2.790641664091486,2.606944901380168,2.1494717549750155,2.782164159809441,2.6590803618921846,2.8608841120840527,2.489655499464493,3.8903793831441513,1.7215251544334287,3.0472574142631057,1.9746335318347814,2.5973331834869207,2.354417493437809,2.1111975614012084,2.1598218362875676,2.3066734960728907,3.1649783644766205,1.5065685076038267,1.3781695548398372,2.4069102446474946,2.2265611294235597,1.8311304619541802,2.3526520074850907,3.28101687298769,2.4855030444093678,1.240245093511383,2.2482868036018098,2.2134630683721546,2.7244455314566762,1.9221753678622406,1.462794216064903,2.1187160675678784,1.9912511089680185,2.566843372681775,3.4319768832072444,2.8094189988440528,1.472798778981621,1.567255647957685,2.47988363889793,3.3607598312893336,0.9514619364393809,2.5488017217690566,2.6726332839089126,3.14657680136447,2.9679531605806164,1.8892518299790633,3.0118981675133023,1.6820031647501361,1.8883614915171716,2.8560080948657753,1.6088047616364303,3.0465247156359627,1.2266259661618937,2.576235183044728,2.222203057680397,1.928024548902146,1.8192281542295574,1.5550467146001958,2.872358211573109,2.991750011864829,1.529216357868412,2.832707415507713,2.741256848009713,2.256695300412593,2.4740852541180045,1.9903004660365422],\"xaxis\":\"x\",\"y\":[11.564236259204655,12.435595803808422,9.849559210510572,11.08357229553351,12.42660077962056,12.376566193069033,11.036404644896228,10.754065741044903,11.221235371120908,10.554509806795402,12.367715191115728,11.601568010880195,10.232071616308335,9.056956065076825,10.843709631701985,9.687071321971345,12.433475114764757,10.649843691427217,9.46187699779161,9.402199633250627,10.44639306976553,9.835262243540562,12.021097571270655,11.680742335561302,11.599956008442847,11.725444778406931,10.220485679321962,11.303931336760439,9.241257474610904,12.712004313405854,10.178843975297273,11.072635965707883,10.520158574385459,8.384118837190895,12.234028221543506,12.12512285991914,9.566615235893575,10.72260637265801,12.085936844290194,10.308118979895715,11.279264296926641,13.469526830185666,9.321613374385612,10.516237796024043,9.862665558015873,11.040069772455867,10.382977295992266,10.252029513244672,10.738351285714554,10.867996856680758,9.048409504829962,10.59633468808707,12.469912743496383,12.159793077175992,11.844787089033758,11.924525051961783,6.846943139585379,9.363919459904483,12.119735586591561,10.810333825582283,10.490496137034405,11.684202926301861,11.629374277613476,8.944811104165534,11.265681313291823,12.631732460923857,7.462214939768189,10.954588858533185,11.224776616929004,9.484937204879309,10.977260551190593,12.814663614531952,9.780754787153832,12.779399717007811,8.662158961666423,9.497622364406624,12.373069036221382,10.106550838016146,11.546437607502677,11.474101473112647,12.325676245176005,8.368693183097793,10.500674341950162,11.547133636299966,13.020974962498903,10.6550215587958,9.10719961305667,9.18399639663658,11.049587570271592,11.508465534248135,10.411268546115894,10.84285007197804,10.646852449256691,9.515616752828915,11.23426920372576,11.762360350238506,13.394769362303593,11.290356748406861,9.259035293514941,9.825255704266555,12.574493337298957,10.441704582894031,10.234372782288558,11.588079318570653,12.535682101334803,12.731487329539457,12.947569417030941,8.642768014324304,11.056414400305043,10.439688482633347,11.730260177601188,11.273131562712008,6.835184586147301,9.984007069594924,11.277241105411683,10.694441793098985,10.415112856472684,11.521092027636621,11.941325544360888,10.036925190765844,9.608780865147382,8.384347278082808,9.458761730474661,11.706755543947052,12.019001828833863,11.814547424155695,11.473560741447951,11.850896577715178,10.090216051148289,11.988693696920816,10.936369499018918,10.872826038832356,11.999109974819769,7.8399193600125825,9.70643807033756,9.735068900911164,13.056650834038948,10.620107089281216,11.960619577296104,11.22337498145842,12.055424159191086,10.783010560218068,11.348640270662372,12.264440605352142,11.074715033048978,10.31754893986965,11.369459169944948,13.302719670999668,12.393464659137233,11.624744082126579,11.635010345520465,9.283590833715776,9.18204377282107,13.066205639192066,12.990608691216046,8.282230063296685,12.83327498321219,12.32389568038658,12.424886838683154,11.145550623609198,12.347554846542057,11.930576027942195,6.152732694704104,11.204768539329063,12.69031812644082,10.771428023469236,9.575677688993569,8.133293861222633,13.588857104142598,12.124211619049854,11.259838037282947,10.12942719115234],\"yaxis\":\"y\"},{\"hovertemplate\":\"color=GOLD<br>Potential=%{x}<br>Stores GMV=%{y}<extra></extra>\",\"legendgroup\":\"GOLD\",\"marker\":{\"color\":\"#FFD700\",\"symbol\":\"circle\"},\"mode\":\"markers\",\"name\":\"GOLD\",\"orientation\":\"v\",\"showlegend\":true,\"type\":\"scatter\",\"x\":[4.341165681321825,2.594037487341077,3.7517582897507853,2.6291917775539813,2.9190992189843876,3.8192159685459397,2.77800187838794,2.7215953631303056,2.5655393495358254,3.297596589005431,3.672690239093276,2.7058433524687353,3.1709655007259903,3.9580386693718315,2.653952027945522,3.0760712285727183,3.791301565662775,3.7099169527112372,3.2152921816825812,3.867354391728624,3.1958539318682817,3.3356627396720127,3.4966038125917676,3.148394128345358,3.5860678923888893,3.2775013456247475,3.0179604245349214,2.8184084653831616,2.538151750578246,1.7863443187303232,2.0749746770780457,3.2646805591685637,3.1398111134004316,3.5981520125555795,2.9540958876112113,3.3115781227389283,3.520950905741532,3.520950905741532,4.725895779626737,3.116023633178339,3.1528022300009417,3.4965119041843233,3.072172952010126,3.421990956369819,3.066909056037026,3.8490757645190254,3.5995847535056624,2.446686199738074,3.1836981656583636,3.2855176223185967,2.8653033313493514,1.7993975258641803,3.6660641016052296,3.4775663250121163,3.523672101985523,3.7329734356017945,4.344478161357866,3.9383909395419345,3.4037643950622,4.080023079947934,4.696635572218895,3.2760030974232643,3.865811833467564,2.94348029925335,4.664118457632027,2.1075659208467763,3.3531347532244093,3.294712443337294,3.5815834916867764,4.249686983215106,4.63935011474661,5.0406746358763606,3.170819530790228,3.3272500714734035,2.7291774500460435,4.661879403899098,3.8053977483219215,2.2352872159064074,3.935325834765792,3.744182352646823,3.769223985849392,2.12420577587198,4.042223634212239,3.124188903198168,3.119469467531703,3.301390995822245,3.301390995822245,3.3863265725732563,3.9000160258881924,4.077673960688574,3.712948113793487,3.2294011254440984,3.6614491430320486,3.428606372448752,3.2467063901020943,3.9520410982820273,4.434489385917621,2.7294923607545694,2.747585073235724,4.1009980901653025,5.335141033117747,4.263786975671549,3.5207518272969085,1.6185463914056286,2.1319910342824175,4.532257920953145,4.557714376291627,2.6199454440449323,4.824721750635452,3.839660581441483,2.9225328201874494,3.344180466281416,4.032449565758885,4.196544158132622,3.8276459925432733,3.7203598148041963,1.8288283295429857,5.318951629801896,3.747369563242864,3.7415496400635915,3.098212960532945,4.174594345992364,1.7711672775679541,4.417108296283339,3.957707584255599,4.026305275571432,2.6321429114549173,5.221881640969527,3.2223796983277215,3.767471656081754,3.502967375203271,2.5359351443274987,3.1116425713977325,3.4148363897517053,3.952330069442441,3.6416957286056992,3.5234239317507745,3.6999034423016295,3.6040054135744053,3.9102847158779026,3.396267385845331,3.0118910367002423,3.01702564795787,3.3172980724350847,4.4566803511677815,3.7004011959410317,3.3119906165706285,4.985070938114668,3.560629411717884,3.4828268565237352,4.097297300928673,2.7455944752010835,3.902396996908804,3.2534525444334044,3.2534525444334044,2.9372167027812854,2.9372167027812854,3.0973490833316615,3.1705732365943207,3.6607130280516205,3.4274818732072982,4.544715824664016,3.1172957689257177,3.2705699194046396,3.101546046075404,3.6622381003728486,2.620962820497106,2.377710637673763,3.7150465849214656,3.809918601103657,3.1786294783808198,3.4173517287364072,2.842225001528867,3.201668547990586,3.236670949458935,2.5928190595924656,2.5928190595924656,3.7249833805143364,2.722453425535087,3.9755096516016692,2.6354567416999743,2.191949112732638,-3.287679026843551,3.50110743520123,2.7395878150775586,3.4049212278657484,3.516828111955372,2.977164929830803,3.9105739288235934,2.140305878291795,2.81125474131432,5.871721945223924,4.320098044036076,2.9970316110493016,3.050653916491566,3.574996993781844,3.1010164198457515,3.3366044917577407,3.195981652274707,2.937912808915159,3.5692547178488896,2.378065064740027,3.2417285679850654,2.8507443880692653,3.4570170333709664,2.7644143964118797],\"xaxis\":\"x\",\"y\":[11.39174039896543,8.898092345579153,12.057995981463616,8.754634047431272,12.029186291226159,13.842705403211387,12.071660865478345,10.253545653372553,10.467948725468029,9.028218795184895,13.045817050262464,11.241838266090284,10.519078514877199,10.645448706505872,14.144918616213044,10.764688318092324,12.708867105662907,13.713610713935429,11.402105629864984,12.611217702427412,11.493875154612681,10.308552580622953,13.295408709417886,12.114987527568406,13.043774612243931,9.460164801871723,8.065893546964274,12.64849629462387,11.549498445201069,10.497559976154832,10.463160481696102,12.238496272279308,11.93153711074828,13.042226498630166,8.07837810362652,10.442317372711717,12.71867768519624,13.097363467603005,13.767023847748034,11.986821508931309,10.128828687393826,12.711910852785117,11.768350322738119,12.630277725012391,10.503477234609823,11.512175183579524,11.291430553901543,11.418834541570632,13.572494601919496,10.66697669415232,10.04524749757396,10.573698701813015,10.304944639246754,11.230031909250245,13.52442269237766,13.966828085345485,12.57900767485672,12.69948757903637,10.235628996225449,10.944241182249895,12.836514290673994,9.597302008519787,12.101961349272779,11.23744860495681,11.992972242543635,11.031092139970914,12.510423764266832,12.371142069749352,11.3822129527095,10.33123586888475,11.245176730225898,13.333720946087078,9.459619396895018,9.0142038261485,10.79650965747093,10.978524104675532,12.224742278289197,11.735428811397014,11.138668283986258,9.68775397939693,12.953838211231153,11.13623730013347,12.517300331556969,12.41584722910543,12.845362721632648,13.912237914916703,13.930182982905798,13.343293280406014,12.791384027222712,9.631022445889208,13.076893096319568,9.71709773156622,12.534246257908103,10.664550357894438,11.013468307941398,13.70101959747708,12.947192989938994,11.916622344015744,11.861601502787423,10.422281345951296,12.296059591121333,11.93043771398906,12.823377658781157,9.313979406735669,9.527556974530281,12.271893157066783,11.294421135804443,12.156278227266359,14.031731805321067,12.382007181999278,12.3181997163304,11.138537423432531,11.837325120357173,9.665547571979161,9.07015834137632,11.674236164852479,9.700207901150696,13.41369777200017,10.093074320321495,10.220048584538286,10.793803850638048,13.909290476606904,9.584452402426324,11.249116156930004,13.779288384693476,6.253828811575473,8.568076401730806,10.593103505644756,8.792549614177382,11.13507066006998,10.573238155289678,10.915688284286576,9.69953369561506,9.900232259815455,13.038910026761469,12.909640343418003,10.1899814193511,10.055349901845375,11.044760144998133,12.584423461146766,11.407731602091722,11.594754268931409,11.903337847118763,11.977036768511127,12.655178172666243,12.688940055429354,12.324388872348216,12.138061434913629,9.189423123720795,13.006683129339647,12.763199624663008,10.837795004197082,13.163159771596899,10.98573330378394,10.992806794292646,11.778016776892194,12.005326391658002,9.178746500385005,9.786279351630586,11.281699337462662,12.01267598556376,12.743051278402875,10.46823301829155,13.061313165037081,11.000815683693476,10.098560793255245,11.186558002720714,11.989190699384997,13.027676803117659,12.609442226220281,9.225228984469933,12.090364331150402,12.531628370410036,8.610683534503575,13.998640954226042,13.282844832660437,11.797856256116205,10.198430699466112,10.412471481422747,13.631955440647287,11.340712642324561,11.931194913178492,13.297390057836303,11.426288563310505,11.827137485467615,11.517216246387385,11.889613798306973,13.801723958031566,11.695205354229437,9.473319831787592,12.473883588339543,13.228660254538886,11.76485081770989,10.679251049273306,6.089044875446846,12.654405653865513,10.600552050380118,11.268532740616845,13.618847045232643,14.42862648911837,11.563903709734857,11.67821954018655,12.450762401265369,10.409672424652523,12.703949798509736,11.911594196611341],\"yaxis\":\"y\"}],                        {\"legend\":{\"title\":{\"text\":\"color\"},\"tracegroupgap\":0},\"template\":{\"data\":{\"bar\":[{\"error_x\":{\"color\":\"#2a3f5f\"},\"error_y\":{\"color\":\"#2a3f5f\"},\"marker\":{\"line\":{\"color\":\"#E5ECF6\",\"width\":0.5},\"pattern\":{\"fillmode\":\"overlay\",\"size\":10,\"solidity\":0.2}},\"type\":\"bar\"}],\"barpolar\":[{\"marker\":{\"line\":{\"color\":\"#E5ECF6\",\"width\":0.5},\"pattern\":{\"fillmode\":\"overlay\",\"size\":10,\"solidity\":0.2}},\"type\":\"barpolar\"}],\"carpet\":[{\"aaxis\":{\"endlinecolor\":\"#2a3f5f\",\"gridcolor\":\"white\",\"linecolor\":\"white\",\"minorgridcolor\":\"white\",\"startlinecolor\":\"#2a3f5f\"},\"baxis\":{\"endlinecolor\":\"#2a3f5f\",\"gridcolor\":\"white\",\"linecolor\":\"white\",\"minorgridcolor\":\"white\",\"startlinecolor\":\"#2a3f5f\"},\"type\":\"carpet\"}],\"choropleth\":[{\"colorbar\":{\"outlinewidth\":0,\"ticks\":\"\"},\"type\":\"choropleth\"}],\"contour\":[{\"colorbar\":{\"outlinewidth\":0,\"ticks\":\"\"},\"colorscale\":[[0.0,\"#0d0887\"],[0.1111111111111111,\"#46039f\"],[0.2222222222222222,\"#7201a8\"],[0.3333333333333333,\"#9c179e\"],[0.4444444444444444,\"#bd3786\"],[0.5555555555555556,\"#d8576b\"],[0.6666666666666666,\"#ed7953\"],[0.7777777777777778,\"#fb9f3a\"],[0.8888888888888888,\"#fdca26\"],[1.0,\"#f0f921\"]],\"type\":\"contour\"}],\"contourcarpet\":[{\"colorbar\":{\"outlinewidth\":0,\"ticks\":\"\"},\"type\":\"contourcarpet\"}],\"heatmap\":[{\"colorbar\":{\"outlinewidth\":0,\"ticks\":\"\"},\"colorscale\":[[0.0,\"#0d0887\"],[0.1111111111111111,\"#46039f\"],[0.2222222222222222,\"#7201a8\"],[0.3333333333333333,\"#9c179e\"],[0.4444444444444444,\"#bd3786\"],[0.5555555555555556,\"#d8576b\"],[0.6666666666666666,\"#ed7953\"],[0.7777777777777778,\"#fb9f3a\"],[0.8888888888888888,\"#fdca26\"],[1.0,\"#f0f921\"]],\"type\":\"heatmap\"}],\"heatmapgl\":[{\"colorbar\":{\"outlinewidth\":0,\"ticks\":\"\"},\"colorscale\":[[0.0,\"#0d0887\"],[0.1111111111111111,\"#46039f\"],[0.2222222222222222,\"#7201a8\"],[0.3333333333333333,\"#9c179e\"],[0.4444444444444444,\"#bd3786\"],[0.5555555555555556,\"#d8576b\"],[0.6666666666666666,\"#ed7953\"],[0.7777777777777778,\"#fb9f3a\"],[0.8888888888888888,\"#fdca26\"],[1.0,\"#f0f921\"]],\"type\":\"heatmapgl\"}],\"histogram\":[{\"marker\":{\"pattern\":{\"fillmode\":\"overlay\",\"size\":10,\"solidity\":0.2}},\"type\":\"histogram\"}],\"histogram2d\":[{\"colorbar\":{\"outlinewidth\":0,\"ticks\":\"\"},\"colorscale\":[[0.0,\"#0d0887\"],[0.1111111111111111,\"#46039f\"],[0.2222222222222222,\"#7201a8\"],[0.3333333333333333,\"#9c179e\"],[0.4444444444444444,\"#bd3786\"],[0.5555555555555556,\"#d8576b\"],[0.6666666666666666,\"#ed7953\"],[0.7777777777777778,\"#fb9f3a\"],[0.8888888888888888,\"#fdca26\"],[1.0,\"#f0f921\"]],\"type\":\"histogram2d\"}],\"histogram2dcontour\":[{\"colorbar\":{\"outlinewidth\":0,\"ticks\":\"\"},\"colorscale\":[[0.0,\"#0d0887\"],[0.1111111111111111,\"#46039f\"],[0.2222222222222222,\"#7201a8\"],[0.3333333333333333,\"#9c179e\"],[0.4444444444444444,\"#bd3786\"],[0.5555555555555556,\"#d8576b\"],[0.6666666666666666,\"#ed7953\"],[0.7777777777777778,\"#fb9f3a\"],[0.8888888888888888,\"#fdca26\"],[1.0,\"#f0f921\"]],\"type\":\"histogram2dcontour\"}],\"mesh3d\":[{\"colorbar\":{\"outlinewidth\":0,\"ticks\":\"\"},\"type\":\"mesh3d\"}],\"parcoords\":[{\"line\":{\"colorbar\":{\"outlinewidth\":0,\"ticks\":\"\"}},\"type\":\"parcoords\"}],\"pie\":[{\"automargin\":true,\"type\":\"pie\"}],\"scatter\":[{\"marker\":{\"colorbar\":{\"outlinewidth\":0,\"ticks\":\"\"}},\"type\":\"scatter\"}],\"scatter3d\":[{\"line\":{\"colorbar\":{\"outlinewidth\":0,\"ticks\":\"\"}},\"marker\":{\"colorbar\":{\"outlinewidth\":0,\"ticks\":\"\"}},\"type\":\"scatter3d\"}],\"scattercarpet\":[{\"marker\":{\"colorbar\":{\"outlinewidth\":0,\"ticks\":\"\"}},\"type\":\"scattercarpet\"}],\"scattergeo\":[{\"marker\":{\"colorbar\":{\"outlinewidth\":0,\"ticks\":\"\"}},\"type\":\"scattergeo\"}],\"scattergl\":[{\"marker\":{\"colorbar\":{\"outlinewidth\":0,\"ticks\":\"\"}},\"type\":\"scattergl\"}],\"scattermapbox\":[{\"marker\":{\"colorbar\":{\"outlinewidth\":0,\"ticks\":\"\"}},\"type\":\"scattermapbox\"}],\"scatterpolar\":[{\"marker\":{\"colorbar\":{\"outlinewidth\":0,\"ticks\":\"\"}},\"type\":\"scatterpolar\"}],\"scatterpolargl\":[{\"marker\":{\"colorbar\":{\"outlinewidth\":0,\"ticks\":\"\"}},\"type\":\"scatterpolargl\"}],\"scatterternary\":[{\"marker\":{\"colorbar\":{\"outlinewidth\":0,\"ticks\":\"\"}},\"type\":\"scatterternary\"}],\"surface\":[{\"colorbar\":{\"outlinewidth\":0,\"ticks\":\"\"},\"colorscale\":[[0.0,\"#0d0887\"],[0.1111111111111111,\"#46039f\"],[0.2222222222222222,\"#7201a8\"],[0.3333333333333333,\"#9c179e\"],[0.4444444444444444,\"#bd3786\"],[0.5555555555555556,\"#d8576b\"],[0.6666666666666666,\"#ed7953\"],[0.7777777777777778,\"#fb9f3a\"],[0.8888888888888888,\"#fdca26\"],[1.0,\"#f0f921\"]],\"type\":\"surface\"}],\"table\":[{\"cells\":{\"fill\":{\"color\":\"#EBF0F8\"},\"line\":{\"color\":\"white\"}},\"header\":{\"fill\":{\"color\":\"#C8D4E3\"},\"line\":{\"color\":\"white\"}},\"type\":\"table\"}]},\"layout\":{\"annotationdefaults\":{\"arrowcolor\":\"#2a3f5f\",\"arrowhead\":0,\"arrowwidth\":1},\"autotypenumbers\":\"strict\",\"coloraxis\":{\"colorbar\":{\"outlinewidth\":0,\"ticks\":\"\"}},\"colorscale\":{\"diverging\":[[0,\"#8e0152\"],[0.1,\"#c51b7d\"],[0.2,\"#de77ae\"],[0.3,\"#f1b6da\"],[0.4,\"#fde0ef\"],[0.5,\"#f7f7f7\"],[0.6,\"#e6f5d0\"],[0.7,\"#b8e186\"],[0.8,\"#7fbc41\"],[0.9,\"#4d9221\"],[1,\"#276419\"]],\"sequential\":[[0.0,\"#0d0887\"],[0.1111111111111111,\"#46039f\"],[0.2222222222222222,\"#7201a8\"],[0.3333333333333333,\"#9c179e\"],[0.4444444444444444,\"#bd3786\"],[0.5555555555555556,\"#d8576b\"],[0.6666666666666666,\"#ed7953\"],[0.7777777777777778,\"#fb9f3a\"],[0.8888888888888888,\"#fdca26\"],[1.0,\"#f0f921\"]],\"sequentialminus\":[[0.0,\"#0d0887\"],[0.1111111111111111,\"#46039f\"],[0.2222222222222222,\"#7201a8\"],[0.3333333333333333,\"#9c179e\"],[0.4444444444444444,\"#bd3786\"],[0.5555555555555556,\"#d8576b\"],[0.6666666666666666,\"#ed7953\"],[0.7777777777777778,\"#fb9f3a\"],[0.8888888888888888,\"#fdca26\"],[1.0,\"#f0f921\"]]},\"colorway\":[\"#636efa\",\"#EF553B\",\"#00cc96\",\"#ab63fa\",\"#FFA15A\",\"#19d3f3\",\"#FF6692\",\"#B6E880\",\"#FF97FF\",\"#FECB52\"],\"font\":{\"color\":\"#2a3f5f\"},\"geo\":{\"bgcolor\":\"white\",\"lakecolor\":\"white\",\"landcolor\":\"#E5ECF6\",\"showlakes\":true,\"showland\":true,\"subunitcolor\":\"white\"},\"hoverlabel\":{\"align\":\"left\"},\"hovermode\":\"closest\",\"mapbox\":{\"style\":\"light\"},\"paper_bgcolor\":\"white\",\"plot_bgcolor\":\"#E5ECF6\",\"polar\":{\"angularaxis\":{\"gridcolor\":\"white\",\"linecolor\":\"white\",\"ticks\":\"\"},\"bgcolor\":\"#E5ECF6\",\"radialaxis\":{\"gridcolor\":\"white\",\"linecolor\":\"white\",\"ticks\":\"\"}},\"scene\":{\"xaxis\":{\"backgroundcolor\":\"#E5ECF6\",\"gridcolor\":\"white\",\"gridwidth\":2,\"linecolor\":\"white\",\"showbackground\":true,\"ticks\":\"\",\"zerolinecolor\":\"white\"},\"yaxis\":{\"backgroundcolor\":\"#E5ECF6\",\"gridcolor\":\"white\",\"gridwidth\":2,\"linecolor\":\"white\",\"showbackground\":true,\"ticks\":\"\",\"zerolinecolor\":\"white\"},\"zaxis\":{\"backgroundcolor\":\"#E5ECF6\",\"gridcolor\":\"white\",\"gridwidth\":2,\"linecolor\":\"white\",\"showbackground\":true,\"ticks\":\"\",\"zerolinecolor\":\"white\"}},\"shapedefaults\":{\"line\":{\"color\":\"#2a3f5f\"}},\"ternary\":{\"aaxis\":{\"gridcolor\":\"white\",\"linecolor\":\"white\",\"ticks\":\"\"},\"baxis\":{\"gridcolor\":\"white\",\"linecolor\":\"white\",\"ticks\":\"\"},\"bgcolor\":\"#E5ECF6\",\"caxis\":{\"gridcolor\":\"white\",\"linecolor\":\"white\",\"ticks\":\"\"}},\"title\":{\"x\":0.05},\"xaxis\":{\"automargin\":true,\"gridcolor\":\"white\",\"linecolor\":\"white\",\"ticks\":\"\",\"title\":{\"standoff\":15},\"zerolinecolor\":\"white\",\"zerolinewidth\":2},\"yaxis\":{\"automargin\":true,\"gridcolor\":\"white\",\"linecolor\":\"white\",\"ticks\":\"\",\"title\":{\"standoff\":15},\"zerolinecolor\":\"white\",\"zerolinewidth\":2}}},\"title\":{\"text\":\"GMV-potential logarithms relation by medals\"},\"xaxis\":{\"anchor\":\"y\",\"domain\":[0.0,1.0],\"title\":{\"text\":\"Potential\"}},\"yaxis\":{\"anchor\":\"x\",\"domain\":[0.0,1.0],\"title\":{\"text\":\"Stores GMV\"}}},                        {\"responsive\": true}                    ).then(function(){\n",
       "                            \n",
       "var gd = document.getElementById('5816c039-051e-4cf5-bfdc-c1213ad1895d');\n",
       "var x = new MutationObserver(function (mutations, observer) {{\n",
       "        var display = window.getComputedStyle(gd).display;\n",
       "        if (!display || display === 'none') {{\n",
       "            console.log([gd, 'removed!']);\n",
       "            Plotly.purge(gd);\n",
       "            observer.disconnect();\n",
       "        }}\n",
       "}});\n",
       "\n",
       "// Listen for the removal of the full notebook cells\n",
       "var notebookContainer = gd.closest('#notebook-container');\n",
       "if (notebookContainer) {{\n",
       "    x.observe(notebookContainer, {childList: true});\n",
       "}}\n",
       "\n",
       "// Listen for the clearing of the current output cell\n",
       "var outputEl = gd.closest('.output');\n",
       "if (outputEl) {{\n",
       "    x.observe(outputEl, {childList: true});\n",
       "}}\n",
       "\n",
       "                        })                };                });            </script>        </div>"
      ]
     },
     "metadata": {},
     "output_type": "display_data"
    },
    {
     "data": {
      "application/vnd.plotly.v1+json": {
       "config": {
        "plotlyServerURL": "https://plot.ly"
       },
       "data": [
        {
         "hovertemplate": "color=BRONSE<br>Potential=%{x}<br>Stores GMV per workday=%{y}<extra></extra>",
         "legendgroup": "BRONSE",
         "marker": {
          "color": "#CD853F",
          "symbol": "circle"
         },
         "mode": "markers",
         "name": "BRONSE",
         "orientation": "v",
         "showlegend": true,
         "type": "scatter",
         "x": [
          2.182178808,
          1.741892401,
          1.42118212,
          0.955523742,
          2.978094506,
          1.522364559,
          0.002964173,
          0.016224495,
          2.812569389,
          4.969212529,
          1.542845084,
          0.003037129,
          0.719573775,
          3.316010367,
          0.275376185,
          0.000108469,
          0.119072403,
          3.647380316,
          4.377490869,
          2.837815696,
          0.097460658,
          4.752853507,
          0.566846498,
          1.018147541,
          0.704882461,
          6.027716435,
          0.143362967,
          0.541941314,
          2.060745948,
          2.715526901,
          0.91519482,
          0.044731163,
          0.56491833,
          0.887527353,
          2.329508411,
          0.036570808,
          1.185764252,
          4.50135744,
          3.110041938,
          0.015700872,
          0.975205879,
          0.862265851,
          0.534976727,
          3.126445394,
          0.034662277,
          0.785497777,
          0.021400027,
          1.389519364,
          3.025668935,
          1.107191811,
          3.26926162,
          6.723896944,
          0.26378782,
          2.890588741,
          0.018358359,
          2.182614584,
          1.942250883,
          0.018291871,
          0.060813604,
          2.271097726,
          0.560760779,
          3.820095977,
          5.165789391,
          4.428661544,
          1.379665539,
          3.862485896,
          0.811899285,
          2.135400508,
          0,
          1.036520452,
          5.484030757,
          0.378366532,
          2.318746621,
          6.605155,
          0.961508332,
          2.220566725,
          2.328528144,
          2.966441417,
          2.811276437,
          4.600547259,
          0.083441054,
          3.771517846,
          0.912751587,
          3.449436426,
          5.728353684,
          0.860608326,
          0.066740022,
          1.250695759,
          0.387443268,
          4.957578393,
          3.315175272,
          0.384419754,
          0.000623696,
          0.89718138,
          2.897205362,
          4.867957562,
          1.669145293,
          0.097804786,
          1.073488449,
          2.595858139,
          0.113689011,
          2.982460935,
          0.321588583,
          0.494486152,
          2.23700552,
          0.562994248,
          2.970465835,
          0.47320483,
          6.389606821,
          2.764961128,
          3.135155388,
          4.219537606,
          3.129680392,
          0.008379222,
          0.165999381,
          0.039258022,
          2.26371504,
          5.67594509,
          3.393356538,
          2.405423086,
          3.031536208,
          1.384774417,
          1.901573284,
          10.55442573,
          1.954031238,
          2.874114456,
          0.471420425,
          4.638898053,
          0,
          3.981996389,
          3.857813882,
          3.857813882,
          4.385517611,
          0.428716886,
          0.29353576,
          1.776658203,
          3.418315387,
          3.25850794,
          1.3667412,
          2.979009102,
          1.616720551,
          2.4214938,
          0.332580702,
          3.902777308,
          1.447218799,
          2.337931875,
          0.008260428,
          2.279565027,
          0.002142261,
          0.102425038,
          0.548264681,
          0.085335969,
          1.636210735,
          2.953235389,
          0.900219041,
          3.862037116,
          4.169570152,
          2.634679409,
          1.0862438,
          0.00683354,
          0.031892463,
          4.315060853,
          5.891941144,
          0.68159204,
          2.04378345,
          2.121889738,
          3.005158327,
          0.026574878,
          5.571148074,
          0.547904836,
          1.303767986,
          4.262214586,
          2.908313672,
          0.011153574,
          3.113745912,
          7.275924111,
          1.967256078,
          2.456651426,
          0.836136188,
          6.4388318,
          1.025904759
         ],
         "xaxis": "x",
         "y": [
          168.95833333333334,
          149.8830409356725,
          292.4516129032258,
          368.8483870967742,
          4256.326388888889,
          1111.4897959183672,
          1127.4,
          148.27586206896552,
          13357.223684210527,
          1030.3469387755101,
          326.2105263157895,
          389.8070175438597,
          316.3157894736842,
          387.82456140350877,
          1477.142857142857,
          176.05741626794259,
          1554.9234449760766,
          364.80357142857144,
          1050.605882352941,
          567.4823529411765,
          1929.089552238806,
          300.00763358778624,
          922.5267175572519,
          3.2432432432432434,
          2235.277777777778,
          1358.5714285714287,
          79,
          168.95833333333334,
          493.55357142857144,
          1282.9913043478261,
          1263.5483870967741,
          300.7892561983471,
          40.70247933884298,
          468.0851063829787,
          1961.0076923076922,
          341.16326530612247,
          186.77551020408163,
          236.23529411764707,
          921.9117647058823,
          775.6309523809524,
          146.40983606557376,
          106.63385826771653,
          77.06666666666666,
          1516,
          1507.388888888889,
          467.26241134751774,
          49.9290780141844,
          2560.9850746268658,
          672.5,
          434.4852941176471,
          534.5588235294117,
          303.6909871244635,
          3871.3733905579397,
          558.3625730994152,
          41.16959064327485,
          374.17721518987344,
          959.0384615384615,
          102.4,
          78.25454545454545,
          128.21363636363637,
          4271.191011235955,
          2180,
          1840,
          1815.6,
          2909.5714285714284,
          6023.555555555556,
          1985.3623188405797,
          1253.875,
          1630.2266666666667,
          1766.25,
          1872.3636363636363,
          472.94117647058823,
          1810.9705882352941,
          5837.792207792208,
          765.8333333333334,
          1360.8833333333334,
          1574.5492957746478,
          3384.2702702702704,
          580,
          3388.012195121951,
          896.6666666666666,
          1019.6296296296297,
          1111.6666666666667,
          521.3068783068783,
          373.2645502645503,
          72.84,
          739.3112582781457,
          1098.5483870967741,
          1665.8695652173913,
          1735.7692307692307,
          387.9642857142857,
          202.6218487394958,
          990.6451612903226,
          570.4928229665072,
          116.76923076923077,
          760.8461538461538,
          1610.9803921568628,
          76.7625,
          1270.55,
          730.3488372093024,
          112.79310344827586,
          440.83141762452107,
          1099.4904214559388,
          1265.4098360655737,
          988.8181818181819,
          2054.192546583851,
          23.727272727272727,
          2498.6181818181817,
          441.7142857142857,
          3115.4032258064517,
          8182.895348837209,
          4597.530120481928,
          5189.422222222222,
          2272.5714285714284,
          2294.5714285714284,
          3717.25641025641,
          1071.7142857142858,
          2163.9583333333335,
          1698.5,
          851.0526315789474,
          460,
          2653.5897435897436,
          1128.1,
          2382.652777777778,
          962.0833333333334,
          2570.0581395348836,
          1753.9285714285713,
          985.0652173913044,
          2278.075,
          820.8333333333334,
          163.96226415094338,
          1472.8301886792453,
          1432.695652173913,
          5009.5526315789475,
          1071.1818181818182,
          1449.3148148148148,
          4479.759036144578,
          1697.8947368421052,
          1695.6060606060605,
          1027.7215189873418,
          2437.4864864864867,
          966.6666666666666,
          2606.6666666666665,
          1419.8108108108108,
          5657.611111111111,
          5011.594202898551,
          1005.8461538461538,
          1185.5714285714287,
          917.4776119402985,
          1214.6341463414635,
          1526.111111111111,
          721.7,
          1340.6875,
          1550.4285714285713,
          4173.313253012048,
          2075.9848484848485,
          1089.4827586206898,
          904.375,
          1738.7083333333333,
          1185.909090909091,
          1311.4864864864865,
          1807.1014492753623,
          3150.1408450704225,
          5221.666666666667,
          1004.7058823529412,
          1526.2093023255813,
          2004.404761904762,
          946.9148936170212,
          1149.3125,
          1205.5,
          3228.4375,
          1715.8695652173913,
          2836.847222222222,
          333.90909090909093,
          1991.9642857142858,
          1304.3333333333333,
          2339.4827586206898,
          3879.7471264367814,
          1502.75,
          580.7692307692307,
          3125
         ],
         "yaxis": "y"
        },
        {
         "hovertemplate": "color=SILVER<br>Potential=%{x}<br>Stores GMV per workday=%{y}<extra></extra>",
         "legendgroup": "SILVER",
         "marker": {
          "color": "#C0C0C0",
          "symbol": "circle"
         },
         "mode": "markers",
         "name": "SILVER",
         "orientation": "v",
         "showlegend": true,
         "type": "scatter",
         "x": [
          10.06634971,
          12.45967895,
          14.32042458,
          6.27736511,
          3.950540141,
          27.34444814,
          12.68142746,
          6.461042005,
          11.2748239,
          11.34623794,
          17.86091141,
          12.31039412,
          19.9488141,
          10.23557576,
          23.20872723,
          22.22817452,
          22.22817452,
          9.322836129,
          11.12901473,
          21.66112491,
          10.21394932,
          13.19657261,
          32.58052513,
          3.473158431,
          24.67361051,
          28.93479888,
          13.95050297,
          1.440340304,
          5.110114371,
          7.875257082,
          23.74051905,
          1.356382809,
          10.11371318,
          5.119040433,
          6.120759731,
          18.12805313,
          15.40449798,
          4.713237909,
          5.212259236,
          12.89200876,
          4.894491513,
          24.86352863,
          9.167271587,
          8.715405399,
          12.42471977,
          9.328587517,
          9.328587517,
          6.921407609,
          0.59801747,
          9.955476379,
          5.904294984,
          10.04096772,
          17.12574197,
          12.26899214,
          15.60857687,
          15.24344931,
          7.765289033,
          4.905286127,
          6.646168523,
          9.17006892,
          13.97612401,
          3.370171032,
          9.481072659,
          16.82298917,
          5.397493726,
          15.68094928,
          26.98334145,
          2.694624592,
          8.166578965,
          13.02688387,
          0,
          11.15153254,
          10.59978272,
          9.439117779,
          9.8765299,
          7.292191537,
          11.71059175,
          80.88107723,
          11.11131699,
          17.35434668,
          14.78260309,
          13.07789458,
          6.312586521,
          4.076170298,
          8.838840493,
          8.350254923,
          5.613896849,
          3.822604003,
          8.334930858,
          21.35475706,
          12.26069604,
          17.24055265,
          13.40684735,
          12.46367846,
          15.55987418,
          26.30337756,
          7.8900498,
          27.3481743,
          4.576230791,
          16.24673119,
          30.65869715,
          33.68502058,
          8.472913146,
          0,
          14.62001013,
          16.21312652,
          7.272875494,
          2.950240751,
          16.2914701,
          13.55756781,
          8.580324686,
          16.15394286,
          14.28314773,
          17.47697171,
          12.05712172,
          48.92944601,
          5.593052231,
          21.05751312,
          7.203979141,
          13.42788055,
          10.53199212,
          8.258124977,
          0,
          8.669592914,
          10.04096772,
          23.68823152,
          4.511223973,
          3.967632443,
          11.09961302,
          9.26793997,
          6.240937815,
          10.51341444,
          26.60281063,
          12.00715887,
          3.456460517,
          9.471495397,
          9.147339467,
          15.24795707,
          6.835812714,
          4.318008135,
          8.320447734,
          7.32469202,
          13.02464553,
          30.93774264,
          16.60027064,
          4.361424739,
          4.793475143,
          11.939875,
          28.81107412,
          2.589492567,
          12.7917665,
          14.47804384,
          23.25631717,
          19.45206357,
          6.61441812,
          20.32594538,
          5.376314836,
          6.60853167,
          17.39196112,
          4.996835248,
          21.04208996,
          3.409705644,
          13.14754676,
          9.227637507,
          6.875913785,
          6.167096565,
          4.735307728,
          17.6786591,
          19.92051314,
          4.614559242,
          16.99140139,
          15.50646212,
          9.551472207,
          11.87084334,
          7.317732162
         ],
         "xaxis": "x",
         "y": [
          1096.5104166666667,
          3446.5753424657532,
          676.7857142857143,
          380.6608187134503,
          1458.169590643275,
          765.0903225806452,
          200.30322580645162,
          450.1923076923077,
          447.3053892215569,
          245.83333333333334,
          1506.974358974359,
          700.4423076923077,
          192.91666666666666,
          295.7931034482759,
          210.7448559670782,
          66.2880658436214,
          1033.1975308641975,
          781.2222222222222,
          1286,
          57.96650717703349,
          294.1880341880342,
          142.6030534351145,
          561.5709459459459,
          399.56756756756755,
          559.4512820512821,
          1104.2767857142858,
          264.03846153846155,
          780.1923076923077,
          42.6198347107438,
          1370.685950413223,
          132.36180904522612,
          323.5427135678392,
          186.20603015075378,
          93.12765957446808,
          1582.076923076923,
          1882.1224489795918,
          595,
          540.1190476190476,
          1453.7704918032787,
          245.69672131147541,
          2261.8,
          2630.200743494424,
          41.55018587360595,
          261.7730496453901,
          136.17021276595744,
          1021.672131147541,
          529.5901639344262,
          422.9850746268657,
          197.81115879828326,
          225.1931330472103,
          49.73684210526316,
          233.84795321637426,
          920.0848056537102,
          674.7526501766785,
          492.42402826855124,
          1910.4177215189873,
          5.955696202531645,
          73.79746835443038,
          1176.0064102564102,
          317.5,
          449.65,
          1119.6415094339623,
          1059.9056603773586,
          187.02439024390245,
          351.77927927927925,
          1378.918918918919,
          248.71428571428572,
          402.92957746478874,
          527.9225352112676,
          598.1818181818181,
          582.8571428571429,
          2167.703703703704,
          4324.329411764706,
          1040.5882352941176,
          4078.5287356321837,
          963.3333333333334,
          784,
          2716.6666666666665,
          907.5185185185185,
          1752.677966101695,
          2237.0232558139537,
          3695.245901639344,
          1077.5,
          845.1162790697674,
          2523.9024390243903,
          5019.9,
          771,
          644.2857142857143,
          1082.2222222222222,
          1310.7916666666667,
          1214.0853658536585,
          615.4074074074074,
          983.9807692307693,
          841.2,
          242.32142857142858,
          3027.2,
          2333.2727272727275,
          3817.2093023255816,
          465.3837209302326,
          552.578947368421,
          711.3461538461538,
          1350.8878504672898,
          303.17699115044246,
          401.83870967741933,
          1113.76,
          515.8133971291866,
          1330.5502392344497,
          1403.4522821576763,
          2197.9842931937173,
          70.8625,
          736.6162790697674,
          560.4918032786885,
          1635.2105263157894,
          1289.8196721311476,
          15.245901639344263,
          255.0235294117647,
          929.4470588235295,
          1192.162162162162,
          1235.5555555555557,
          1229.5121951219512,
          2224.3478260869565,
          1202.8947368421052,
          802,
          480.48387096774195,
          486.44444444444446,
          512.8,
          2092.9137931034484,
          2591.828125,
          1827.0945945945946,
          1848.8461538461538,
          2503.75,
          1268.7368421052631,
          1808.1460674157304,
          1276.8863636363637,
          1387.4736842105262,
          2139.6052631578946,
          1270,
          547.4333333333333,
          889.4736842105264,
          5709.756097560976,
          1279.6875,
          2407.230769230769,
          1025.4794520547946,
          2150.375,
          1004.0625,
          2232.8947368421054,
          2650.2625,
          837.9090909090909,
          1120.7037037037037,
          1443.9166666666667,
          7392.864197530864,
          2941.7073170731705,
          1575.0845070422536,
          1430.1898734177216,
          768.5714285714286,
          540.0555555555555,
          5496.453488372093,
          4980.431818181818,
          658.8333333333334,
          4304.287356321839,
          3000.12,
          4218.983050847458,
          1505.5434782608695,
          2742.809523809524,
          1971.935064935065,
          235,
          1469.6,
          3606.5555555555557,
          952.8,
          960.6666666666666,
          340.6,
          10772.932432432432,
          2275.061728395062,
          2156.6666666666665,
          864.4827586206897
         ],
         "yaxis": "y"
        },
        {
         "hovertemplate": "color=GOLD<br>Potential=%{x}<br>Stores GMV per workday=%{y}<extra></extra>",
         "legendgroup": "GOLD",
         "marker": {
          "color": "#FFD700",
          "symbol": "circle"
         },
         "mode": "markers",
         "name": "GOLD",
         "orientation": "v",
         "showlegend": true,
         "type": "scatter",
         "x": [
          76.79700802,
          13.38369918,
          42.59591215,
          13.86256134,
          18.52459334,
          45.5684672,
          16.08684534,
          15.2045597,
          13.00767216,
          27.04755435,
          39.35764504,
          14.96693377,
          23.8304816,
          52.35454062,
          14.21008648,
          21.67308631,
          44.31404039,
          40.85041387,
          24.91056926,
          47.81571694,
          24.43102722,
          28.09699805,
          33.00317644,
          23.29861993,
          36.09187939,
          26.50945192,
          20.44954074,
          16.75017097,
          12.65625742,
          5.96759691,
          7.964344776,
          26.17174933,
          23.09950326,
          36.53066382,
          19.18437005,
          27.42837668,
          33.81656955,
          33.81656955,
          112.8315253,
          22.55650813,
          23.40154931,
          33.00014331,
          21.58876309,
          30.63033802,
          21.47542066,
          46.94965064,
          36.58304031,
          11.55000881,
          24.13584707,
          26.72281306,
          17.55437719,
          6.046003806,
          39.09771798,
          32.38082171,
          33.90871639,
          41.80322274,
          77.05181837,
          51.33593219,
          30.07710933,
          59.14683494,
          109.5778847,
          26.46976392,
          47.74201527,
          18.98179381,
          106.072037,
          8.228188827,
          28.59222287,
          26.96965765,
          35.9303913,
          70.08347161,
          103.4770775,
          154.5742612,
          23.82700332,
          27.8616188,
          15.32028014,
          105.8348017,
          44.94312261,
          9.349166696,
          51.17882308,
          42.27442751,
          43.34641435,
          8.366250171,
          56.9528444,
          22.7414421,
          22.63436819,
          27.15037873,
          27.15037873,
          29.55717646,
          49.40324083,
          59.00805504,
          40.97442591,
          25.26452216,
          38.91769934,
          30.83364218,
          25.70553633,
          52.04148028,
          84.3090645,
          15.32510542,
          15.60490165,
          60.40054271,
          207.5020114,
          71.07864753,
          33.80983807,
          5.045750437,
          8.43163779,
          92.96823921,
          95.36526144,
          13.73497424,
          124.5518071,
          46.50968551,
          18.58830873,
          28.33734274,
          56.39889498,
          66.45627138,
          45.9542342,
          41.27924432,
          6.226586875,
          204.1697243,
          42.40937996,
          42.16327747,
          22.15831809,
          65.01346134,
          5.877710278,
          82.85634261,
          52.33720968,
          56.05342622,
          13.90353204,
          185.2824914,
          25.08775048,
          43.27052365,
          33.21386387,
          12.62823455,
          22.45790283,
          30.41197331,
          52.05652094,
          38.15648494,
          33.9003023,
          40.44339905,
          36.74511948,
          49.91316102,
          29.8524641,
          20.32580044,
          20.43043392,
          27.58571517,
          86.20087696,
          40.46353491,
          27.43969305,
          0,
          146.2139468,
          35.18533624,
          32.55161087,
          60.17742614,
          15.57386946,
          49.52100866,
          25.8795361,
          25.8795361,
          18.86327109,
          18.86327109,
          22.13918429,
          23.82113559,
          38.88906198,
          30.79898926,
          94.13367294,
          22.58522133,
          26.32633896,
          22.23229688,
          38.94841586,
          13.74895499,
          10.78019482,
          41.06049984,
          45.14676382,
          24.01381953,
          30.48856602,
          17.15389054,
          24.57349807,
          25.44886003,
          13.36740204,
          13.36740204,
          41.47054352,
          15.21761176,
          53.27726283,
          13.94968241,
          8.952645836,
          0.037340415,
          33.15214549,
          15.48060291,
          30.11192365,
          33.67743781,
          19.63207935,
          49.92759864,
          8.50203782,
          16.63077245,
          354.8595031,
          75.19600045,
          20.02600364,
          21.12915661,
          35.69451351,
          22.22052519,
          28.12347092,
          24.43414776,
          18.8764065,
          35.49013313,
          10.78401629,
          25.57789669,
          17.30065545,
          31.72220895,
          15.86974389
         ],
         "xaxis": "x",
         "y": [
          922.78125,
          100.24657534246575,
          2923.271186440678,
          1585,
          540.5645161290323,
          9880.461538461539,
          1046.9820359281437,
          169.95808383233532,
          976.9444444444445,
          57.88194444444444,
          3150.714285714286,
          907.797619047619,
          440.6547619047619,
          600.0142857142857,
          5720.761316872428,
          411.4782608695652,
          5010.106060606061,
          4321.148325358851,
          319.67857142857144,
          1071.0857142857142,
          350.4035714285714,
          176.4,
          5080.854700854701,
          616.8513513513514,
          1561.5202702702702,
          43.37162162162162,
          75.80952380952381,
          1596.3846153846155,
          1080.46875,
          315.0173913043478,
          1296.3703703703704,
          853.6818181818181,
          763.7437185929648,
          4569.257425742574,
          38.38095238095238,
          134.96062992125985,
          1314.6732283464567,
          1919.9015748031495,
          3541.524163568773,
          597.1152416356878,
          207.06611570247935,
          2741.115702479339,
          1016.5433070866142,
          3434.550561797753,
          258.45390070921985,
          1885.377358490566,
          630.9606299212599,
          716.6929133858267,
          10319.197368421053,
          640.5223880597015,
          98.9098712446352,
          228.6140350877193,
          105.58303886925795,
          483.0769230769231,
          4791.346153846154,
          7050.703030303031,
          3416.4470588235295,
          2073.2911392405063,
          348.4875,
          1381.1463414634147,
          1692.2882882882882,
          545.3703703703703,
          1269.1901408450703,
          345.0954545454546,
          734.6136363636364,
          280.75,
          3819,
          2876.768292682927,
          1595.4,
          958.625,
          2067.837837837838,
          6940.191011235955,
          1603.875,
          483.47058823529414,
          1480.3030303030303,
          945.1935483870968,
          4158.551020408163,
          2082,
          2218.7096774193546,
          575.6785714285714,
          4970.058823529412,
          1247.509090909091,
          4015,
          3681.791044776119,
          4258.730337078651,
          6052.527472527472,
          6162.120879120879,
          9448.757575757576,
          4080.7954545454545,
          1523,
          5368.247191011236,
          1185.642857142857,
          3266.894117647059,
          1427.0333333333333,
          1597,
          9909.111111111111,
          7235.4655172413795,
          1741.1046511627908,
          2323.2622950819673,
          1866.6666666666667,
          3315.6363636363635,
          1765.3255813953488,
          4119.833333333333,
          1109.2,
          1373.3,
          5477.102564102564,
          1181.9411764705883,
          2320.548780487805,
          17484.183098591548,
          2649.688888888889,
          2796.6375,
          1375.42,
          2609.811320754717,
          985.3125,
          511.29411764705884,
          1836.015625,
          1020.0625,
          8921.413333333334,
          929.8076923076923,
          638.3255813953489,
          1571.5483870967741,
          12203.533333333333,
          807.6111111111111,
          1200.1875,
          13032.783783783783,
          520,
          1052.2,
          1172.3235294117646,
          470.35714285714283,
          362.6084656084656,
          206.74603174603175,
          982.7321428571429,
          453.05555555555554,
          177.99107142857142,
          4106.848214285715,
          4869.759036144578,
          154.8546511627907,
          195.63025210084032,
          526.1764705882352,
          1364.3691588785048,
          420.63084112149534,
          960.4159292035398,
          613.1078838174274,
          660,
          1899.2848484848485,
          1929.422619047619,
          1340,
          337.282722513089,
          1437.3076923076924,
          466.3333333333333,
          1706.4367816091954,
          2168.509316770186,
          484.84761904761905,
          6200.238095238095,
          447.1666666666667,
          450.34090909090907,
          995.0763358778626,
          1249.0381679389313,
          2422.25,
          635.2857142857143,
          1935.5121951219512,
          2460.1641791044776,
          5431.206349206349,
          1407.2,
          5226.533333333334,
          2140.1071428571427,
          759.625,
          2004.2777777777778,
          2012.5625,
          5414.630952380952,
          4045.5675675675675,
          461.3636363636364,
          2283.9358974358975,
          3900.845070422535,
          686.25,
          13344.122222222222,
          3646.198757763975,
          825.8819875776397,
          866.483870967742,
          811.5121951219512,
          9351.752808988764,
          1315.3125,
          2337.4307692307693,
          7090.940476190476,
          1798.0588235294117,
          2074.5151515151515,
          2136.808510638298,
          1714.6470588235295,
          11741.761904761905,
          1846.076923076923,
          929.1428571428571,
          2970.681818181818,
          7414.346666666666,
          1495.9302325581396,
          1448.1666666666667,
          220.5,
          3518.4269662921347,
          743.6481481481482,
          1506.1153846153845,
          9897.192771084337,
          20513.055555555555,
          1503.2857142857142,
          1572.9866666666667,
          3077.6506024096384,
          1579.952380952381,
          3656.0555555555557,
          1839.3086419753085
         ],
         "yaxis": "y"
        },
        {
         "hovertemplate": "color=NO MEDAL<br>Potential=%{x}<br>Stores GMV per workday=%{y}<extra></extra>",
         "legendgroup": "NO MEDAL",
         "marker": {
          "color": "#FF4500",
          "symbol": "circle"
         },
         "mode": "markers",
         "name": "NO MEDAL",
         "orientation": "v",
         "showlegend": true,
         "type": "scatter",
         "x": [
          0,
          0,
          0,
          0,
          0,
          0,
          0,
          0,
          0,
          0,
          0,
          0,
          0,
          0,
          0,
          0,
          0,
          0,
          0,
          0,
          0,
          0,
          0,
          0,
          0,
          0,
          0,
          0,
          0,
          0,
          0,
          0,
          0,
          0,
          0,
          0,
          0,
          0,
          0,
          0,
          0,
          0,
          0,
          0,
          0,
          0,
          0,
          0,
          0,
          0,
          0,
          0,
          0,
          0,
          0,
          0,
          0,
          0,
          0,
          0,
          0,
          0,
          0,
          0,
          0
         ],
         "xaxis": "x",
         "y": [
          117.85964912280701,
          8.653846153846153,
          27.868263473053894,
          410.7185628742515,
          188.10699588477365,
          16.46938775510204,
          302.037037037037,
          196.95652173913044,
          619.7391304347826,
          15.801526717557252,
          115.88717948717948,
          120.89423076923077,
          238.58064516129033,
          347.5531914893617,
          225.79207920792078,
          1060.6889763779527,
          625.5196850393701,
          186.79746835443038,
          2058.721212121212,
          2035.7142857142858,
          1397.2413793103449,
          509.8,
          212.5,
          1137.1764705882354,
          1039.1304347826087,
          450.5882352941176,
          699.7019867549669,
          82.25165562913908,
          534.4107142857143,
          719.7939393939394,
          158.0104712041885,
          872,
          1652.6262626262626,
          842.7272727272727,
          1135.82,
          489.5652173913044,
          900,
          1298.4615384615386,
          2892.802197802198,
          635.3846153846154,
          2227.0149253731342,
          1084.4444444444443,
          670,
          752.3636363636364,
          3837.9358974358975,
          567.8125,
          885.609756097561,
          631.1111111111111,
          3460.157894736842,
          952.3584905660377,
          936.7272727272727,
          6243.131868131868,
          841.875,
          776.8518518518518,
          999.5238095238095,
          3178.876712328767,
          442.5,
          1582.3076923076924,
          3020.277777777778,
          842.2727272727273,
          710.7826086956521,
          909.2142857142857,
          2260.487804878049,
          561,
          1445.486111111111
         ],
         "yaxis": "y"
        }
       ],
       "layout": {
        "legend": {
         "title": {
          "text": "color"
         },
         "tracegroupgap": 0
        },
        "template": {
         "data": {
          "bar": [
           {
            "error_x": {
             "color": "#2a3f5f"
            },
            "error_y": {
             "color": "#2a3f5f"
            },
            "marker": {
             "line": {
              "color": "#E5ECF6",
              "width": 0.5
             },
             "pattern": {
              "fillmode": "overlay",
              "size": 10,
              "solidity": 0.2
             }
            },
            "type": "bar"
           }
          ],
          "barpolar": [
           {
            "marker": {
             "line": {
              "color": "#E5ECF6",
              "width": 0.5
             },
             "pattern": {
              "fillmode": "overlay",
              "size": 10,
              "solidity": 0.2
             }
            },
            "type": "barpolar"
           }
          ],
          "carpet": [
           {
            "aaxis": {
             "endlinecolor": "#2a3f5f",
             "gridcolor": "white",
             "linecolor": "white",
             "minorgridcolor": "white",
             "startlinecolor": "#2a3f5f"
            },
            "baxis": {
             "endlinecolor": "#2a3f5f",
             "gridcolor": "white",
             "linecolor": "white",
             "minorgridcolor": "white",
             "startlinecolor": "#2a3f5f"
            },
            "type": "carpet"
           }
          ],
          "choropleth": [
           {
            "colorbar": {
             "outlinewidth": 0,
             "ticks": ""
            },
            "type": "choropleth"
           }
          ],
          "contour": [
           {
            "colorbar": {
             "outlinewidth": 0,
             "ticks": ""
            },
            "colorscale": [
             [
              0,
              "#0d0887"
             ],
             [
              0.1111111111111111,
              "#46039f"
             ],
             [
              0.2222222222222222,
              "#7201a8"
             ],
             [
              0.3333333333333333,
              "#9c179e"
             ],
             [
              0.4444444444444444,
              "#bd3786"
             ],
             [
              0.5555555555555556,
              "#d8576b"
             ],
             [
              0.6666666666666666,
              "#ed7953"
             ],
             [
              0.7777777777777778,
              "#fb9f3a"
             ],
             [
              0.8888888888888888,
              "#fdca26"
             ],
             [
              1,
              "#f0f921"
             ]
            ],
            "type": "contour"
           }
          ],
          "contourcarpet": [
           {
            "colorbar": {
             "outlinewidth": 0,
             "ticks": ""
            },
            "type": "contourcarpet"
           }
          ],
          "heatmap": [
           {
            "colorbar": {
             "outlinewidth": 0,
             "ticks": ""
            },
            "colorscale": [
             [
              0,
              "#0d0887"
             ],
             [
              0.1111111111111111,
              "#46039f"
             ],
             [
              0.2222222222222222,
              "#7201a8"
             ],
             [
              0.3333333333333333,
              "#9c179e"
             ],
             [
              0.4444444444444444,
              "#bd3786"
             ],
             [
              0.5555555555555556,
              "#d8576b"
             ],
             [
              0.6666666666666666,
              "#ed7953"
             ],
             [
              0.7777777777777778,
              "#fb9f3a"
             ],
             [
              0.8888888888888888,
              "#fdca26"
             ],
             [
              1,
              "#f0f921"
             ]
            ],
            "type": "heatmap"
           }
          ],
          "heatmapgl": [
           {
            "colorbar": {
             "outlinewidth": 0,
             "ticks": ""
            },
            "colorscale": [
             [
              0,
              "#0d0887"
             ],
             [
              0.1111111111111111,
              "#46039f"
             ],
             [
              0.2222222222222222,
              "#7201a8"
             ],
             [
              0.3333333333333333,
              "#9c179e"
             ],
             [
              0.4444444444444444,
              "#bd3786"
             ],
             [
              0.5555555555555556,
              "#d8576b"
             ],
             [
              0.6666666666666666,
              "#ed7953"
             ],
             [
              0.7777777777777778,
              "#fb9f3a"
             ],
             [
              0.8888888888888888,
              "#fdca26"
             ],
             [
              1,
              "#f0f921"
             ]
            ],
            "type": "heatmapgl"
           }
          ],
          "histogram": [
           {
            "marker": {
             "pattern": {
              "fillmode": "overlay",
              "size": 10,
              "solidity": 0.2
             }
            },
            "type": "histogram"
           }
          ],
          "histogram2d": [
           {
            "colorbar": {
             "outlinewidth": 0,
             "ticks": ""
            },
            "colorscale": [
             [
              0,
              "#0d0887"
             ],
             [
              0.1111111111111111,
              "#46039f"
             ],
             [
              0.2222222222222222,
              "#7201a8"
             ],
             [
              0.3333333333333333,
              "#9c179e"
             ],
             [
              0.4444444444444444,
              "#bd3786"
             ],
             [
              0.5555555555555556,
              "#d8576b"
             ],
             [
              0.6666666666666666,
              "#ed7953"
             ],
             [
              0.7777777777777778,
              "#fb9f3a"
             ],
             [
              0.8888888888888888,
              "#fdca26"
             ],
             [
              1,
              "#f0f921"
             ]
            ],
            "type": "histogram2d"
           }
          ],
          "histogram2dcontour": [
           {
            "colorbar": {
             "outlinewidth": 0,
             "ticks": ""
            },
            "colorscale": [
             [
              0,
              "#0d0887"
             ],
             [
              0.1111111111111111,
              "#46039f"
             ],
             [
              0.2222222222222222,
              "#7201a8"
             ],
             [
              0.3333333333333333,
              "#9c179e"
             ],
             [
              0.4444444444444444,
              "#bd3786"
             ],
             [
              0.5555555555555556,
              "#d8576b"
             ],
             [
              0.6666666666666666,
              "#ed7953"
             ],
             [
              0.7777777777777778,
              "#fb9f3a"
             ],
             [
              0.8888888888888888,
              "#fdca26"
             ],
             [
              1,
              "#f0f921"
             ]
            ],
            "type": "histogram2dcontour"
           }
          ],
          "mesh3d": [
           {
            "colorbar": {
             "outlinewidth": 0,
             "ticks": ""
            },
            "type": "mesh3d"
           }
          ],
          "parcoords": [
           {
            "line": {
             "colorbar": {
              "outlinewidth": 0,
              "ticks": ""
             }
            },
            "type": "parcoords"
           }
          ],
          "pie": [
           {
            "automargin": true,
            "type": "pie"
           }
          ],
          "scatter": [
           {
            "marker": {
             "colorbar": {
              "outlinewidth": 0,
              "ticks": ""
             }
            },
            "type": "scatter"
           }
          ],
          "scatter3d": [
           {
            "line": {
             "colorbar": {
              "outlinewidth": 0,
              "ticks": ""
             }
            },
            "marker": {
             "colorbar": {
              "outlinewidth": 0,
              "ticks": ""
             }
            },
            "type": "scatter3d"
           }
          ],
          "scattercarpet": [
           {
            "marker": {
             "colorbar": {
              "outlinewidth": 0,
              "ticks": ""
             }
            },
            "type": "scattercarpet"
           }
          ],
          "scattergeo": [
           {
            "marker": {
             "colorbar": {
              "outlinewidth": 0,
              "ticks": ""
             }
            },
            "type": "scattergeo"
           }
          ],
          "scattergl": [
           {
            "marker": {
             "colorbar": {
              "outlinewidth": 0,
              "ticks": ""
             }
            },
            "type": "scattergl"
           }
          ],
          "scattermapbox": [
           {
            "marker": {
             "colorbar": {
              "outlinewidth": 0,
              "ticks": ""
             }
            },
            "type": "scattermapbox"
           }
          ],
          "scatterpolar": [
           {
            "marker": {
             "colorbar": {
              "outlinewidth": 0,
              "ticks": ""
             }
            },
            "type": "scatterpolar"
           }
          ],
          "scatterpolargl": [
           {
            "marker": {
             "colorbar": {
              "outlinewidth": 0,
              "ticks": ""
             }
            },
            "type": "scatterpolargl"
           }
          ],
          "scatterternary": [
           {
            "marker": {
             "colorbar": {
              "outlinewidth": 0,
              "ticks": ""
             }
            },
            "type": "scatterternary"
           }
          ],
          "surface": [
           {
            "colorbar": {
             "outlinewidth": 0,
             "ticks": ""
            },
            "colorscale": [
             [
              0,
              "#0d0887"
             ],
             [
              0.1111111111111111,
              "#46039f"
             ],
             [
              0.2222222222222222,
              "#7201a8"
             ],
             [
              0.3333333333333333,
              "#9c179e"
             ],
             [
              0.4444444444444444,
              "#bd3786"
             ],
             [
              0.5555555555555556,
              "#d8576b"
             ],
             [
              0.6666666666666666,
              "#ed7953"
             ],
             [
              0.7777777777777778,
              "#fb9f3a"
             ],
             [
              0.8888888888888888,
              "#fdca26"
             ],
             [
              1,
              "#f0f921"
             ]
            ],
            "type": "surface"
           }
          ],
          "table": [
           {
            "cells": {
             "fill": {
              "color": "#EBF0F8"
             },
             "line": {
              "color": "white"
             }
            },
            "header": {
             "fill": {
              "color": "#C8D4E3"
             },
             "line": {
              "color": "white"
             }
            },
            "type": "table"
           }
          ]
         },
         "layout": {
          "annotationdefaults": {
           "arrowcolor": "#2a3f5f",
           "arrowhead": 0,
           "arrowwidth": 1
          },
          "autotypenumbers": "strict",
          "coloraxis": {
           "colorbar": {
            "outlinewidth": 0,
            "ticks": ""
           }
          },
          "colorscale": {
           "diverging": [
            [
             0,
             "#8e0152"
            ],
            [
             0.1,
             "#c51b7d"
            ],
            [
             0.2,
             "#de77ae"
            ],
            [
             0.3,
             "#f1b6da"
            ],
            [
             0.4,
             "#fde0ef"
            ],
            [
             0.5,
             "#f7f7f7"
            ],
            [
             0.6,
             "#e6f5d0"
            ],
            [
             0.7,
             "#b8e186"
            ],
            [
             0.8,
             "#7fbc41"
            ],
            [
             0.9,
             "#4d9221"
            ],
            [
             1,
             "#276419"
            ]
           ],
           "sequential": [
            [
             0,
             "#0d0887"
            ],
            [
             0.1111111111111111,
             "#46039f"
            ],
            [
             0.2222222222222222,
             "#7201a8"
            ],
            [
             0.3333333333333333,
             "#9c179e"
            ],
            [
             0.4444444444444444,
             "#bd3786"
            ],
            [
             0.5555555555555556,
             "#d8576b"
            ],
            [
             0.6666666666666666,
             "#ed7953"
            ],
            [
             0.7777777777777778,
             "#fb9f3a"
            ],
            [
             0.8888888888888888,
             "#fdca26"
            ],
            [
             1,
             "#f0f921"
            ]
           ],
           "sequentialminus": [
            [
             0,
             "#0d0887"
            ],
            [
             0.1111111111111111,
             "#46039f"
            ],
            [
             0.2222222222222222,
             "#7201a8"
            ],
            [
             0.3333333333333333,
             "#9c179e"
            ],
            [
             0.4444444444444444,
             "#bd3786"
            ],
            [
             0.5555555555555556,
             "#d8576b"
            ],
            [
             0.6666666666666666,
             "#ed7953"
            ],
            [
             0.7777777777777778,
             "#fb9f3a"
            ],
            [
             0.8888888888888888,
             "#fdca26"
            ],
            [
             1,
             "#f0f921"
            ]
           ]
          },
          "colorway": [
           "#636efa",
           "#EF553B",
           "#00cc96",
           "#ab63fa",
           "#FFA15A",
           "#19d3f3",
           "#FF6692",
           "#B6E880",
           "#FF97FF",
           "#FECB52"
          ],
          "font": {
           "color": "#2a3f5f"
          },
          "geo": {
           "bgcolor": "white",
           "lakecolor": "white",
           "landcolor": "#E5ECF6",
           "showlakes": true,
           "showland": true,
           "subunitcolor": "white"
          },
          "hoverlabel": {
           "align": "left"
          },
          "hovermode": "closest",
          "mapbox": {
           "style": "light"
          },
          "paper_bgcolor": "white",
          "plot_bgcolor": "#E5ECF6",
          "polar": {
           "angularaxis": {
            "gridcolor": "white",
            "linecolor": "white",
            "ticks": ""
           },
           "bgcolor": "#E5ECF6",
           "radialaxis": {
            "gridcolor": "white",
            "linecolor": "white",
            "ticks": ""
           }
          },
          "scene": {
           "xaxis": {
            "backgroundcolor": "#E5ECF6",
            "gridcolor": "white",
            "gridwidth": 2,
            "linecolor": "white",
            "showbackground": true,
            "ticks": "",
            "zerolinecolor": "white"
           },
           "yaxis": {
            "backgroundcolor": "#E5ECF6",
            "gridcolor": "white",
            "gridwidth": 2,
            "linecolor": "white",
            "showbackground": true,
            "ticks": "",
            "zerolinecolor": "white"
           },
           "zaxis": {
            "backgroundcolor": "#E5ECF6",
            "gridcolor": "white",
            "gridwidth": 2,
            "linecolor": "white",
            "showbackground": true,
            "ticks": "",
            "zerolinecolor": "white"
           }
          },
          "shapedefaults": {
           "line": {
            "color": "#2a3f5f"
           }
          },
          "ternary": {
           "aaxis": {
            "gridcolor": "white",
            "linecolor": "white",
            "ticks": ""
           },
           "baxis": {
            "gridcolor": "white",
            "linecolor": "white",
            "ticks": ""
           },
           "bgcolor": "#E5ECF6",
           "caxis": {
            "gridcolor": "white",
            "linecolor": "white",
            "ticks": ""
           }
          },
          "title": {
           "x": 0.05
          },
          "xaxis": {
           "automargin": true,
           "gridcolor": "white",
           "linecolor": "white",
           "ticks": "",
           "title": {
            "standoff": 15
           },
           "zerolinecolor": "white",
           "zerolinewidth": 2
          },
          "yaxis": {
           "automargin": true,
           "gridcolor": "white",
           "linecolor": "white",
           "ticks": "",
           "title": {
            "standoff": 15
           },
           "zerolinecolor": "white",
           "zerolinewidth": 2
          }
         }
        },
        "title": {
         "text": "GMV-orders relation by medals"
        },
        "xaxis": {
         "anchor": "y",
         "domain": [
          0,
          1
         ],
         "title": {
          "text": "Potential"
         }
        },
        "yaxis": {
         "anchor": "x",
         "domain": [
          0,
          1
         ],
         "title": {
          "text": "Stores GMV per workday"
         }
        }
       }
      },
      "text/html": [
       "<div>                            <div id=\"71749208-6022-4a56-9e03-86e9fb200d0a\" class=\"plotly-graph-div\" style=\"height:525px; width:100%;\"></div>            <script type=\"text/javascript\">                require([\"plotly\"], function(Plotly) {                    window.PLOTLYENV=window.PLOTLYENV || {};                                    if (document.getElementById(\"71749208-6022-4a56-9e03-86e9fb200d0a\")) {                    Plotly.newPlot(                        \"71749208-6022-4a56-9e03-86e9fb200d0a\",                        [{\"hovertemplate\":\"color=BRONSE<br>Potential=%{x}<br>Stores GMV per workday=%{y}<extra></extra>\",\"legendgroup\":\"BRONSE\",\"marker\":{\"color\":\"#CD853F\",\"symbol\":\"circle\"},\"mode\":\"markers\",\"name\":\"BRONSE\",\"orientation\":\"v\",\"showlegend\":true,\"type\":\"scatter\",\"x\":[2.182178808,1.741892401,1.42118212,0.955523742,2.978094506,1.522364559,0.002964173,0.016224495,2.812569389,4.969212529,1.542845084,0.003037129,0.719573775,3.316010367,0.275376185,0.000108469,0.119072403,3.647380316,4.377490869,2.837815696,0.097460658,4.752853507,0.566846498,1.018147541,0.704882461,6.027716435,0.143362967,0.541941314,2.060745948,2.715526901,0.91519482,0.044731163,0.56491833,0.887527353,2.329508411,0.036570808,1.185764252,4.50135744,3.110041938,0.015700872,0.975205879,0.862265851,0.534976727,3.126445394,0.034662277,0.785497777,0.021400027,1.389519364,3.025668935,1.107191811,3.26926162,6.723896944,0.26378782,2.890588741,0.018358359,2.182614584,1.942250883,0.018291871,0.060813604,2.271097726,0.560760779,3.820095977,5.165789391,4.428661544,1.379665539,3.862485896,0.811899285,2.135400508,0.0,1.036520452,5.484030757,0.378366532,2.318746621,6.605155,0.961508332,2.220566725,2.328528144,2.966441417,2.811276437,4.600547259,0.083441054,3.771517846,0.912751587,3.449436426,5.728353684,0.860608326,0.066740022,1.250695759,0.387443268,4.957578393,3.315175272,0.384419754,0.000623696,0.89718138,2.897205362,4.867957562,1.669145293,0.097804786,1.073488449,2.595858139,0.113689011,2.982460935,0.321588583,0.494486152,2.23700552,0.562994248,2.970465835,0.47320483,6.389606821,2.764961128,3.135155388,4.219537606,3.129680392,0.008379222,0.165999381,0.039258022,2.26371504,5.67594509,3.393356538,2.405423086,3.031536208,1.384774417,1.901573284,10.55442573,1.954031238,2.874114456,0.471420425,4.638898053,0.0,3.981996389,3.857813882,3.857813882,4.385517611,0.428716886,0.29353576,1.776658203,3.418315387,3.25850794,1.3667412,2.979009102,1.616720551,2.4214938,0.332580702,3.902777308,1.447218799,2.337931875,0.008260428,2.279565027,0.002142261,0.102425038,0.548264681,0.085335969,1.636210735,2.953235389,0.900219041,3.862037116,4.169570152,2.634679409,1.0862438,0.00683354,0.031892463,4.315060853,5.891941144,0.68159204,2.04378345,2.121889738,3.005158327,0.026574878,5.571148074,0.547904836,1.303767986,4.262214586,2.908313672,0.011153574,3.113745912,7.275924111,1.967256078,2.456651426,0.836136188,6.4388318,1.025904759],\"xaxis\":\"x\",\"y\":[168.95833333333334,149.8830409356725,292.4516129032258,368.8483870967742,4256.326388888889,1111.4897959183672,1127.4,148.27586206896552,13357.223684210527,1030.3469387755101,326.2105263157895,389.8070175438597,316.3157894736842,387.82456140350877,1477.142857142857,176.05741626794259,1554.9234449760766,364.80357142857144,1050.605882352941,567.4823529411765,1929.089552238806,300.00763358778624,922.5267175572519,3.2432432432432434,2235.277777777778,1358.5714285714287,79.0,168.95833333333334,493.55357142857144,1282.9913043478261,1263.5483870967741,300.7892561983471,40.70247933884298,468.0851063829787,1961.0076923076922,341.16326530612247,186.77551020408163,236.23529411764707,921.9117647058823,775.6309523809524,146.40983606557376,106.63385826771653,77.06666666666666,1516.0,1507.388888888889,467.26241134751774,49.9290780141844,2560.9850746268658,672.5,434.4852941176471,534.5588235294117,303.6909871244635,3871.3733905579397,558.3625730994152,41.16959064327485,374.17721518987344,959.0384615384615,102.4,78.25454545454545,128.21363636363637,4271.191011235955,2180.0,1840.0,1815.6,2909.5714285714284,6023.555555555556,1985.3623188405797,1253.875,1630.2266666666667,1766.25,1872.3636363636363,472.94117647058823,1810.9705882352941,5837.792207792208,765.8333333333334,1360.8833333333334,1574.5492957746478,3384.2702702702704,580.0,3388.012195121951,896.6666666666666,1019.6296296296297,1111.6666666666667,521.3068783068783,373.2645502645503,72.84,739.3112582781457,1098.5483870967741,1665.8695652173913,1735.7692307692307,387.9642857142857,202.6218487394958,990.6451612903226,570.4928229665072,116.76923076923077,760.8461538461538,1610.9803921568628,76.7625,1270.55,730.3488372093024,112.79310344827586,440.83141762452107,1099.4904214559388,1265.4098360655737,988.8181818181819,2054.192546583851,23.727272727272727,2498.6181818181817,441.7142857142857,3115.4032258064517,8182.895348837209,4597.530120481928,5189.422222222222,2272.5714285714284,2294.5714285714284,3717.25641025641,1071.7142857142858,2163.9583333333335,1698.5,851.0526315789474,460.0,2653.5897435897436,1128.1,2382.652777777778,962.0833333333334,2570.0581395348836,1753.9285714285713,985.0652173913044,2278.075,820.8333333333334,163.96226415094338,1472.8301886792453,1432.695652173913,5009.5526315789475,1071.1818181818182,1449.3148148148148,4479.759036144578,1697.8947368421052,1695.6060606060605,1027.7215189873418,2437.4864864864867,966.6666666666666,2606.6666666666665,1419.8108108108108,5657.611111111111,5011.594202898551,1005.8461538461538,1185.5714285714287,917.4776119402985,1214.6341463414635,1526.111111111111,721.7,1340.6875,1550.4285714285713,4173.313253012048,2075.9848484848485,1089.4827586206898,904.375,1738.7083333333333,1185.909090909091,1311.4864864864865,1807.1014492753623,3150.1408450704225,5221.666666666667,1004.7058823529412,1526.2093023255813,2004.404761904762,946.9148936170212,1149.3125,1205.5,3228.4375,1715.8695652173913,2836.847222222222,333.90909090909093,1991.9642857142858,1304.3333333333333,2339.4827586206898,3879.7471264367814,1502.75,580.7692307692307,3125.0],\"yaxis\":\"y\"},{\"hovertemplate\":\"color=SILVER<br>Potential=%{x}<br>Stores GMV per workday=%{y}<extra></extra>\",\"legendgroup\":\"SILVER\",\"marker\":{\"color\":\"#C0C0C0\",\"symbol\":\"circle\"},\"mode\":\"markers\",\"name\":\"SILVER\",\"orientation\":\"v\",\"showlegend\":true,\"type\":\"scatter\",\"x\":[10.06634971,12.45967895,14.32042458,6.27736511,3.950540141,27.34444814,12.68142746,6.461042005,11.2748239,11.34623794,17.86091141,12.31039412,19.9488141,10.23557576,23.20872723,22.22817452,22.22817452,9.322836129,11.12901473,21.66112491,10.21394932,13.19657261,32.58052513,3.473158431,24.67361051,28.93479888,13.95050297,1.440340304,5.110114371,7.875257082,23.74051905,1.356382809,10.11371318,5.119040433,6.120759731,18.12805313,15.40449798,4.713237909,5.212259236,12.89200876,4.894491513,24.86352863,9.167271587,8.715405399,12.42471977,9.328587517,9.328587517,6.921407609,0.59801747,9.955476379,5.904294984,10.04096772,17.12574197,12.26899214,15.60857687,15.24344931,7.765289033,4.905286127,6.646168523,9.17006892,13.97612401,3.370171032,9.481072659,16.82298917,5.397493726,15.68094928,26.98334145,2.694624592,8.166578965,13.02688387,0.0,11.15153254,10.59978272,9.439117779,9.8765299,7.292191537,11.71059175,80.88107723,11.11131699,17.35434668,14.78260309,13.07789458,6.312586521,4.076170298,8.838840493,8.350254923,5.613896849,3.822604003,8.334930858,21.35475706,12.26069604,17.24055265,13.40684735,12.46367846,15.55987418,26.30337756,7.8900498,27.3481743,4.576230791,16.24673119,30.65869715,33.68502058,8.472913146,0.0,14.62001013,16.21312652,7.272875494,2.950240751,16.2914701,13.55756781,8.580324686,16.15394286,14.28314773,17.47697171,12.05712172,48.92944601,5.593052231,21.05751312,7.203979141,13.42788055,10.53199212,8.258124977,0.0,8.669592914,10.04096772,23.68823152,4.511223973,3.967632443,11.09961302,9.26793997,6.240937815,10.51341444,26.60281063,12.00715887,3.456460517,9.471495397,9.147339467,15.24795707,6.835812714,4.318008135,8.320447734,7.32469202,13.02464553,30.93774264,16.60027064,4.361424739,4.793475143,11.939875,28.81107412,2.589492567,12.7917665,14.47804384,23.25631717,19.45206357,6.61441812,20.32594538,5.376314836,6.60853167,17.39196112,4.996835248,21.04208996,3.409705644,13.14754676,9.227637507,6.875913785,6.167096565,4.735307728,17.6786591,19.92051314,4.614559242,16.99140139,15.50646212,9.551472207,11.87084334,7.317732162],\"xaxis\":\"x\",\"y\":[1096.5104166666667,3446.5753424657532,676.7857142857143,380.6608187134503,1458.169590643275,765.0903225806452,200.30322580645162,450.1923076923077,447.3053892215569,245.83333333333334,1506.974358974359,700.4423076923077,192.91666666666666,295.7931034482759,210.7448559670782,66.2880658436214,1033.1975308641975,781.2222222222222,1286.0,57.96650717703349,294.1880341880342,142.6030534351145,561.5709459459459,399.56756756756755,559.4512820512821,1104.2767857142858,264.03846153846155,780.1923076923077,42.6198347107438,1370.685950413223,132.36180904522612,323.5427135678392,186.20603015075378,93.12765957446808,1582.076923076923,1882.1224489795918,595.0,540.1190476190476,1453.7704918032787,245.69672131147541,2261.8,2630.200743494424,41.55018587360595,261.7730496453901,136.17021276595744,1021.672131147541,529.5901639344262,422.9850746268657,197.81115879828326,225.1931330472103,49.73684210526316,233.84795321637426,920.0848056537102,674.7526501766785,492.42402826855124,1910.4177215189873,5.955696202531645,73.79746835443038,1176.0064102564102,317.5,449.65,1119.6415094339623,1059.9056603773586,187.02439024390245,351.77927927927925,1378.918918918919,248.71428571428572,402.92957746478874,527.9225352112676,598.1818181818181,582.8571428571429,2167.703703703704,4324.329411764706,1040.5882352941176,4078.5287356321837,963.3333333333334,784.0,2716.6666666666665,907.5185185185185,1752.677966101695,2237.0232558139537,3695.245901639344,1077.5,845.1162790697674,2523.9024390243903,5019.9,771.0,644.2857142857143,1082.2222222222222,1310.7916666666667,1214.0853658536585,615.4074074074074,983.9807692307693,841.2,242.32142857142858,3027.2,2333.2727272727275,3817.2093023255816,465.3837209302326,552.578947368421,711.3461538461538,1350.8878504672898,303.17699115044246,401.83870967741933,1113.76,515.8133971291866,1330.5502392344497,1403.4522821576763,2197.9842931937173,70.8625,736.6162790697674,560.4918032786885,1635.2105263157894,1289.8196721311476,15.245901639344263,255.0235294117647,929.4470588235295,1192.162162162162,1235.5555555555557,1229.5121951219512,2224.3478260869565,1202.8947368421052,802.0,480.48387096774195,486.44444444444446,512.8,2092.9137931034484,2591.828125,1827.0945945945946,1848.8461538461538,2503.75,1268.7368421052631,1808.1460674157304,1276.8863636363637,1387.4736842105262,2139.6052631578946,1270.0,547.4333333333333,889.4736842105264,5709.756097560976,1279.6875,2407.230769230769,1025.4794520547946,2150.375,1004.0625,2232.8947368421054,2650.2625,837.9090909090909,1120.7037037037037,1443.9166666666667,7392.864197530864,2941.7073170731705,1575.0845070422536,1430.1898734177216,768.5714285714286,540.0555555555555,5496.453488372093,4980.431818181818,658.8333333333334,4304.287356321839,3000.12,4218.983050847458,1505.5434782608695,2742.809523809524,1971.935064935065,235.0,1469.6,3606.5555555555557,952.8,960.6666666666666,340.6,10772.932432432432,2275.061728395062,2156.6666666666665,864.4827586206897],\"yaxis\":\"y\"},{\"hovertemplate\":\"color=GOLD<br>Potential=%{x}<br>Stores GMV per workday=%{y}<extra></extra>\",\"legendgroup\":\"GOLD\",\"marker\":{\"color\":\"#FFD700\",\"symbol\":\"circle\"},\"mode\":\"markers\",\"name\":\"GOLD\",\"orientation\":\"v\",\"showlegend\":true,\"type\":\"scatter\",\"x\":[76.79700802,13.38369918,42.59591215,13.86256134,18.52459334,45.5684672,16.08684534,15.2045597,13.00767216,27.04755435,39.35764504,14.96693377,23.8304816,52.35454062,14.21008648,21.67308631,44.31404039,40.85041387,24.91056926,47.81571694,24.43102722,28.09699805,33.00317644,23.29861993,36.09187939,26.50945192,20.44954074,16.75017097,12.65625742,5.96759691,7.964344776,26.17174933,23.09950326,36.53066382,19.18437005,27.42837668,33.81656955,33.81656955,112.8315253,22.55650813,23.40154931,33.00014331,21.58876309,30.63033802,21.47542066,46.94965064,36.58304031,11.55000881,24.13584707,26.72281306,17.55437719,6.046003806,39.09771798,32.38082171,33.90871639,41.80322274,77.05181837,51.33593219,30.07710933,59.14683494,109.5778847,26.46976392,47.74201527,18.98179381,106.072037,8.228188827,28.59222287,26.96965765,35.9303913,70.08347161,103.4770775,154.5742612,23.82700332,27.8616188,15.32028014,105.8348017,44.94312261,9.349166696,51.17882308,42.27442751,43.34641435,8.366250171,56.9528444,22.7414421,22.63436819,27.15037873,27.15037873,29.55717646,49.40324083,59.00805504,40.97442591,25.26452216,38.91769934,30.83364218,25.70553633,52.04148028,84.3090645,15.32510542,15.60490165,60.40054271,207.5020114,71.07864753,33.80983807,5.045750437,8.43163779,92.96823921,95.36526144,13.73497424,124.5518071,46.50968551,18.58830873,28.33734274,56.39889498,66.45627138,45.9542342,41.27924432,6.226586875,204.1697243,42.40937996,42.16327747,22.15831809,65.01346134,5.877710278,82.85634261,52.33720968,56.05342622,13.90353204,185.2824914,25.08775048,43.27052365,33.21386387,12.62823455,22.45790283,30.41197331,52.05652094,38.15648494,33.9003023,40.44339905,36.74511948,49.91316102,29.8524641,20.32580044,20.43043392,27.58571517,86.20087696,40.46353491,27.43969305,0.0,146.2139468,35.18533624,32.55161087,60.17742614,15.57386946,49.52100866,25.8795361,25.8795361,18.86327109,18.86327109,22.13918429,23.82113559,38.88906198,30.79898926,94.13367294,22.58522133,26.32633896,22.23229688,38.94841586,13.74895499,10.78019482,41.06049984,45.14676382,24.01381953,30.48856602,17.15389054,24.57349807,25.44886003,13.36740204,13.36740204,41.47054352,15.21761176,53.27726283,13.94968241,8.952645836,0.037340415,33.15214549,15.48060291,30.11192365,33.67743781,19.63207935,49.92759864,8.50203782,16.63077245,354.8595031,75.19600045,20.02600364,21.12915661,35.69451351,22.22052519,28.12347092,24.43414776,18.8764065,35.49013313,10.78401629,25.57789669,17.30065545,31.72220895,15.86974389],\"xaxis\":\"x\",\"y\":[922.78125,100.24657534246575,2923.271186440678,1585.0,540.5645161290323,9880.461538461539,1046.9820359281437,169.95808383233532,976.9444444444445,57.88194444444444,3150.714285714286,907.797619047619,440.6547619047619,600.0142857142857,5720.761316872428,411.4782608695652,5010.106060606061,4321.148325358851,319.67857142857144,1071.0857142857142,350.4035714285714,176.4,5080.854700854701,616.8513513513514,1561.5202702702702,43.37162162162162,75.80952380952381,1596.3846153846155,1080.46875,315.0173913043478,1296.3703703703704,853.6818181818181,763.7437185929648,4569.257425742574,38.38095238095238,134.96062992125985,1314.6732283464567,1919.9015748031495,3541.524163568773,597.1152416356878,207.06611570247935,2741.115702479339,1016.5433070866142,3434.550561797753,258.45390070921985,1885.377358490566,630.9606299212599,716.6929133858267,10319.197368421053,640.5223880597015,98.9098712446352,228.6140350877193,105.58303886925795,483.0769230769231,4791.346153846154,7050.703030303031,3416.4470588235295,2073.2911392405063,348.4875,1381.1463414634147,1692.2882882882882,545.3703703703703,1269.1901408450703,345.0954545454546,734.6136363636364,280.75,3819.0,2876.768292682927,1595.4,958.625,2067.837837837838,6940.191011235955,1603.875,483.47058823529414,1480.3030303030303,945.1935483870968,4158.551020408163,2082.0,2218.7096774193546,575.6785714285714,4970.058823529412,1247.509090909091,4015.0,3681.791044776119,4258.730337078651,6052.527472527472,6162.120879120879,9448.757575757576,4080.7954545454545,1523.0,5368.247191011236,1185.642857142857,3266.894117647059,1427.0333333333333,1597.0,9909.111111111111,7235.4655172413795,1741.1046511627908,2323.2622950819673,1866.6666666666667,3315.6363636363635,1765.3255813953488,4119.833333333333,1109.2,1373.3,5477.102564102564,1181.9411764705883,2320.548780487805,17484.183098591548,2649.688888888889,2796.6375,1375.42,2609.811320754717,985.3125,511.29411764705884,1836.015625,1020.0625,8921.413333333334,929.8076923076923,638.3255813953489,1571.5483870967741,12203.533333333333,807.6111111111111,1200.1875,13032.783783783783,520.0,1052.2,1172.3235294117646,470.35714285714283,362.6084656084656,206.74603174603175,982.7321428571429,453.05555555555554,177.99107142857142,4106.848214285715,4869.759036144578,154.8546511627907,195.63025210084032,526.1764705882352,1364.3691588785048,420.63084112149534,960.4159292035398,613.1078838174274,660.0,1899.2848484848485,1929.422619047619,1340.0,337.282722513089,1437.3076923076924,466.3333333333333,1706.4367816091954,2168.509316770186,484.84761904761905,6200.238095238095,447.1666666666667,450.34090909090907,995.0763358778626,1249.0381679389313,2422.25,635.2857142857143,1935.5121951219512,2460.1641791044776,5431.206349206349,1407.2,5226.533333333334,2140.1071428571427,759.625,2004.2777777777778,2012.5625,5414.630952380952,4045.5675675675675,461.3636363636364,2283.9358974358975,3900.845070422535,686.25,13344.122222222222,3646.198757763975,825.8819875776397,866.483870967742,811.5121951219512,9351.752808988764,1315.3125,2337.4307692307693,7090.940476190476,1798.0588235294117,2074.5151515151515,2136.808510638298,1714.6470588235295,11741.761904761905,1846.076923076923,929.1428571428571,2970.681818181818,7414.346666666666,1495.9302325581396,1448.1666666666667,220.5,3518.4269662921347,743.6481481481482,1506.1153846153845,9897.192771084337,20513.055555555555,1503.2857142857142,1572.9866666666667,3077.6506024096384,1579.952380952381,3656.0555555555557,1839.3086419753085],\"yaxis\":\"y\"},{\"hovertemplate\":\"color=NO MEDAL<br>Potential=%{x}<br>Stores GMV per workday=%{y}<extra></extra>\",\"legendgroup\":\"NO MEDAL\",\"marker\":{\"color\":\"#FF4500\",\"symbol\":\"circle\"},\"mode\":\"markers\",\"name\":\"NO MEDAL\",\"orientation\":\"v\",\"showlegend\":true,\"type\":\"scatter\",\"x\":[0.0,0.0,0.0,0.0,0.0,0.0,0.0,0.0,0.0,0.0,0.0,0.0,0.0,0.0,0.0,0.0,0.0,0.0,0.0,0.0,0.0,0.0,0.0,0.0,0.0,0.0,0.0,0.0,0.0,0.0,0.0,0.0,0.0,0.0,0.0,0.0,0.0,0.0,0.0,0.0,0.0,0.0,0.0,0.0,0.0,0.0,0.0,0.0,0.0,0.0,0.0,0.0,0.0,0.0,0.0,0.0,0.0,0.0,0.0,0.0,0.0,0.0,0.0,0.0,0.0],\"xaxis\":\"x\",\"y\":[117.85964912280701,8.653846153846153,27.868263473053894,410.7185628742515,188.10699588477365,16.46938775510204,302.037037037037,196.95652173913044,619.7391304347826,15.801526717557252,115.88717948717948,120.89423076923077,238.58064516129033,347.5531914893617,225.79207920792078,1060.6889763779527,625.5196850393701,186.79746835443038,2058.721212121212,2035.7142857142858,1397.2413793103449,509.8,212.5,1137.1764705882354,1039.1304347826087,450.5882352941176,699.7019867549669,82.25165562913908,534.4107142857143,719.7939393939394,158.0104712041885,872.0,1652.6262626262626,842.7272727272727,1135.82,489.5652173913044,900.0,1298.4615384615386,2892.802197802198,635.3846153846154,2227.0149253731342,1084.4444444444443,670.0,752.3636363636364,3837.9358974358975,567.8125,885.609756097561,631.1111111111111,3460.157894736842,952.3584905660377,936.7272727272727,6243.131868131868,841.875,776.8518518518518,999.5238095238095,3178.876712328767,442.5,1582.3076923076924,3020.277777777778,842.2727272727273,710.7826086956521,909.2142857142857,2260.487804878049,561.0,1445.486111111111],\"yaxis\":\"y\"}],                        {\"legend\":{\"title\":{\"text\":\"color\"},\"tracegroupgap\":0},\"template\":{\"data\":{\"bar\":[{\"error_x\":{\"color\":\"#2a3f5f\"},\"error_y\":{\"color\":\"#2a3f5f\"},\"marker\":{\"line\":{\"color\":\"#E5ECF6\",\"width\":0.5},\"pattern\":{\"fillmode\":\"overlay\",\"size\":10,\"solidity\":0.2}},\"type\":\"bar\"}],\"barpolar\":[{\"marker\":{\"line\":{\"color\":\"#E5ECF6\",\"width\":0.5},\"pattern\":{\"fillmode\":\"overlay\",\"size\":10,\"solidity\":0.2}},\"type\":\"barpolar\"}],\"carpet\":[{\"aaxis\":{\"endlinecolor\":\"#2a3f5f\",\"gridcolor\":\"white\",\"linecolor\":\"white\",\"minorgridcolor\":\"white\",\"startlinecolor\":\"#2a3f5f\"},\"baxis\":{\"endlinecolor\":\"#2a3f5f\",\"gridcolor\":\"white\",\"linecolor\":\"white\",\"minorgridcolor\":\"white\",\"startlinecolor\":\"#2a3f5f\"},\"type\":\"carpet\"}],\"choropleth\":[{\"colorbar\":{\"outlinewidth\":0,\"ticks\":\"\"},\"type\":\"choropleth\"}],\"contour\":[{\"colorbar\":{\"outlinewidth\":0,\"ticks\":\"\"},\"colorscale\":[[0.0,\"#0d0887\"],[0.1111111111111111,\"#46039f\"],[0.2222222222222222,\"#7201a8\"],[0.3333333333333333,\"#9c179e\"],[0.4444444444444444,\"#bd3786\"],[0.5555555555555556,\"#d8576b\"],[0.6666666666666666,\"#ed7953\"],[0.7777777777777778,\"#fb9f3a\"],[0.8888888888888888,\"#fdca26\"],[1.0,\"#f0f921\"]],\"type\":\"contour\"}],\"contourcarpet\":[{\"colorbar\":{\"outlinewidth\":0,\"ticks\":\"\"},\"type\":\"contourcarpet\"}],\"heatmap\":[{\"colorbar\":{\"outlinewidth\":0,\"ticks\":\"\"},\"colorscale\":[[0.0,\"#0d0887\"],[0.1111111111111111,\"#46039f\"],[0.2222222222222222,\"#7201a8\"],[0.3333333333333333,\"#9c179e\"],[0.4444444444444444,\"#bd3786\"],[0.5555555555555556,\"#d8576b\"],[0.6666666666666666,\"#ed7953\"],[0.7777777777777778,\"#fb9f3a\"],[0.8888888888888888,\"#fdca26\"],[1.0,\"#f0f921\"]],\"type\":\"heatmap\"}],\"heatmapgl\":[{\"colorbar\":{\"outlinewidth\":0,\"ticks\":\"\"},\"colorscale\":[[0.0,\"#0d0887\"],[0.1111111111111111,\"#46039f\"],[0.2222222222222222,\"#7201a8\"],[0.3333333333333333,\"#9c179e\"],[0.4444444444444444,\"#bd3786\"],[0.5555555555555556,\"#d8576b\"],[0.6666666666666666,\"#ed7953\"],[0.7777777777777778,\"#fb9f3a\"],[0.8888888888888888,\"#fdca26\"],[1.0,\"#f0f921\"]],\"type\":\"heatmapgl\"}],\"histogram\":[{\"marker\":{\"pattern\":{\"fillmode\":\"overlay\",\"size\":10,\"solidity\":0.2}},\"type\":\"histogram\"}],\"histogram2d\":[{\"colorbar\":{\"outlinewidth\":0,\"ticks\":\"\"},\"colorscale\":[[0.0,\"#0d0887\"],[0.1111111111111111,\"#46039f\"],[0.2222222222222222,\"#7201a8\"],[0.3333333333333333,\"#9c179e\"],[0.4444444444444444,\"#bd3786\"],[0.5555555555555556,\"#d8576b\"],[0.6666666666666666,\"#ed7953\"],[0.7777777777777778,\"#fb9f3a\"],[0.8888888888888888,\"#fdca26\"],[1.0,\"#f0f921\"]],\"type\":\"histogram2d\"}],\"histogram2dcontour\":[{\"colorbar\":{\"outlinewidth\":0,\"ticks\":\"\"},\"colorscale\":[[0.0,\"#0d0887\"],[0.1111111111111111,\"#46039f\"],[0.2222222222222222,\"#7201a8\"],[0.3333333333333333,\"#9c179e\"],[0.4444444444444444,\"#bd3786\"],[0.5555555555555556,\"#d8576b\"],[0.6666666666666666,\"#ed7953\"],[0.7777777777777778,\"#fb9f3a\"],[0.8888888888888888,\"#fdca26\"],[1.0,\"#f0f921\"]],\"type\":\"histogram2dcontour\"}],\"mesh3d\":[{\"colorbar\":{\"outlinewidth\":0,\"ticks\":\"\"},\"type\":\"mesh3d\"}],\"parcoords\":[{\"line\":{\"colorbar\":{\"outlinewidth\":0,\"ticks\":\"\"}},\"type\":\"parcoords\"}],\"pie\":[{\"automargin\":true,\"type\":\"pie\"}],\"scatter\":[{\"marker\":{\"colorbar\":{\"outlinewidth\":0,\"ticks\":\"\"}},\"type\":\"scatter\"}],\"scatter3d\":[{\"line\":{\"colorbar\":{\"outlinewidth\":0,\"ticks\":\"\"}},\"marker\":{\"colorbar\":{\"outlinewidth\":0,\"ticks\":\"\"}},\"type\":\"scatter3d\"}],\"scattercarpet\":[{\"marker\":{\"colorbar\":{\"outlinewidth\":0,\"ticks\":\"\"}},\"type\":\"scattercarpet\"}],\"scattergeo\":[{\"marker\":{\"colorbar\":{\"outlinewidth\":0,\"ticks\":\"\"}},\"type\":\"scattergeo\"}],\"scattergl\":[{\"marker\":{\"colorbar\":{\"outlinewidth\":0,\"ticks\":\"\"}},\"type\":\"scattergl\"}],\"scattermapbox\":[{\"marker\":{\"colorbar\":{\"outlinewidth\":0,\"ticks\":\"\"}},\"type\":\"scattermapbox\"}],\"scatterpolar\":[{\"marker\":{\"colorbar\":{\"outlinewidth\":0,\"ticks\":\"\"}},\"type\":\"scatterpolar\"}],\"scatterpolargl\":[{\"marker\":{\"colorbar\":{\"outlinewidth\":0,\"ticks\":\"\"}},\"type\":\"scatterpolargl\"}],\"scatterternary\":[{\"marker\":{\"colorbar\":{\"outlinewidth\":0,\"ticks\":\"\"}},\"type\":\"scatterternary\"}],\"surface\":[{\"colorbar\":{\"outlinewidth\":0,\"ticks\":\"\"},\"colorscale\":[[0.0,\"#0d0887\"],[0.1111111111111111,\"#46039f\"],[0.2222222222222222,\"#7201a8\"],[0.3333333333333333,\"#9c179e\"],[0.4444444444444444,\"#bd3786\"],[0.5555555555555556,\"#d8576b\"],[0.6666666666666666,\"#ed7953\"],[0.7777777777777778,\"#fb9f3a\"],[0.8888888888888888,\"#fdca26\"],[1.0,\"#f0f921\"]],\"type\":\"surface\"}],\"table\":[{\"cells\":{\"fill\":{\"color\":\"#EBF0F8\"},\"line\":{\"color\":\"white\"}},\"header\":{\"fill\":{\"color\":\"#C8D4E3\"},\"line\":{\"color\":\"white\"}},\"type\":\"table\"}]},\"layout\":{\"annotationdefaults\":{\"arrowcolor\":\"#2a3f5f\",\"arrowhead\":0,\"arrowwidth\":1},\"autotypenumbers\":\"strict\",\"coloraxis\":{\"colorbar\":{\"outlinewidth\":0,\"ticks\":\"\"}},\"colorscale\":{\"diverging\":[[0,\"#8e0152\"],[0.1,\"#c51b7d\"],[0.2,\"#de77ae\"],[0.3,\"#f1b6da\"],[0.4,\"#fde0ef\"],[0.5,\"#f7f7f7\"],[0.6,\"#e6f5d0\"],[0.7,\"#b8e186\"],[0.8,\"#7fbc41\"],[0.9,\"#4d9221\"],[1,\"#276419\"]],\"sequential\":[[0.0,\"#0d0887\"],[0.1111111111111111,\"#46039f\"],[0.2222222222222222,\"#7201a8\"],[0.3333333333333333,\"#9c179e\"],[0.4444444444444444,\"#bd3786\"],[0.5555555555555556,\"#d8576b\"],[0.6666666666666666,\"#ed7953\"],[0.7777777777777778,\"#fb9f3a\"],[0.8888888888888888,\"#fdca26\"],[1.0,\"#f0f921\"]],\"sequentialminus\":[[0.0,\"#0d0887\"],[0.1111111111111111,\"#46039f\"],[0.2222222222222222,\"#7201a8\"],[0.3333333333333333,\"#9c179e\"],[0.4444444444444444,\"#bd3786\"],[0.5555555555555556,\"#d8576b\"],[0.6666666666666666,\"#ed7953\"],[0.7777777777777778,\"#fb9f3a\"],[0.8888888888888888,\"#fdca26\"],[1.0,\"#f0f921\"]]},\"colorway\":[\"#636efa\",\"#EF553B\",\"#00cc96\",\"#ab63fa\",\"#FFA15A\",\"#19d3f3\",\"#FF6692\",\"#B6E880\",\"#FF97FF\",\"#FECB52\"],\"font\":{\"color\":\"#2a3f5f\"},\"geo\":{\"bgcolor\":\"white\",\"lakecolor\":\"white\",\"landcolor\":\"#E5ECF6\",\"showlakes\":true,\"showland\":true,\"subunitcolor\":\"white\"},\"hoverlabel\":{\"align\":\"left\"},\"hovermode\":\"closest\",\"mapbox\":{\"style\":\"light\"},\"paper_bgcolor\":\"white\",\"plot_bgcolor\":\"#E5ECF6\",\"polar\":{\"angularaxis\":{\"gridcolor\":\"white\",\"linecolor\":\"white\",\"ticks\":\"\"},\"bgcolor\":\"#E5ECF6\",\"radialaxis\":{\"gridcolor\":\"white\",\"linecolor\":\"white\",\"ticks\":\"\"}},\"scene\":{\"xaxis\":{\"backgroundcolor\":\"#E5ECF6\",\"gridcolor\":\"white\",\"gridwidth\":2,\"linecolor\":\"white\",\"showbackground\":true,\"ticks\":\"\",\"zerolinecolor\":\"white\"},\"yaxis\":{\"backgroundcolor\":\"#E5ECF6\",\"gridcolor\":\"white\",\"gridwidth\":2,\"linecolor\":\"white\",\"showbackground\":true,\"ticks\":\"\",\"zerolinecolor\":\"white\"},\"zaxis\":{\"backgroundcolor\":\"#E5ECF6\",\"gridcolor\":\"white\",\"gridwidth\":2,\"linecolor\":\"white\",\"showbackground\":true,\"ticks\":\"\",\"zerolinecolor\":\"white\"}},\"shapedefaults\":{\"line\":{\"color\":\"#2a3f5f\"}},\"ternary\":{\"aaxis\":{\"gridcolor\":\"white\",\"linecolor\":\"white\",\"ticks\":\"\"},\"baxis\":{\"gridcolor\":\"white\",\"linecolor\":\"white\",\"ticks\":\"\"},\"bgcolor\":\"#E5ECF6\",\"caxis\":{\"gridcolor\":\"white\",\"linecolor\":\"white\",\"ticks\":\"\"}},\"title\":{\"x\":0.05},\"xaxis\":{\"automargin\":true,\"gridcolor\":\"white\",\"linecolor\":\"white\",\"ticks\":\"\",\"title\":{\"standoff\":15},\"zerolinecolor\":\"white\",\"zerolinewidth\":2},\"yaxis\":{\"automargin\":true,\"gridcolor\":\"white\",\"linecolor\":\"white\",\"ticks\":\"\",\"title\":{\"standoff\":15},\"zerolinecolor\":\"white\",\"zerolinewidth\":2}}},\"title\":{\"text\":\"GMV-orders relation by medals\"},\"xaxis\":{\"anchor\":\"y\",\"domain\":[0.0,1.0],\"title\":{\"text\":\"Potential\"}},\"yaxis\":{\"anchor\":\"x\",\"domain\":[0.0,1.0],\"title\":{\"text\":\"Stores GMV per workday\"}}},                        {\"responsive\": true}                    ).then(function(){\n",
       "                            \n",
       "var gd = document.getElementById('71749208-6022-4a56-9e03-86e9fb200d0a');\n",
       "var x = new MutationObserver(function (mutations, observer) {{\n",
       "        var display = window.getComputedStyle(gd).display;\n",
       "        if (!display || display === 'none') {{\n",
       "            console.log([gd, 'removed!']);\n",
       "            Plotly.purge(gd);\n",
       "            observer.disconnect();\n",
       "        }}\n",
       "}});\n",
       "\n",
       "// Listen for the removal of the full notebook cells\n",
       "var notebookContainer = gd.closest('#notebook-container');\n",
       "if (notebookContainer) {{\n",
       "    x.observe(notebookContainer, {childList: true});\n",
       "}}\n",
       "\n",
       "// Listen for the clearing of the current output cell\n",
       "var outputEl = gd.closest('.output');\n",
       "if (outputEl) {{\n",
       "    x.observe(outputEl, {childList: true});\n",
       "}}\n",
       "\n",
       "                        })                };                });            </script>        </div>"
      ]
     },
     "metadata": {},
     "output_type": "display_data"
    }
   ],
   "source": [
    "n = 90\n",
    "df_sales_90 = agg_with_pot(df_sales, n)\n",
    "visual(df_sales_90)[0]"
   ]
  },
  {
   "cell_type": "markdown",
   "id": "b6487934",
   "metadata": {},
   "source": [
    "## Linear correlation "
   ]
  },
  {
   "cell_type": "markdown",
   "id": "4ba722cf",
   "metadata": {},
   "source": [
    "As we know such attribute as potential is a result of some linear regression related to GMV values. We're about to find some correlation between those attributes using Pearson correlation coefficient for daily GMV and GMV by 90 days in metric and logarithmic scale both."
   ]
  },
  {
   "cell_type": "code",
   "execution_count": 84,
   "id": "e27a2ba1",
   "metadata": {},
   "outputs": [],
   "source": [
    "def pierson_corr(df):\n",
    "    a = np.array(df['potential'])\n",
    "    b = np.array(df['orders_sum_per_store'])\n",
    "    \n",
    "    if (stats.pearsonr(a, b)[0] > 0.7 or stats.pearsonr(a, b)[0] < -0.7) :\n",
    "        st = \"Potetnial-GMV correlation. The result is strong relationship: \"\n",
    "    elif ((stats.pearsonr(a, b)[0] > 0.3 and stats.pearsonr(a, b)[0] < 0.7) or (stats.pearsonr(a, b)[0] > -0.7 and stats.pearsonr(a, b)[0] < -0.3)):\n",
    "        st = \"Potetnial-GMV correlation. The result is moderate relationship: \"\n",
    "    elif ((stats.pearsonr(a, b)[0] > 0.1 and stats.pearsonr(a, b)[0] < 0.3) or (stats.pearsonr(a, b)[0] > -0.3 and stats.pearsonr(a, b)[0] < -0.1)):\n",
    "        st = \"Potetnial-GMV correlation. The result is weak relationship: \"\n",
    "    else:\n",
    "        st = \"Potetnial-GMV correlation. The result is no relationship: \"\n",
    "    \n",
    "    df_not_zero = df.query('potential > 0')\n",
    "    \n",
    "    a_log = np.array(df_not_zero['potential'].apply(np.log))\n",
    "    b_log = np.array(df_not_zero['orders_sum_per_store'].apply(np.log))\n",
    "\n",
    "    if (stats.pearsonr(a_log, b_log)[0] > 0.7 or stats.pearsonr(a_log, b_log)[0] < -0.7) :\n",
    "        st_log = \"Potetnial-GMV log correlation. The result is strong relationship: \"\n",
    "    elif ((stats.pearsonr(a_log, b_log)[0] > 0.3 and stats.pearsonr(a_log, b_log)[0] < 0.7) or (stats.pearsonr(a_log, b_log)[0] > -0.7 and stats.pearsonr(a_log, b_log)[0] < -0.3)):\n",
    "        st_log = \"Potetnial-GMV log correlation. The result is moderate relationship: \"\n",
    "    elif ((stats.pearsonr(a_log, b_log)[0] > 0.1 and stats.pearsonr(a_log, b_log)[0] < 0.3) or (stats.pearsonr(a_log, b_log)[0] > -0.3 and stats.pearsonr(a_log, b_log)[0] < -0.1)):\n",
    "        st_log = \"Potetnial-GMV log correlation. The result is weak relationship: \"\n",
    "    else:\n",
    "        st_log = \"Potetnial-GMV log correlation. The result is no relationship: \"\n",
    "        \n",
    "    return print( str(st) + str(stats.pearsonr(a, b)[0])), print( str(st_log) + str(stats.pearsonr(a_log, b_log)[0]))\n",
    "\n",
    "\n",
    "\n",
    "#коэффициент корреляции пирсона - то же самое, но для ежедневного дохода\n",
    "def pierson_corr_int(df):\n",
    "    a = np.array(df['potential'])\n",
    "    b = np.array(df['gmv_per_int'])\n",
    "    \n",
    "    if (stats.pearsonr(a, b)[0] > 0.7 or stats.pearsonr(a, b)[0] < -0.7) :\n",
    "        st = \"Potetnial-Daily GMV correlation. The result is strong relationship: \"\n",
    "    elif ((stats.pearsonr(a, b)[0] > 0.3 and stats.pearsonr(a, b)[0] < 0.7) or (stats.pearsonr(a, b)[0] > -0.7 and stats.pearsonr(a, b)[0] < -0.3)):\n",
    "        st = \"Potetnial-Daily GMV correlation. The result is moderate relationship: \"\n",
    "    elif ((stats.pearsonr(a, b)[0] > 0.1 and stats.pearsonr(a, b)[0] < 0.3) or (stats.pearsonr(a, b)[0] > -0.3 and stats.pearsonr(a, b)[0] < -0.1)):\n",
    "        st = \"Potetnial-Daily GMV correlation. The result is weak relationship: \"\n",
    "    else:\n",
    "        st = \"Potetnial-Daily GMV correlation. The result is no relationship: \"\n",
    "    \n",
    "    df_not_zero = df.query('potential > 0')\n",
    "    \n",
    "    a_log = np.array(df_not_zero['potential'].apply(np.log))\n",
    "    b_log = np.array(df_not_zero['gmv_per_int'].apply(np.log))\n",
    "\n",
    "    if (stats.pearsonr(a_log, b_log)[0] > 0.7 or stats.pearsonr(a_log, b_log)[0] < -0.7) :\n",
    "        st_log = \"Potetnial-Daily GMV correlation. The result is strong relationship: \"\n",
    "    elif ((stats.pearsonr(a_log, b_log)[0] > 0.3 and stats.pearsonr(a_log, b_log)[0] < 0.7) or (stats.pearsonr(a_log, b_log)[0] > -0.7 and stats.pearsonr(a_log, b_log)[0] < -0.3)):\n",
    "        st_log = \"Potetnial-Daily GMV correlation. The result is moderate relationship: \"\n",
    "    elif ((stats.pearsonr(a_log, b_log)[0] > 0.1 and stats.pearsonr(a_log, b_log)[0] < 0.3) or (stats.pearsonr(a_log, b_log)[0] > -0.3 and stats.pearsonr(a_log, b_log)[0] < -0.1)):\n",
    "        st_log = \"Potetnial-Daily GMV correlation. The result is weak relationship: \"\n",
    "    else:\n",
    "        st_log = \"Potetnial-Daily GMV correlation. The result is no relationship: \"\n",
    "        \n",
    "    return print( str(st) + str(stats.pearsonr(a, b)[0])), print( str(st_log) + str(stats.pearsonr(a_log, b_log)[0]))"
   ]
  },
  {
   "cell_type": "code",
   "execution_count": 85,
   "id": "f0c2d23c",
   "metadata": {},
   "outputs": [
    {
     "name": "stdout",
     "output_type": "stream",
     "text": [
      "Potetnial-GMV correlation. The result is weak relationship: 0.288425056955411\n",
      "Potetnial-GMV log correlation. The result is weak relationship: 0.2070833720585255\n"
     ]
    }
   ],
   "source": [
    "pierson_corr(df_sales_90)[0]"
   ]
  },
  {
   "cell_type": "code",
   "execution_count": 86,
   "id": "5b35cf68",
   "metadata": {},
   "outputs": [
    {
     "name": "stdout",
     "output_type": "stream",
     "text": [
      "Potetnial-Daily GMV correlation. The result is weak relationship: 0.29556654330942544\n",
      "Potetnial-Daily GMV correlation. The result is weak relationship: 0.19954931410015636\n"
     ]
    }
   ],
   "source": [
    "pierson_corr_int(df_sales_90)[0]"
   ]
  },
  {
   "cell_type": "markdown",
   "id": "2e8eef1d",
   "metadata": {},
   "source": [
    "## Classification model "
   ]
  },
  {
   "cell_type": "markdown",
   "id": "5bf2a7d7",
   "metadata": {},
   "source": [
    "As we could see the potential score doesn't work as it was planned. Probably we can consider it like a binary classification model: in case when linear regression result about zero it should be really bad fact result in terms of GMV. Else we can't predict.\n",
    "\n",
    "In this case we consider predictive 1 and 0 according to store's medals and fact 1 and 0 should be related to some results of stores which were launched previously. We will get median, average and some percentiles of GMV to compare old and new stores."
   ]
  },
  {
   "cell_type": "code",
   "execution_count": 109,
   "id": "d21606f1",
   "metadata": {},
   "outputs": [],
   "source": [
    "def limit_gmv_gold_silv(df_input, limit):\n",
    "\n",
    "    df_input[\"medal\"] = df_input[\"medal\"].fillna('unknown')\n",
    "    df_input = df_input.query('medal != \"unknown\"')\n",
    "    df_input = df_input.sort_values(by = \"orders_sum_per_store\", ascending = False).reset_index()\n",
    "\n",
    "    df_input[\"predict\"] = 0\n",
    "    df_input[\"fact\"] = 0\n",
    "    \n",
    "    for i in range(df_input.shape[0]):\n",
    "\n",
    "        if (df_input.at[i, \"medal\"] == \"GOLD\" or df_input.at[i, \"medal\"] == \"SILVER\"):\n",
    "            df_input.at[i, \"predict\"] = 1\n",
    "        else:\n",
    "            df_input.at[i, \"predict\"] = 0\n",
    "\n",
    "        if df_input.at[i, \"orders_sum_per_store\"] > limit:\n",
    "            df_input.at[i, \"fact\"] = 1\n",
    "        else:\n",
    "            df_input.at[i, \"fact\"] = 0\n",
    "\n",
    "    TP = 0\n",
    "    FP = 0\n",
    "    TN = 0\n",
    "    FN = 0\n",
    "\n",
    "    for i in range(df_input.shape[0]):\n",
    "        if df_input.at[i, \"predict\"] == 1 and df_input.at[i, \"fact\"] == 1:\n",
    "            TP = TP + 1\n",
    "        if df_input.at[i, \"predict\"] == 1 and df_input.at[i, \"fact\"] == 0:\n",
    "            FP = FP + 1\n",
    "        if df_input.at[i, \"predict\"] == 0 and df_input.at[i, \"fact\"] == 0:\n",
    "            TN = TN + 1\n",
    "        if df_input.at[i, \"predict\"] == 0 and df_input.at[i, \"fact\"] == 1:\n",
    "            FN = FN + 1\n",
    "\n",
    "    precision = round((TP / (TP + FP)), 2)\n",
    "    recall = round((TP / (TP + FN)),2)\n",
    "    b = 1\n",
    "    F = round(((1 + b * b) * ((b * b) * precision * recall) / (precision + recall)),2)\n",
    "    FPR = round(((FP / (FP + TN))),2)\n",
    "    \n",
    "    return print ( (\"True Positive: \" + str(TP) + \" False Positive: \" + str(FP) + \" True Negative: \" + str(TN) + \" False Negative: \" + str(FN)) ), print( (\"precision: \" + str(precision)) ), print(\"recall: \" + str(recall)), print( (\"F-score: \") + (str(F)), print( (\"FPR: \") + str(FPR) )  )"
   ]
  },
  {
   "cell_type": "code",
   "execution_count": 110,
   "id": "064631a1",
   "metadata": {},
   "outputs": [
    {
     "name": "stdout",
     "output_type": "stream",
     "text": [
      "average value 102704\n",
      "True Positive: 172 False Positive: 209 True Negative: 178 False Negative: 68\n",
      "precision: 0.45\n",
      "recall: 0.72\n",
      "FPR: 0.54\n",
      "F-score: 0.55 None\n",
      "None\n",
      "\n",
      "median value 39680\n",
      "True Positive: 260 False Positive: 121 True Negative: 114 False Negative: 132\n",
      "precision: 0.68\n",
      "recall: 0.66\n",
      "FPR: 0.51\n",
      "F-score: 0.67 None\n",
      "None\n",
      "\n",
      "top10percent value 228787\n",
      "True Positive: 95 False Positive: 286 True Negative: 217 False Negative: 29\n",
      "precision: 0.25\n",
      "recall: 0.77\n",
      "FPR: 0.57\n",
      "F-score: 0.38 None\n",
      "None\n",
      "\n",
      "top15percent value 165192\n",
      "True Positive: 121 False Positive: 260 True Negative: 204 False Negative: 42\n",
      "precision: 0.32\n",
      "recall: 0.74\n",
      "FPR: 0.56\n",
      "F-score: 0.45 None\n",
      "None\n",
      "\n",
      "top20percent value 128303\n",
      "True Positive: 151 False Positive: 230 True Negative: 193 False Negative: 53\n",
      "precision: 0.4\n",
      "recall: 0.74\n",
      "FPR: 0.54\n",
      "F-score: 0.52 None\n",
      "None\n",
      "\n",
      "top25percent value 101508\n",
      "True Positive: 172 False Positive: 209 True Negative: 176 False Negative: 70\n",
      "precision: 0.45\n",
      "recall: 0.71\n",
      "FPR: 0.54\n",
      "F-score: 0.55 None\n",
      "None\n",
      "\n"
     ]
    }
   ],
   "source": [
    "keys = ['average', 'median', 'top10percent', 'top15percent', 'top20percent', 'top25percent']\n",
    "limits_90 = {'average': 102704, 'median': 39680, 'top10percent': 228787, 'top15percent': 165192, 'top20percent': 128303, 'top25percent': 101508}\n",
    "\n",
    "n = 90\n",
    "limits = limits_90\n",
    "df_pre_rec = groups_and_stats(df_sales, n)[0]\n",
    "\n",
    "for i in keys: \n",
    "    print (str(i) + \" value \" + str(limits[i]))\n",
    "    print(limit_gmv_gold_silv(df_pre_rec, limits[i])[0])\n",
    "    print(\"\")\n"
   ]
  },
  {
   "cell_type": "markdown",
   "id": "58639ba1",
   "metadata": {},
   "source": [
    "## Short conclusions"
   ]
  },
  {
   "cell_type": "markdown",
   "id": "aeac60e2",
   "metadata": {},
   "source": [
    "- There is weak correlation between potential and GMV (or orders) results of stores. Primary predictive logic doesn't work.\n",
    "- Nevertheless we can notice quite high rates of recall (> 0.7) it terms of using such model as classifications. Basically it means that attributes used in primary linear regression are not enough for store result defining. But when such attributes are about zero the probability of \"bad\" results (in terms of average / median results of existing stores) is high.\n",
    "- Due to large number of stores in area we should concentrate on recall growth."
   ]
  }
 ],
 "metadata": {
  "kernelspec": {
   "display_name": "Python 3",
   "language": "python",
   "name": "python3"
  },
  "language_info": {
   "codemirror_mode": {
    "name": "ipython",
    "version": 3
   },
   "file_extension": ".py",
   "mimetype": "text/x-python",
   "name": "python",
   "nbconvert_exporter": "python",
   "pygments_lexer": "ipython3",
   "version": "3.8.8"
  }
 },
 "nbformat": 4,
 "nbformat_minor": 5
}
